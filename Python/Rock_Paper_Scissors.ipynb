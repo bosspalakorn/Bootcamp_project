https://datalore.jetbrains.com/notebook/30R19BcMF2Y3FhTuOoGFr7/EIgyCWPzjBSbhl7glM8zgG/
