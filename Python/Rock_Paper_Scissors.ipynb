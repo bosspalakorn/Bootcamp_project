https://datalore.jetbrains.com/notebook/30R19BcMF2Y3FhTuOoGFr7/EIgyCWPzjBSbhl7glM8zgG/

print(" JOI rock paper scissors game ")
print("Welcome Krub, Let's play Pao Ying Chub !")
user_name = str(input("Please enter your name: "))
print("HI !",{user_name})
print("****************************")

print("JOI's rules")
print("****************************")
print("Select your number weapon")
print("P = Paper")
print("S = Scissor")
print("R = Rock")
print("****************************")

count = 0
draw = 0 
win = 0
lose = 0

while True:
    user = input(" Select weapon >> [P]paper, [S]scissors , [R]rock ): ")
    user = user.upper() 
    player_answer = ["P", "S", "R"] 
    joi_bot =rd.choice(player_answer)
    print(f"You choose {user}, computer choose {joi_bot}.")

    if user == joi_bot:
        print(f"Both players selected {user}.  Tie !")
        count += 1
        draw += 1
    elif user == "R":
        if joi_bot == "P":
            print("Rock win scissors! You win!")
            count += 1
            win += 1
        else:
            print("Paper win rock! You lose.")
            count += 1
            lose += 1
    elif user == "P":
        if joi_bot == "R":
            print("Paper win rock! You win!")
            count += 1
            win += 1
        else:
            print("Scissors win paper! You lose.")
            count += 1
            lose += 1
    elif user == "S":
        if joi_bot == "P":
            print("Scissors win paper! You win!")
            count += 1
            win += 1
        else:
            print("Rock win scissors! You lose.")
            count += 1
            lose += 1


# PLAY AGAIN 
    play_again = input("Do you want to play again? (Y/N): ")
    print("--------------------------------------------------------------") 
    if play_again.upper() != "Y":



# TOTAL SUMMARY
        print(f"You played {count} times.")
        print(" TOTAL SUMMARY ")
        print(f"You won {win} times.")
        print(f"You lose {lose} times.")
        print(f"You draw {draw} times.")
        print("--------------------------------------------------------------") 

        break
