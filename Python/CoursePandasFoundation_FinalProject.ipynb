{
 "cells":[
  {
   "cell_type":"markdown",
   "source":[
    "# Project"
   ],
   "attachments":{
    
   },
   "metadata":{
    "datalore":{
     "node_id":"Project",
     "type":"MD",
     "hide_input_from_viewers":false,
     "hide_output_from_viewers":false,
     "sheet_delimiter":true
    }
   }
  },
  {
   "cell_type":"markdown",
   "source":[
    "# Final Project - Analyzing Sales Data\n",
    "\n",
    "**Date**: 1 February 2022\n",
    "\n",
    "**Author**: Palakorn Kerdsap (Boss DataRockie)\n",
    "\n",
    "**Course**: `Pandas Foundation`\n"
   ],
   "attachments":{
    
   },
   "metadata":{
    "datalore":{
     "node_id":"lxr7X3RIHyYGe0TCFqjnLn",
     "type":"MD",
     "hide_input_from_viewers":false,
     "hide_output_from_viewers":false,
     "report_properties":{
      "y":0
     }
    }
   }
  },
  {
   "cell_type":"code",
   "source":[
    "# import data\n",
    "import pandas as pd\n",
    "df = pd.read_csv(\"sample-store.csv\")"
   ],
   "execution_count":50,
   "outputs":[
    
   ],
   "metadata":{
    "datalore":{
     "node_id":"AuIuPOnU9bUrTbxCLSK8BR",
     "type":"CODE",
     "hide_input_from_viewers":false,
     "hide_output_from_viewers":false,
     "report_properties":{
      "y":6
     }
    }
   }
  },
  {
   "cell_type":"code",
   "source":[
    "# preview top 5 rows\n",
    "df.head()"
   ],
   "execution_count":51,
   "outputs":[
    {
     "data":{
      "text\/html":[
       "<div>\n",
       "<style scoped>\n",
       "    .dataframe tbody tr th:only-of-type {\n",
       "        vertical-align: middle;\n",
       "    }\n",
       "\n",
       "    .dataframe tbody tr th {\n",
       "        vertical-align: top;\n",
       "    }\n",
       "\n",
       "    .dataframe thead th {\n",
       "        text-align: right;\n",
       "    }\n",
       "<\/style>\n",
       "<table border=\"1\" class=\"dataframe\">\n",
       "  <thead>\n",
       "    <tr style=\"text-align: right;\">\n",
       "      <th><\/th>\n",
       "      <th>Row ID<\/th>\n",
       "      <th>Order ID<\/th>\n",
       "      <th>Order Date<\/th>\n",
       "      <th>Ship Date<\/th>\n",
       "      <th>Ship Mode<\/th>\n",
       "      <th>Customer ID<\/th>\n",
       "      <th>Customer Name<\/th>\n",
       "      <th>Segment<\/th>\n",
       "      <th>Country\/Region<\/th>\n",
       "      <th>City<\/th>\n",
       "      <th>...<\/th>\n",
       "      <th>Postal Code<\/th>\n",
       "      <th>Region<\/th>\n",
       "      <th>Product ID<\/th>\n",
       "      <th>Category<\/th>\n",
       "      <th>Sub-Category<\/th>\n",
       "      <th>Product Name<\/th>\n",
       "      <th>Sales<\/th>\n",
       "      <th>Quantity<\/th>\n",
       "      <th>Discount<\/th>\n",
       "      <th>Profit<\/th>\n",
       "    <\/tr>\n",
       "  <\/thead>\n",
       "  <tbody>\n",
       "    <tr>\n",
       "      <th>0<\/th>\n",
       "      <td>1<\/td>\n",
       "      <td>CA-2019-152156<\/td>\n",
       "      <td>11\/8\/2019<\/td>\n",
       "      <td>11\/11\/2019<\/td>\n",
       "      <td>Second Class<\/td>\n",
       "      <td>CG-12520<\/td>\n",
       "      <td>Claire Gute<\/td>\n",
       "      <td>Consumer<\/td>\n",
       "      <td>United States<\/td>\n",
       "      <td>Henderson<\/td>\n",
       "      <td>...<\/td>\n",
       "      <td>42420.0<\/td>\n",
       "      <td>South<\/td>\n",
       "      <td>FUR-BO-10001798<\/td>\n",
       "      <td>Furniture<\/td>\n",
       "      <td>Bookcases<\/td>\n",
       "      <td>Bush Somerset Collection Bookcase<\/td>\n",
       "      <td>261.9600<\/td>\n",
       "      <td>2<\/td>\n",
       "      <td>0.00<\/td>\n",
       "      <td>41.9136<\/td>\n",
       "    <\/tr>\n",
       "    <tr>\n",
       "      <th>1<\/th>\n",
       "      <td>2<\/td>\n",
       "      <td>CA-2019-152156<\/td>\n",
       "      <td>11\/8\/2019<\/td>\n",
       "      <td>11\/11\/2019<\/td>\n",
       "      <td>Second Class<\/td>\n",
       "      <td>CG-12520<\/td>\n",
       "      <td>Claire Gute<\/td>\n",
       "      <td>Consumer<\/td>\n",
       "      <td>United States<\/td>\n",
       "      <td>Henderson<\/td>\n",
       "      <td>...<\/td>\n",
       "      <td>42420.0<\/td>\n",
       "      <td>South<\/td>\n",
       "      <td>FUR-CH-10000454<\/td>\n",
       "      <td>Furniture<\/td>\n",
       "      <td>Chairs<\/td>\n",
       "      <td>Hon Deluxe Fabric Upholstered Stacking Chairs,...<\/td>\n",
       "      <td>731.9400<\/td>\n",
       "      <td>3<\/td>\n",
       "      <td>0.00<\/td>\n",
       "      <td>219.5820<\/td>\n",
       "    <\/tr>\n",
       "    <tr>\n",
       "      <th>2<\/th>\n",
       "      <td>3<\/td>\n",
       "      <td>CA-2019-138688<\/td>\n",
       "      <td>6\/12\/2019<\/td>\n",
       "      <td>6\/16\/2019<\/td>\n",
       "      <td>Second Class<\/td>\n",
       "      <td>DV-13045<\/td>\n",
       "      <td>Darrin Van Huff<\/td>\n",
       "      <td>Corporate<\/td>\n",
       "      <td>United States<\/td>\n",
       "      <td>Los Angeles<\/td>\n",
       "      <td>...<\/td>\n",
       "      <td>90036.0<\/td>\n",
       "      <td>West<\/td>\n",
       "      <td>OFF-LA-10000240<\/td>\n",
       "      <td>Office Supplies<\/td>\n",
       "      <td>Labels<\/td>\n",
       "      <td>Self-Adhesive Address Labels for Typewriters b...<\/td>\n",
       "      <td>14.6200<\/td>\n",
       "      <td>2<\/td>\n",
       "      <td>0.00<\/td>\n",
       "      <td>6.8714<\/td>\n",
       "    <\/tr>\n",
       "    <tr>\n",
       "      <th>3<\/th>\n",
       "      <td>4<\/td>\n",
       "      <td>US-2018-108966<\/td>\n",
       "      <td>10\/11\/2018<\/td>\n",
       "      <td>10\/18\/2018<\/td>\n",
       "      <td>Standard Class<\/td>\n",
       "      <td>SO-20335<\/td>\n",
       "      <td>Sean O'Donnell<\/td>\n",
       "      <td>Consumer<\/td>\n",
       "      <td>United States<\/td>\n",
       "      <td>Fort Lauderdale<\/td>\n",
       "      <td>...<\/td>\n",
       "      <td>33311.0<\/td>\n",
       "      <td>South<\/td>\n",
       "      <td>FUR-TA-10000577<\/td>\n",
       "      <td>Furniture<\/td>\n",
       "      <td>Tables<\/td>\n",
       "      <td>Bretford CR4500 Series Slim Rectangular Table<\/td>\n",
       "      <td>957.5775<\/td>\n",
       "      <td>5<\/td>\n",
       "      <td>0.45<\/td>\n",
       "      <td>-383.0310<\/td>\n",
       "    <\/tr>\n",
       "    <tr>\n",
       "      <th>4<\/th>\n",
       "      <td>5<\/td>\n",
       "      <td>US-2018-108966<\/td>\n",
       "      <td>10\/11\/2018<\/td>\n",
       "      <td>10\/18\/2018<\/td>\n",
       "      <td>Standard Class<\/td>\n",
       "      <td>SO-20335<\/td>\n",
       "      <td>Sean O'Donnell<\/td>\n",
       "      <td>Consumer<\/td>\n",
       "      <td>United States<\/td>\n",
       "      <td>Fort Lauderdale<\/td>\n",
       "      <td>...<\/td>\n",
       "      <td>33311.0<\/td>\n",
       "      <td>South<\/td>\n",
       "      <td>OFF-ST-10000760<\/td>\n",
       "      <td>Office Supplies<\/td>\n",
       "      <td>Storage<\/td>\n",
       "      <td>Eldon Fold 'N Roll Cart System<\/td>\n",
       "      <td>22.3680<\/td>\n",
       "      <td>2<\/td>\n",
       "      <td>0.20<\/td>\n",
       "      <td>2.5164<\/td>\n",
       "    <\/tr>\n",
       "  <\/tbody>\n",
       "<\/table>\n",
       "<p>5 rows × 21 columns<\/p>\n",
       "<\/div>"
      ]
     },
     "metadata":{
      
     },
     "output_type":"display_data"
    }
   ],
   "metadata":{
    "datalore":{
     "node_id":"VrKjAGohA8FHDzikfUkZlh",
     "type":"CODE",
     "hide_input_from_viewers":false,
     "hide_output_from_viewers":false,
     "report_properties":{
      "y":10
     }
    }
   }
  },
  {
   "cell_type":"code",
   "source":[
    "# shape of dataframe\n",
    "df.shape"
   ],
   "execution_count":52,
   "outputs":[
    {
     "data":{
      "text\/plain":[
       "(9994, 21)"
      ]
     },
     "metadata":{
      
     },
     "output_type":"display_data"
    }
   ],
   "metadata":{
    "datalore":{
     "node_id":"O0AN2II9uDQtTfeLTw10s6",
     "type":"CODE",
     "hide_input_from_viewers":false,
     "hide_output_from_viewers":false,
     "report_properties":{
      "y":26
     }
    }
   }
  },
  {
   "cell_type":"code",
   "source":[
    "# see data frame information using .info()\n",
    "df.info()"
   ],
   "execution_count":53,
   "outputs":[
    {
     "name":"stdout",
     "text":[
      "<class 'pandas.core.frame.DataFrame'>\n",
      "RangeIndex: 9994 entries, 0 to 9993\n",
      "Data columns (total 21 columns):\n",
      " #   Column          Non-Null Count  Dtype  \n",
      "---  ------          --------------  -----  \n",
      " 0   Row ID          9994 non-null   int64  \n",
      " 1   Order ID        9994 non-null   object \n",
      " 2   Order Date      9994 non-null   object \n",
      " 3   Ship Date       9994 non-null   object \n",
      " 4   Ship Mode       9994 non-null   object \n",
      " 5   Customer ID     9994 non-null   object \n",
      " 6   Customer Name   9994 non-null   object \n",
      " 7   Segment         9994 non-null   object \n",
      " 8   Country\/Region  9994 non-null   object \n",
      " 9   City            9994 non-null   object \n",
      " 10  State           9994 non-null   object \n",
      " 11  Postal Code     9983 non-null   float64\n",
      " 12  Region          9994 non-null   object \n",
      " 13  Product ID      9994 non-null   object \n",
      " 14  Category        9994 non-null   object \n",
      " 15  Sub-Category    9994 non-null   object \n",
      " 16  Product Name    9994 non-null   object \n",
      " 17  Sales           9994 non-null   float64\n",
      " 18  Quantity        9994 non-null   int64  \n",
      " 19  Discount        9994 non-null   float64\n",
      " 20  Profit          9994 non-null   float64\n",
      "dtypes: float64(4), int64(2), object(15)\n",
      "memory usage: 1.6+ MB\n"
     ],
     "output_type":"stream"
    }
   ],
   "metadata":{
    "datalore":{
     "node_id":"MiVmzaiQdNzPWItdwQ7vtg",
     "type":"CODE",
     "hide_input_from_viewers":false,
     "hide_output_from_viewers":false,
     "report_properties":{
      "y":30
     }
    }
   }
  },
  {
   "cell_type":"markdown",
   "source":[
    "We can use `pd.to_datetime()` function to convert columns 'Order Date' and 'Ship Date' to datetime."
   ],
   "attachments":{
    
   },
   "metadata":{
    "datalore":{
     "node_id":"zMm0xQnCOfE0WonDsWeHrT",
     "type":"MD",
     "hide_input_from_viewers":false,
     "hide_output_from_viewers":false,
     "report_properties":{
      "y":43
     }
    }
   }
  },
  {
   "cell_type":"code",
   "source":[
    "# example of pd.to_datetime() function\n",
    "pd.to_datetime(df['Order Date'].head(), format='%m\/%d\/%Y')"
   ],
   "execution_count":54,
   "outputs":[
    {
     "data":{
      "text\/html":[
       "<pre>0   2019-11-08\n",
       "1   2019-11-08\n",
       "2   2019-06-12\n",
       "3   2018-10-11\n",
       "4   2018-10-11\n",
       "Name: Order Date, dtype: datetime64[ns]<\/pre>"
      ]
     },
     "metadata":{
      
     },
     "output_type":"display_data"
    }
   ],
   "metadata":{
    "datalore":{
     "node_id":"nJ683iKIIovkN8X8L0VQjj",
     "type":"CODE",
     "hide_input_from_viewers":true,
     "hide_output_from_viewers":true
    }
   }
  },
  {
   "cell_type":"code",
   "source":[
    "# TODO - convert order date and ship date to datetime in the original dataframe\n",
    "df['Order Date'] = pd.to_datetime(df['Order Date'], format='%m\/%d\/%Y')\n",
    "df['Ship Date'] = pd.to_datetime(df['Ship Date'], format='%m\/%d\/%Y')\n",
    "df.head()"
   ],
   "execution_count":55,
   "outputs":[
    {
     "data":{
      "text\/html":[
       "<div>\n",
       "<style scoped>\n",
       "    .dataframe tbody tr th:only-of-type {\n",
       "        vertical-align: middle;\n",
       "    }\n",
       "\n",
       "    .dataframe tbody tr th {\n",
       "        vertical-align: top;\n",
       "    }\n",
       "\n",
       "    .dataframe thead th {\n",
       "        text-align: right;\n",
       "    }\n",
       "<\/style>\n",
       "<table border=\"1\" class=\"dataframe\">\n",
       "  <thead>\n",
       "    <tr style=\"text-align: right;\">\n",
       "      <th><\/th>\n",
       "      <th>Row ID<\/th>\n",
       "      <th>Order ID<\/th>\n",
       "      <th>Order Date<\/th>\n",
       "      <th>Ship Date<\/th>\n",
       "      <th>Ship Mode<\/th>\n",
       "      <th>Customer ID<\/th>\n",
       "      <th>Customer Name<\/th>\n",
       "      <th>Segment<\/th>\n",
       "      <th>Country\/Region<\/th>\n",
       "      <th>City<\/th>\n",
       "      <th>...<\/th>\n",
       "      <th>Postal Code<\/th>\n",
       "      <th>Region<\/th>\n",
       "      <th>Product ID<\/th>\n",
       "      <th>Category<\/th>\n",
       "      <th>Sub-Category<\/th>\n",
       "      <th>Product Name<\/th>\n",
       "      <th>Sales<\/th>\n",
       "      <th>Quantity<\/th>\n",
       "      <th>Discount<\/th>\n",
       "      <th>Profit<\/th>\n",
       "    <\/tr>\n",
       "  <\/thead>\n",
       "  <tbody>\n",
       "    <tr>\n",
       "      <th>0<\/th>\n",
       "      <td>1<\/td>\n",
       "      <td>CA-2019-152156<\/td>\n",
       "      <td>2019-11-08<\/td>\n",
       "      <td>2019-11-11<\/td>\n",
       "      <td>Second Class<\/td>\n",
       "      <td>CG-12520<\/td>\n",
       "      <td>Claire Gute<\/td>\n",
       "      <td>Consumer<\/td>\n",
       "      <td>United States<\/td>\n",
       "      <td>Henderson<\/td>\n",
       "      <td>...<\/td>\n",
       "      <td>42420.0<\/td>\n",
       "      <td>South<\/td>\n",
       "      <td>FUR-BO-10001798<\/td>\n",
       "      <td>Furniture<\/td>\n",
       "      <td>Bookcases<\/td>\n",
       "      <td>Bush Somerset Collection Bookcase<\/td>\n",
       "      <td>261.9600<\/td>\n",
       "      <td>2<\/td>\n",
       "      <td>0.00<\/td>\n",
       "      <td>41.9136<\/td>\n",
       "    <\/tr>\n",
       "    <tr>\n",
       "      <th>1<\/th>\n",
       "      <td>2<\/td>\n",
       "      <td>CA-2019-152156<\/td>\n",
       "      <td>2019-11-08<\/td>\n",
       "      <td>2019-11-11<\/td>\n",
       "      <td>Second Class<\/td>\n",
       "      <td>CG-12520<\/td>\n",
       "      <td>Claire Gute<\/td>\n",
       "      <td>Consumer<\/td>\n",
       "      <td>United States<\/td>\n",
       "      <td>Henderson<\/td>\n",
       "      <td>...<\/td>\n",
       "      <td>42420.0<\/td>\n",
       "      <td>South<\/td>\n",
       "      <td>FUR-CH-10000454<\/td>\n",
       "      <td>Furniture<\/td>\n",
       "      <td>Chairs<\/td>\n",
       "      <td>Hon Deluxe Fabric Upholstered Stacking Chairs,...<\/td>\n",
       "      <td>731.9400<\/td>\n",
       "      <td>3<\/td>\n",
       "      <td>0.00<\/td>\n",
       "      <td>219.5820<\/td>\n",
       "    <\/tr>\n",
       "    <tr>\n",
       "      <th>2<\/th>\n",
       "      <td>3<\/td>\n",
       "      <td>CA-2019-138688<\/td>\n",
       "      <td>2019-06-12<\/td>\n",
       "      <td>2019-06-16<\/td>\n",
       "      <td>Second Class<\/td>\n",
       "      <td>DV-13045<\/td>\n",
       "      <td>Darrin Van Huff<\/td>\n",
       "      <td>Corporate<\/td>\n",
       "      <td>United States<\/td>\n",
       "      <td>Los Angeles<\/td>\n",
       "      <td>...<\/td>\n",
       "      <td>90036.0<\/td>\n",
       "      <td>West<\/td>\n",
       "      <td>OFF-LA-10000240<\/td>\n",
       "      <td>Office Supplies<\/td>\n",
       "      <td>Labels<\/td>\n",
       "      <td>Self-Adhesive Address Labels for Typewriters b...<\/td>\n",
       "      <td>14.6200<\/td>\n",
       "      <td>2<\/td>\n",
       "      <td>0.00<\/td>\n",
       "      <td>6.8714<\/td>\n",
       "    <\/tr>\n",
       "    <tr>\n",
       "      <th>3<\/th>\n",
       "      <td>4<\/td>\n",
       "      <td>US-2018-108966<\/td>\n",
       "      <td>2018-10-11<\/td>\n",
       "      <td>2018-10-18<\/td>\n",
       "      <td>Standard Class<\/td>\n",
       "      <td>SO-20335<\/td>\n",
       "      <td>Sean O'Donnell<\/td>\n",
       "      <td>Consumer<\/td>\n",
       "      <td>United States<\/td>\n",
       "      <td>Fort Lauderdale<\/td>\n",
       "      <td>...<\/td>\n",
       "      <td>33311.0<\/td>\n",
       "      <td>South<\/td>\n",
       "      <td>FUR-TA-10000577<\/td>\n",
       "      <td>Furniture<\/td>\n",
       "      <td>Tables<\/td>\n",
       "      <td>Bretford CR4500 Series Slim Rectangular Table<\/td>\n",
       "      <td>957.5775<\/td>\n",
       "      <td>5<\/td>\n",
       "      <td>0.45<\/td>\n",
       "      <td>-383.0310<\/td>\n",
       "    <\/tr>\n",
       "    <tr>\n",
       "      <th>4<\/th>\n",
       "      <td>5<\/td>\n",
       "      <td>US-2018-108966<\/td>\n",
       "      <td>2018-10-11<\/td>\n",
       "      <td>2018-10-18<\/td>\n",
       "      <td>Standard Class<\/td>\n",
       "      <td>SO-20335<\/td>\n",
       "      <td>Sean O'Donnell<\/td>\n",
       "      <td>Consumer<\/td>\n",
       "      <td>United States<\/td>\n",
       "      <td>Fort Lauderdale<\/td>\n",
       "      <td>...<\/td>\n",
       "      <td>33311.0<\/td>\n",
       "      <td>South<\/td>\n",
       "      <td>OFF-ST-10000760<\/td>\n",
       "      <td>Office Supplies<\/td>\n",
       "      <td>Storage<\/td>\n",
       "      <td>Eldon Fold 'N Roll Cart System<\/td>\n",
       "      <td>22.3680<\/td>\n",
       "      <td>2<\/td>\n",
       "      <td>0.20<\/td>\n",
       "      <td>2.5164<\/td>\n",
       "    <\/tr>\n",
       "  <\/tbody>\n",
       "<\/table>\n",
       "<p>5 rows × 21 columns<\/p>\n",
       "<\/div>"
      ]
     },
     "metadata":{
      
     },
     "output_type":"display_data"
    }
   ],
   "metadata":{
    "datalore":{
     "node_id":"eIAJWRgK4jg2xjUlEFHjQ2",
     "type":"CODE",
     "hide_input_from_viewers":false,
     "hide_output_from_viewers":false,
     "report_properties":{
      "y":46
     }
    }
   }
  },
  {
   "cell_type":"code",
   "source":[
    "# TODO - convert order date and ship date to datetime in the original dataframe\n",
    "df.reset_index()"
   ],
   "execution_count":56,
   "outputs":[
    {
     "data":{
      "text\/html":[
       "<div>\n",
       "<style scoped>\n",
       "    .dataframe tbody tr th:only-of-type {\n",
       "        vertical-align: middle;\n",
       "    }\n",
       "\n",
       "    .dataframe tbody tr th {\n",
       "        vertical-align: top;\n",
       "    }\n",
       "\n",
       "    .dataframe thead th {\n",
       "        text-align: right;\n",
       "    }\n",
       "<\/style>\n",
       "<table border=\"1\" class=\"dataframe\">\n",
       "  <thead>\n",
       "    <tr style=\"text-align: right;\">\n",
       "      <th><\/th>\n",
       "      <th>index<\/th>\n",
       "      <th>Row ID<\/th>\n",
       "      <th>Order ID<\/th>\n",
       "      <th>Order Date<\/th>\n",
       "      <th>Ship Date<\/th>\n",
       "      <th>Ship Mode<\/th>\n",
       "      <th>Customer ID<\/th>\n",
       "      <th>Customer Name<\/th>\n",
       "      <th>Segment<\/th>\n",
       "      <th>Country\/Region<\/th>\n",
       "      <th>...<\/th>\n",
       "      <th>Postal Code<\/th>\n",
       "      <th>Region<\/th>\n",
       "      <th>Product ID<\/th>\n",
       "      <th>Category<\/th>\n",
       "      <th>Sub-Category<\/th>\n",
       "      <th>Product Name<\/th>\n",
       "      <th>Sales<\/th>\n",
       "      <th>Quantity<\/th>\n",
       "      <th>Discount<\/th>\n",
       "      <th>Profit<\/th>\n",
       "    <\/tr>\n",
       "  <\/thead>\n",
       "  <tbody>\n",
       "    <tr>\n",
       "      <th>0<\/th>\n",
       "      <td>0<\/td>\n",
       "      <td>1<\/td>\n",
       "      <td>CA-2019-152156<\/td>\n",
       "      <td>2019-11-08<\/td>\n",
       "      <td>2019-11-11<\/td>\n",
       "      <td>Second Class<\/td>\n",
       "      <td>CG-12520<\/td>\n",
       "      <td>Claire Gute<\/td>\n",
       "      <td>Consumer<\/td>\n",
       "      <td>United States<\/td>\n",
       "      <td>...<\/td>\n",
       "      <td>42420.0<\/td>\n",
       "      <td>South<\/td>\n",
       "      <td>FUR-BO-10001798<\/td>\n",
       "      <td>Furniture<\/td>\n",
       "      <td>Bookcases<\/td>\n",
       "      <td>Bush Somerset Collection Bookcase<\/td>\n",
       "      <td>261.9600<\/td>\n",
       "      <td>2<\/td>\n",
       "      <td>0.00<\/td>\n",
       "      <td>41.9136<\/td>\n",
       "    <\/tr>\n",
       "    <tr>\n",
       "      <th>1<\/th>\n",
       "      <td>1<\/td>\n",
       "      <td>2<\/td>\n",
       "      <td>CA-2019-152156<\/td>\n",
       "      <td>2019-11-08<\/td>\n",
       "      <td>2019-11-11<\/td>\n",
       "      <td>Second Class<\/td>\n",
       "      <td>CG-12520<\/td>\n",
       "      <td>Claire Gute<\/td>\n",
       "      <td>Consumer<\/td>\n",
       "      <td>United States<\/td>\n",
       "      <td>...<\/td>\n",
       "      <td>42420.0<\/td>\n",
       "      <td>South<\/td>\n",
       "      <td>FUR-CH-10000454<\/td>\n",
       "      <td>Furniture<\/td>\n",
       "      <td>Chairs<\/td>\n",
       "      <td>Hon Deluxe Fabric Upholstered Stacking Chairs,...<\/td>\n",
       "      <td>731.9400<\/td>\n",
       "      <td>3<\/td>\n",
       "      <td>0.00<\/td>\n",
       "      <td>219.5820<\/td>\n",
       "    <\/tr>\n",
       "    <tr>\n",
       "      <th>2<\/th>\n",
       "      <td>2<\/td>\n",
       "      <td>3<\/td>\n",
       "      <td>CA-2019-138688<\/td>\n",
       "      <td>2019-06-12<\/td>\n",
       "      <td>2019-06-16<\/td>\n",
       "      <td>Second Class<\/td>\n",
       "      <td>DV-13045<\/td>\n",
       "      <td>Darrin Van Huff<\/td>\n",
       "      <td>Corporate<\/td>\n",
       "      <td>United States<\/td>\n",
       "      <td>...<\/td>\n",
       "      <td>90036.0<\/td>\n",
       "      <td>West<\/td>\n",
       "      <td>OFF-LA-10000240<\/td>\n",
       "      <td>Office Supplies<\/td>\n",
       "      <td>Labels<\/td>\n",
       "      <td>Self-Adhesive Address Labels for Typewriters b...<\/td>\n",
       "      <td>14.6200<\/td>\n",
       "      <td>2<\/td>\n",
       "      <td>0.00<\/td>\n",
       "      <td>6.8714<\/td>\n",
       "    <\/tr>\n",
       "    <tr>\n",
       "      <th>3<\/th>\n",
       "      <td>3<\/td>\n",
       "      <td>4<\/td>\n",
       "      <td>US-2018-108966<\/td>\n",
       "      <td>2018-10-11<\/td>\n",
       "      <td>2018-10-18<\/td>\n",
       "      <td>Standard Class<\/td>\n",
       "      <td>SO-20335<\/td>\n",
       "      <td>Sean O'Donnell<\/td>\n",
       "      <td>Consumer<\/td>\n",
       "      <td>United States<\/td>\n",
       "      <td>...<\/td>\n",
       "      <td>33311.0<\/td>\n",
       "      <td>South<\/td>\n",
       "      <td>FUR-TA-10000577<\/td>\n",
       "      <td>Furniture<\/td>\n",
       "      <td>Tables<\/td>\n",
       "      <td>Bretford CR4500 Series Slim Rectangular Table<\/td>\n",
       "      <td>957.5775<\/td>\n",
       "      <td>5<\/td>\n",
       "      <td>0.45<\/td>\n",
       "      <td>-383.0310<\/td>\n",
       "    <\/tr>\n",
       "    <tr>\n",
       "      <th>4<\/th>\n",
       "      <td>4<\/td>\n",
       "      <td>5<\/td>\n",
       "      <td>US-2018-108966<\/td>\n",
       "      <td>2018-10-11<\/td>\n",
       "      <td>2018-10-18<\/td>\n",
       "      <td>Standard Class<\/td>\n",
       "      <td>SO-20335<\/td>\n",
       "      <td>Sean O'Donnell<\/td>\n",
       "      <td>Consumer<\/td>\n",
       "      <td>United States<\/td>\n",
       "      <td>...<\/td>\n",
       "      <td>33311.0<\/td>\n",
       "      <td>South<\/td>\n",
       "      <td>OFF-ST-10000760<\/td>\n",
       "      <td>Office Supplies<\/td>\n",
       "      <td>Storage<\/td>\n",
       "      <td>Eldon Fold 'N Roll Cart System<\/td>\n",
       "      <td>22.3680<\/td>\n",
       "      <td>2<\/td>\n",
       "      <td>0.20<\/td>\n",
       "      <td>2.5164<\/td>\n",
       "    <\/tr>\n",
       "    <tr>\n",
       "      <th>...<\/th>\n",
       "      <td>...<\/td>\n",
       "      <td>...<\/td>\n",
       "      <td>...<\/td>\n",
       "      <td>...<\/td>\n",
       "      <td>...<\/td>\n",
       "      <td>...<\/td>\n",
       "      <td>...<\/td>\n",
       "      <td>...<\/td>\n",
       "      <td>...<\/td>\n",
       "      <td>...<\/td>\n",
       "      <td>...<\/td>\n",
       "      <td>...<\/td>\n",
       "      <td>...<\/td>\n",
       "      <td>...<\/td>\n",
       "      <td>...<\/td>\n",
       "      <td>...<\/td>\n",
       "      <td>...<\/td>\n",
       "      <td>...<\/td>\n",
       "      <td>...<\/td>\n",
       "      <td>...<\/td>\n",
       "      <td>...<\/td>\n",
       "    <\/tr>\n",
       "    <tr>\n",
       "      <th>9989<\/th>\n",
       "      <td>9989<\/td>\n",
       "      <td>9990<\/td>\n",
       "      <td>CA-2017-110422<\/td>\n",
       "      <td>2017-01-21<\/td>\n",
       "      <td>2017-01-23<\/td>\n",
       "      <td>Second Class<\/td>\n",
       "      <td>TB-21400<\/td>\n",
       "      <td>Tom Boeckenhauer<\/td>\n",
       "      <td>Consumer<\/td>\n",
       "      <td>United States<\/td>\n",
       "      <td>...<\/td>\n",
       "      <td>33180.0<\/td>\n",
       "      <td>South<\/td>\n",
       "      <td>FUR-FU-10001889<\/td>\n",
       "      <td>Furniture<\/td>\n",
       "      <td>Furnishings<\/td>\n",
       "      <td>Ultra Door Pull Handle<\/td>\n",
       "      <td>25.2480<\/td>\n",
       "      <td>3<\/td>\n",
       "      <td>0.20<\/td>\n",
       "      <td>4.1028<\/td>\n",
       "    <\/tr>\n",
       "    <tr>\n",
       "      <th>9990<\/th>\n",
       "      <td>9990<\/td>\n",
       "      <td>9991<\/td>\n",
       "      <td>CA-2020-121258<\/td>\n",
       "      <td>2020-02-26<\/td>\n",
       "      <td>2020-03-03<\/td>\n",
       "      <td>Standard Class<\/td>\n",
       "      <td>DB-13060<\/td>\n",
       "      <td>Dave Brooks<\/td>\n",
       "      <td>Consumer<\/td>\n",
       "      <td>United States<\/td>\n",
       "      <td>...<\/td>\n",
       "      <td>92627.0<\/td>\n",
       "      <td>West<\/td>\n",
       "      <td>FUR-FU-10000747<\/td>\n",
       "      <td>Furniture<\/td>\n",
       "      <td>Furnishings<\/td>\n",
       "      <td>Tenex B1-RE Series Chair Mats for Low Pile Car...<\/td>\n",
       "      <td>91.9600<\/td>\n",
       "      <td>2<\/td>\n",
       "      <td>0.00<\/td>\n",
       "      <td>15.6332<\/td>\n",
       "    <\/tr>\n",
       "    <tr>\n",
       "      <th>9991<\/th>\n",
       "      <td>9991<\/td>\n",
       "      <td>9992<\/td>\n",
       "      <td>CA-2020-121258<\/td>\n",
       "      <td>2020-02-26<\/td>\n",
       "      <td>2020-03-03<\/td>\n",
       "      <td>Standard Class<\/td>\n",
       "      <td>DB-13060<\/td>\n",
       "      <td>Dave Brooks<\/td>\n",
       "      <td>Consumer<\/td>\n",
       "      <td>United States<\/td>\n",
       "      <td>...<\/td>\n",
       "      <td>92627.0<\/td>\n",
       "      <td>West<\/td>\n",
       "      <td>TEC-PH-10003645<\/td>\n",
       "      <td>Technology<\/td>\n",
       "      <td>Phones<\/td>\n",
       "      <td>Aastra 57i VoIP phone<\/td>\n",
       "      <td>258.5760<\/td>\n",
       "      <td>2<\/td>\n",
       "      <td>0.20<\/td>\n",
       "      <td>19.3932<\/td>\n",
       "    <\/tr>\n",
       "    <tr>\n",
       "      <th>9992<\/th>\n",
       "      <td>9992<\/td>\n",
       "      <td>9993<\/td>\n",
       "      <td>CA-2020-121258<\/td>\n",
       "      <td>2020-02-26<\/td>\n",
       "      <td>2020-03-03<\/td>\n",
       "      <td>Standard Class<\/td>\n",
       "      <td>DB-13060<\/td>\n",
       "      <td>Dave Brooks<\/td>\n",
       "      <td>Consumer<\/td>\n",
       "      <td>United States<\/td>\n",
       "      <td>...<\/td>\n",
       "      <td>92627.0<\/td>\n",
       "      <td>West<\/td>\n",
       "      <td>OFF-PA-10004041<\/td>\n",
       "      <td>Office Supplies<\/td>\n",
       "      <td>Paper<\/td>\n",
       "      <td>It's Hot Message Books with Stickers, 2 3\/4\" x 5\"<\/td>\n",
       "      <td>29.6000<\/td>\n",
       "      <td>4<\/td>\n",
       "      <td>0.00<\/td>\n",
       "      <td>13.3200<\/td>\n",
       "    <\/tr>\n",
       "    <tr>\n",
       "      <th>9993<\/th>\n",
       "      <td>9993<\/td>\n",
       "      <td>9994<\/td>\n",
       "      <td>CA-2020-119914<\/td>\n",
       "      <td>2020-05-04<\/td>\n",
       "      <td>2020-05-09<\/td>\n",
       "      <td>Second Class<\/td>\n",
       "      <td>CC-12220<\/td>\n",
       "      <td>Chris Cortes<\/td>\n",
       "      <td>Consumer<\/td>\n",
       "      <td>United States<\/td>\n",
       "      <td>...<\/td>\n",
       "      <td>92683.0<\/td>\n",
       "      <td>West<\/td>\n",
       "      <td>OFF-AP-10002684<\/td>\n",
       "      <td>Office Supplies<\/td>\n",
       "      <td>Appliances<\/td>\n",
       "      <td>Acco 7-Outlet Masterpiece Power Center, Wihtou...<\/td>\n",
       "      <td>243.1600<\/td>\n",
       "      <td>2<\/td>\n",
       "      <td>0.00<\/td>\n",
       "      <td>72.9480<\/td>\n",
       "    <\/tr>\n",
       "  <\/tbody>\n",
       "<\/table>\n",
       "<p>9994 rows × 22 columns<\/p>\n",
       "<\/div>"
      ]
     },
     "metadata":{
      
     },
     "output_type":"display_data"
    }
   ],
   "metadata":{
    "datalore":{
     "node_id":"x8UGdnnPENlG1sS0wfS7nr",
     "type":"CODE",
     "hide_input_from_viewers":true,
     "hide_output_from_viewers":true
    }
   }
  },
  {
   "cell_type":"code",
   "source":[
    "# TODO - count nan in postal code column\n",
    "df['Postal Code'].isna().sum()"
   ],
   "execution_count":57,
   "outputs":[
    {
     "data":{
      "text\/plain":[
       "11"
      ]
     },
     "metadata":{
      
     },
     "output_type":"display_data"
    }
   ],
   "metadata":{
    "datalore":{
     "node_id":"oYpw8Sh1yQXU3qQxvq2gBl",
     "type":"CODE",
     "hide_input_from_viewers":false,
     "hide_output_from_viewers":false,
     "report_properties":{
      "y":63
     }
    }
   }
  },
  {
   "cell_type":"code",
   "source":[
    "# TODO - filter rows with missing values\n",
    "df[df.isna().any(axis=1)]"
   ],
   "execution_count":58,
   "outputs":[
    {
     "data":{
      "text\/html":[
       "<div>\n",
       "<style scoped>\n",
       "    .dataframe tbody tr th:only-of-type {\n",
       "        vertical-align: middle;\n",
       "    }\n",
       "\n",
       "    .dataframe tbody tr th {\n",
       "        vertical-align: top;\n",
       "    }\n",
       "\n",
       "    .dataframe thead th {\n",
       "        text-align: right;\n",
       "    }\n",
       "<\/style>\n",
       "<table border=\"1\" class=\"dataframe\">\n",
       "  <thead>\n",
       "    <tr style=\"text-align: right;\">\n",
       "      <th><\/th>\n",
       "      <th>Row ID<\/th>\n",
       "      <th>Order ID<\/th>\n",
       "      <th>Order Date<\/th>\n",
       "      <th>Ship Date<\/th>\n",
       "      <th>Ship Mode<\/th>\n",
       "      <th>Customer ID<\/th>\n",
       "      <th>Customer Name<\/th>\n",
       "      <th>Segment<\/th>\n",
       "      <th>Country\/Region<\/th>\n",
       "      <th>City<\/th>\n",
       "      <th>...<\/th>\n",
       "      <th>Postal Code<\/th>\n",
       "      <th>Region<\/th>\n",
       "      <th>Product ID<\/th>\n",
       "      <th>Category<\/th>\n",
       "      <th>Sub-Category<\/th>\n",
       "      <th>Product Name<\/th>\n",
       "      <th>Sales<\/th>\n",
       "      <th>Quantity<\/th>\n",
       "      <th>Discount<\/th>\n",
       "      <th>Profit<\/th>\n",
       "    <\/tr>\n",
       "  <\/thead>\n",
       "  <tbody>\n",
       "    <tr>\n",
       "      <th>2234<\/th>\n",
       "      <td>2235<\/td>\n",
       "      <td>CA-2020-104066<\/td>\n",
       "      <td>2020-12-05<\/td>\n",
       "      <td>2020-12-10<\/td>\n",
       "      <td>Standard Class<\/td>\n",
       "      <td>QJ-19255<\/td>\n",
       "      <td>Quincy Jones<\/td>\n",
       "      <td>Corporate<\/td>\n",
       "      <td>United States<\/td>\n",
       "      <td>Burlington<\/td>\n",
       "      <td>...<\/td>\n",
       "      <td>NaN<\/td>\n",
       "      <td>East<\/td>\n",
       "      <td>TEC-AC-10001013<\/td>\n",
       "      <td>Technology<\/td>\n",
       "      <td>Accessories<\/td>\n",
       "      <td>Logitech ClearChat Comfort\/USB Headset H390<\/td>\n",
       "      <td>205.03<\/td>\n",
       "      <td>7<\/td>\n",
       "      <td>0.0<\/td>\n",
       "      <td>67.6599<\/td>\n",
       "    <\/tr>\n",
       "    <tr>\n",
       "      <th>5274<\/th>\n",
       "      <td>5275<\/td>\n",
       "      <td>CA-2018-162887<\/td>\n",
       "      <td>2018-11-07<\/td>\n",
       "      <td>2018-11-09<\/td>\n",
       "      <td>Second Class<\/td>\n",
       "      <td>SV-20785<\/td>\n",
       "      <td>Stewart Visinsky<\/td>\n",
       "      <td>Consumer<\/td>\n",
       "      <td>United States<\/td>\n",
       "      <td>Burlington<\/td>\n",
       "      <td>...<\/td>\n",
       "      <td>NaN<\/td>\n",
       "      <td>East<\/td>\n",
       "      <td>FUR-CH-10000595<\/td>\n",
       "      <td>Furniture<\/td>\n",
       "      <td>Chairs<\/td>\n",
       "      <td>Safco Contoured Stacking Chairs<\/td>\n",
       "      <td>715.20<\/td>\n",
       "      <td>3<\/td>\n",
       "      <td>0.0<\/td>\n",
       "      <td>178.8000<\/td>\n",
       "    <\/tr>\n",
       "    <tr>\n",
       "      <th>8798<\/th>\n",
       "      <td>8799<\/td>\n",
       "      <td>US-2019-150140<\/td>\n",
       "      <td>2019-04-06<\/td>\n",
       "      <td>2019-04-10<\/td>\n",
       "      <td>Standard Class<\/td>\n",
       "      <td>VM-21685<\/td>\n",
       "      <td>Valerie Mitchum<\/td>\n",
       "      <td>Home Office<\/td>\n",
       "      <td>United States<\/td>\n",
       "      <td>Burlington<\/td>\n",
       "      <td>...<\/td>\n",
       "      <td>NaN<\/td>\n",
       "      <td>East<\/td>\n",
       "      <td>TEC-PH-10002555<\/td>\n",
       "      <td>Technology<\/td>\n",
       "      <td>Phones<\/td>\n",
       "      <td>Nortel Meridian M5316 Digital phone<\/td>\n",
       "      <td>1294.75<\/td>\n",
       "      <td>5<\/td>\n",
       "      <td>0.0<\/td>\n",
       "      <td>336.6350<\/td>\n",
       "    <\/tr>\n",
       "    <tr>\n",
       "      <th>9146<\/th>\n",
       "      <td>9147<\/td>\n",
       "      <td>US-2019-165505<\/td>\n",
       "      <td>2019-01-23<\/td>\n",
       "      <td>2019-01-27<\/td>\n",
       "      <td>Standard Class<\/td>\n",
       "      <td>CB-12535<\/td>\n",
       "      <td>Claudia Bergmann<\/td>\n",
       "      <td>Corporate<\/td>\n",
       "      <td>United States<\/td>\n",
       "      <td>Burlington<\/td>\n",
       "      <td>...<\/td>\n",
       "      <td>NaN<\/td>\n",
       "      <td>East<\/td>\n",
       "      <td>TEC-AC-10002926<\/td>\n",
       "      <td>Technology<\/td>\n",
       "      <td>Accessories<\/td>\n",
       "      <td>Logitech Wireless Marathon Mouse M705<\/td>\n",
       "      <td>99.98<\/td>\n",
       "      <td>2<\/td>\n",
       "      <td>0.0<\/td>\n",
       "      <td>42.9914<\/td>\n",
       "    <\/tr>\n",
       "    <tr>\n",
       "      <th>9147<\/th>\n",
       "      <td>9148<\/td>\n",
       "      <td>US-2019-165505<\/td>\n",
       "      <td>2019-01-23<\/td>\n",
       "      <td>2019-01-27<\/td>\n",
       "      <td>Standard Class<\/td>\n",
       "      <td>CB-12535<\/td>\n",
       "      <td>Claudia Bergmann<\/td>\n",
       "      <td>Corporate<\/td>\n",
       "      <td>United States<\/td>\n",
       "      <td>Burlington<\/td>\n",
       "      <td>...<\/td>\n",
       "      <td>NaN<\/td>\n",
       "      <td>East<\/td>\n",
       "      <td>OFF-AR-10003477<\/td>\n",
       "      <td>Office Supplies<\/td>\n",
       "      <td>Art<\/td>\n",
       "      <td>4009 Highlighters<\/td>\n",
       "      <td>8.04<\/td>\n",
       "      <td>6<\/td>\n",
       "      <td>0.0<\/td>\n",
       "      <td>2.7336<\/td>\n",
       "    <\/tr>\n",
       "    <tr>\n",
       "      <th>9148<\/th>\n",
       "      <td>9149<\/td>\n",
       "      <td>US-2019-165505<\/td>\n",
       "      <td>2019-01-23<\/td>\n",
       "      <td>2019-01-27<\/td>\n",
       "      <td>Standard Class<\/td>\n",
       "      <td>CB-12535<\/td>\n",
       "      <td>Claudia Bergmann<\/td>\n",
       "      <td>Corporate<\/td>\n",
       "      <td>United States<\/td>\n",
       "      <td>Burlington<\/td>\n",
       "      <td>...<\/td>\n",
       "      <td>NaN<\/td>\n",
       "      <td>East<\/td>\n",
       "      <td>OFF-ST-10001526<\/td>\n",
       "      <td>Office Supplies<\/td>\n",
       "      <td>Storage<\/td>\n",
       "      <td>Iceberg Mobile Mega Data\/Printer Cart<\/td>\n",
       "      <td>1564.29<\/td>\n",
       "      <td>13<\/td>\n",
       "      <td>0.0<\/td>\n",
       "      <td>406.7154<\/td>\n",
       "    <\/tr>\n",
       "    <tr>\n",
       "      <th>9386<\/th>\n",
       "      <td>9387<\/td>\n",
       "      <td>US-2020-127292<\/td>\n",
       "      <td>2020-01-19<\/td>\n",
       "      <td>2020-01-23<\/td>\n",
       "      <td>Standard Class<\/td>\n",
       "      <td>RM-19375<\/td>\n",
       "      <td>Raymond Messe<\/td>\n",
       "      <td>Consumer<\/td>\n",
       "      <td>United States<\/td>\n",
       "      <td>Burlington<\/td>\n",
       "      <td>...<\/td>\n",
       "      <td>NaN<\/td>\n",
       "      <td>East<\/td>\n",
       "      <td>OFF-PA-10000157<\/td>\n",
       "      <td>Office Supplies<\/td>\n",
       "      <td>Paper<\/td>\n",
       "      <td>Xerox 191<\/td>\n",
       "      <td>79.92<\/td>\n",
       "      <td>4<\/td>\n",
       "      <td>0.0<\/td>\n",
       "      <td>37.5624<\/td>\n",
       "    <\/tr>\n",
       "    <tr>\n",
       "      <th>9387<\/th>\n",
       "      <td>9388<\/td>\n",
       "      <td>US-2020-127292<\/td>\n",
       "      <td>2020-01-19<\/td>\n",
       "      <td>2020-01-23<\/td>\n",
       "      <td>Standard Class<\/td>\n",
       "      <td>RM-19375<\/td>\n",
       "      <td>Raymond Messe<\/td>\n",
       "      <td>Consumer<\/td>\n",
       "      <td>United States<\/td>\n",
       "      <td>Burlington<\/td>\n",
       "      <td>...<\/td>\n",
       "      <td>NaN<\/td>\n",
       "      <td>East<\/td>\n",
       "      <td>OFF-PA-10001970<\/td>\n",
       "      <td>Office Supplies<\/td>\n",
       "      <td>Paper<\/td>\n",
       "      <td>Xerox 1881<\/td>\n",
       "      <td>12.28<\/td>\n",
       "      <td>1<\/td>\n",
       "      <td>0.0<\/td>\n",
       "      <td>5.7716<\/td>\n",
       "    <\/tr>\n",
       "    <tr>\n",
       "      <th>9388<\/th>\n",
       "      <td>9389<\/td>\n",
       "      <td>US-2020-127292<\/td>\n",
       "      <td>2020-01-19<\/td>\n",
       "      <td>2020-01-23<\/td>\n",
       "      <td>Standard Class<\/td>\n",
       "      <td>RM-19375<\/td>\n",
       "      <td>Raymond Messe<\/td>\n",
       "      <td>Consumer<\/td>\n",
       "      <td>United States<\/td>\n",
       "      <td>Burlington<\/td>\n",
       "      <td>...<\/td>\n",
       "      <td>NaN<\/td>\n",
       "      <td>East<\/td>\n",
       "      <td>OFF-AP-10000828<\/td>\n",
       "      <td>Office Supplies<\/td>\n",
       "      <td>Appliances<\/td>\n",
       "      <td>Avanti 4.4 Cu. Ft. Refrigerator<\/td>\n",
       "      <td>542.94<\/td>\n",
       "      <td>3<\/td>\n",
       "      <td>0.0<\/td>\n",
       "      <td>152.0232<\/td>\n",
       "    <\/tr>\n",
       "    <tr>\n",
       "      <th>9389<\/th>\n",
       "      <td>9390<\/td>\n",
       "      <td>US-2020-127292<\/td>\n",
       "      <td>2020-01-19<\/td>\n",
       "      <td>2020-01-23<\/td>\n",
       "      <td>Standard Class<\/td>\n",
       "      <td>RM-19375<\/td>\n",
       "      <td>Raymond Messe<\/td>\n",
       "      <td>Consumer<\/td>\n",
       "      <td>United States<\/td>\n",
       "      <td>Burlington<\/td>\n",
       "      <td>...<\/td>\n",
       "      <td>NaN<\/td>\n",
       "      <td>East<\/td>\n",
       "      <td>OFF-EN-10001509<\/td>\n",
       "      <td>Office Supplies<\/td>\n",
       "      <td>Envelopes<\/td>\n",
       "      <td>Poly String Tie Envelopes<\/td>\n",
       "      <td>2.04<\/td>\n",
       "      <td>1<\/td>\n",
       "      <td>0.0<\/td>\n",
       "      <td>0.9588<\/td>\n",
       "    <\/tr>\n",
       "    <tr>\n",
       "      <th>9741<\/th>\n",
       "      <td>9742<\/td>\n",
       "      <td>CA-2018-117086<\/td>\n",
       "      <td>2018-11-08<\/td>\n",
       "      <td>2018-11-12<\/td>\n",
       "      <td>Standard Class<\/td>\n",
       "      <td>QJ-19255<\/td>\n",
       "      <td>Quincy Jones<\/td>\n",
       "      <td>Corporate<\/td>\n",
       "      <td>United States<\/td>\n",
       "      <td>Burlington<\/td>\n",
       "      <td>...<\/td>\n",
       "      <td>NaN<\/td>\n",
       "      <td>East<\/td>\n",
       "      <td>FUR-BO-10004834<\/td>\n",
       "      <td>Furniture<\/td>\n",
       "      <td>Bookcases<\/td>\n",
       "      <td>Riverside Palais Royal Lawyers Bookcase, Royal...<\/td>\n",
       "      <td>4404.90<\/td>\n",
       "      <td>5<\/td>\n",
       "      <td>0.0<\/td>\n",
       "      <td>1013.1270<\/td>\n",
       "    <\/tr>\n",
       "  <\/tbody>\n",
       "<\/table>\n",
       "<p>11 rows × 21 columns<\/p>\n",
       "<\/div>"
      ]
     },
     "metadata":{
      
     },
     "output_type":"display_data"
    }
   ],
   "metadata":{
    "datalore":{
     "node_id":"6GI6PWXgzPCKetXz85Xak9",
     "type":"CODE",
     "hide_input_from_viewers":false,
     "hide_output_from_viewers":false,
     "report_properties":{
      "y":67
     }
    }
   }
  },
  {
   "cell_type":"code",
   "source":[
    "# TODO - Explore this dataset on your owns, ask your own questions\n",
    "df['year'] = pd.DatetimeIndex(df['Order Date']).year\n",
    "# past sales per year\n",
    "df.groupby('year') ['Sales'].sum() "
   ],
   "execution_count":59,
   "outputs":[
    {
     "data":{
      "text\/html":[
       "<pre>year\n",
       "2017    484247.4981\n",
       "2018    470532.5090\n",
       "2019    609205.5980\n",
       "2020    733215.2552\n",
       "Name: Sales, dtype: float64<\/pre>"
      ]
     },
     "metadata":{
      
     },
     "output_type":"display_data"
    }
   ],
   "metadata":{
    "datalore":{
     "node_id":"sxqkG9Yf7M5JvN1ceCQtfL",
     "type":"CODE",
     "hide_input_from_viewers":false,
     "hide_output_from_viewers":false,
     "report_properties":{
      "y":92
     }
    }
   }
  },
  {
   "cell_type":"markdown",
   "source":[
    "## Data Analysis Part\n",
    "\n",
    "Answer 10 below questions to get credit from this course. Write `pandas` code to find answers."
   ],
   "attachments":{
    
   },
   "metadata":{
    "datalore":{
     "node_id":"pYgqGMMQs6C0zRadxaUO29",
     "type":"MD",
     "hide_input_from_viewers":false,
     "hide_output_from_viewers":false,
     "report_properties":{
      "y":97
     }
    }
   }
  },
  {
   "cell_type":"code",
   "source":[
    "# TODO 01 - how many columns, rows in this dataset\n",
    "resultjoi01 = df.shape\n",
    "\n",
    "print(\"Answer :\") \n",
    "print(resultjoi01)\n",
    "\n",
    "print(f\" Total Dataset, there are {df.shape[0]} rows and {df.shape[1]} columns.\")"
   ],
   "execution_count":60,
   "outputs":[
    {
     "name":"stdout",
     "text":[
      "Answer :\n",
      "(9994, 22)\n",
      " Total Dataset, there are 9994 rows and 22 columns.\n"
     ],
     "output_type":"stream"
    }
   ],
   "metadata":{
    "datalore":{
     "node_id":"XhYHaonzViZ2g54yzAcbRX",
     "type":"CODE",
     "hide_input_from_viewers":false,
     "hide_output_from_viewers":false,
     "report_properties":{
      "y":101
     }
    }
   }
  },
  {
   "cell_type":"code",
   "source":[
    "# TODO 02 - is there any missing values?, if there is, which colunm? how many nan values?\n",
    "\n",
    "resultjoi02 = df.isna().sum()\n",
    "print(\"Answer :\")\n",
    "print(\"Yes, there are missing values . All in Postal Code colunm  11 nan values.\" ) \n",
    "\n",
    "\n",
    "print(resultjoi02)\n",
    "\n",
    "resultjoi02[resultjoi02 > 0] \n"
   ],
   "execution_count":61,
   "outputs":[
    {
     "name":"stdout",
     "text":[
      "Answer :\n",
      "Yes, there are missing values . All in Postal Code colunm  11 nan values.\n",
      "Row ID             0\n",
      "Order ID           0\n",
      "Order Date         0\n",
      "Ship Date          0\n",
      "Ship Mode          0\n",
      "Customer ID        0\n",
      "Customer Name      0\n",
      "Segment            0\n",
      "Country\/Region     0\n",
      "City               0\n",
      "State              0\n",
      "Postal Code       11\n",
      "Region             0\n",
      "Product ID         0\n",
      "Category           0\n",
      "Sub-Category       0\n",
      "Product Name       0\n",
      "Sales              0\n",
      "Quantity           0\n",
      "Discount           0\n",
      "Profit             0\n",
      "year               0\n",
      "dtype: int64\n"
     ],
     "output_type":"stream"
    },
    {
     "data":{
      "text\/html":[
       "<pre>Postal Code    11\n",
       "dtype: int64<\/pre>"
      ]
     },
     "metadata":{
      
     },
     "output_type":"display_data"
    }
   ],
   "metadata":{
    "datalore":{
     "node_id":"cbRXKpiJrFrcICcHjWVqj6",
     "type":"CODE",
     "hide_input_from_viewers":false,
     "hide_output_from_viewers":false,
     "report_properties":{
      "y":104
     }
    }
   }
  },
  {
   "cell_type":"code",
   "source":[
    "# TODO 03 - your friend ask for `California` data, filter it and export csv for him\n",
    "result_california = df.query(\"State == 'California' \")\n",
    "result_california.head()\n",
    "\n",
    "result_california.to_csv('California.csv')"
   ],
   "execution_count":62,
   "outputs":[
    
   ],
   "metadata":{
    "datalore":{
     "node_id":"gXCLZGyWSG6HC0o1ujKIXL",
     "type":"CODE",
     "hide_input_from_viewers":false,
     "hide_output_from_viewers":false,
     "report_properties":{
      "y":107
     }
    }
   }
  },
  {
   "cell_type":"code",
   "source":[
    "# TODO 04 - your friend ask for all order data in `California` and `Texas` in 2017 (look at Order Date), send him csv file\n",
    "df[((df['State']=='California') | (df['State']=='Texas')) \\\n",
    "   & (df['Order Date'].dt.year==2017)]\\\n",
    "    .to_csv('California_Texas_2017.csv')"
   ],
   "execution_count":63,
   "outputs":[
    
   ],
   "metadata":{
    "datalore":{
     "node_id":"UBNKJ2FCsxotGkHT1iv5Ma",
     "type":"CODE",
     "hide_input_from_viewers":false,
     "hide_output_from_viewers":false,
     "report_properties":{
      "y":110
     }
    }
   }
  },
  {
   "cell_type":"code",
   "source":[
    "# TODO 05 - how much total sales, average sales, and standard deviation of sales your company make in 2017\n",
    "print(\"Answer:\")\n",
    "\n",
    "df['Order Year'] = df['Order Date'].dt.year\n",
    "resultjoi05 = df[df['Order Year']==2017].groupby('Order Year')['Sales'].agg(['sum','mean','std'])\n",
    "print(resultjoi05)"
   ],
   "execution_count":64,
   "outputs":[
    {
     "name":"stdout",
     "text":[
      "Answer:\n",
      "                    sum        mean         std\n",
      "Order Year                                     \n",
      "2017        484247.4981  242.974159  754.053357\n"
     ],
     "output_type":"stream"
    }
   ],
   "metadata":{
    "datalore":{
     "node_id":"dSSMNhalimriIIhEJPJL1U",
     "type":"CODE",
     "hide_input_from_viewers":false,
     "hide_output_from_viewers":false,
     "report_properties":{
      "y":113
     }
    }
   }
  },
  {
   "cell_type":"code",
   "source":[
    "# TODO 06 - which Segment has the highest profit in 2018\n",
    "# set df \n",
    "print(\"Answer:\")\n",
    "resultjoi06 = df[df['Order Year']==2018].groupby(['Order Year','Segment'])['Profit'].agg(['sum'])\\\n",
    "    .sort_values('sum', ascending = False).reset_index().head(1)\n",
    "\n",
    "\n",
    "\n",
    "print(f\"In 2018,{resultjoi06.iloc[0,1]} segment has the highest profit with total profit {resultjoi06.iloc[0,2]}\")\n",
    "resultjoi06"
   ],
   "execution_count":65,
   "outputs":[
    {
     "name":"stdout",
     "text":[
      "Answer:\n",
      "In 2018,Consumer segment has the highest profit with total profit 28460.1665\n"
     ],
     "output_type":"stream"
    },
    {
     "data":{
      "text\/html":[
       "<div>\n",
       "<style scoped>\n",
       "    .dataframe tbody tr th:only-of-type {\n",
       "        vertical-align: middle;\n",
       "    }\n",
       "\n",
       "    .dataframe tbody tr th {\n",
       "        vertical-align: top;\n",
       "    }\n",
       "\n",
       "    .dataframe thead th {\n",
       "        text-align: right;\n",
       "    }\n",
       "<\/style>\n",
       "<table border=\"1\" class=\"dataframe\">\n",
       "  <thead>\n",
       "    <tr style=\"text-align: right;\">\n",
       "      <th><\/th>\n",
       "      <th>Order Year<\/th>\n",
       "      <th>Segment<\/th>\n",
       "      <th>sum<\/th>\n",
       "    <\/tr>\n",
       "  <\/thead>\n",
       "  <tbody>\n",
       "    <tr>\n",
       "      <th>0<\/th>\n",
       "      <td>2018<\/td>\n",
       "      <td>Consumer<\/td>\n",
       "      <td>28460.1665<\/td>\n",
       "    <\/tr>\n",
       "  <\/tbody>\n",
       "<\/table>\n",
       "<\/div>"
      ]
     },
     "metadata":{
      
     },
     "output_type":"display_data"
    }
   ],
   "metadata":{
    "datalore":{
     "node_id":"VaSw88Xbs4nHcxuFnqZNBZ",
     "type":"CODE",
     "hide_input_from_viewers":false,
     "hide_output_from_viewers":false,
     "report_properties":{
      "y":116
     }
    }
   }
  },
  {
   "cell_type":"code",
   "source":[
    "# TODO 07 - which top 5 States have the least total sales between 15 April 2019 - 31 December 2019\n",
    "# clean template \n",
    "\n",
    "resultjoi07 = df[(df['Order Date']>='2019-04-15') & (df['Order Date']<='2019-12-31')]\\\n",
    "    .groupby('State')['Sales']\\\n",
    "    .sum()\\\n",
    "    .sort_values()\\\n",
    "    .head(5)\\\n",
    "    .round(2)\n",
    "print(\"Answer :\")\n",
    "print(resultjoi07)"
   ],
   "execution_count":66,
   "outputs":[
    {
     "name":"stdout",
     "text":[
      "Answer :\n",
      "State\n",
      "New Hampshire            49.05\n",
      "New Mexico               64.08\n",
      "District of Columbia    117.07\n",
      "Louisiana               249.80\n",
      "South Carolina          502.48\n",
      "Name: Sales, dtype: float64\n"
     ],
     "output_type":"stream"
    }
   ],
   "metadata":{
    "datalore":{
     "node_id":"qYI3BNPTskAofNiWipGeVE",
     "type":"CODE",
     "hide_input_from_viewers":false,
     "hide_output_from_viewers":false,
     "report_properties":{
      "y":119
     }
    }
   }
  },
  {
   "cell_type":"code",
   "source":[
    "# TODO 08 - what is the proportion of total sales (%) in West + Central in 2019 e.g. 25% \n",
    "\n",
    "resultjoiWC = df[df['Order Date'].dt.year == 2019]\\\n",
    "    .query(\"Region == 'West' | Region == 'Central'\")['Sales']\\\n",
    "    .sum()\n",
    "result08_2019 = df[df['Order Date'].dt.year == 2019]['Sales'].sum()\n",
    "result08_percentage_sales = 100 * resultjoiWC\/result08_2019 \n",
    "\n",
    "print(\"Answer :\")\n",
    "print(f\"{(result08_percentage_sales).round(2)}%\")\n"
   ],
   "execution_count":78,
   "outputs":[
    {
     "name":"stdout",
     "text":[
      "Answer :\n",
      "54.97%\n"
     ],
     "output_type":"stream"
    }
   ],
   "metadata":{
    "datalore":{
     "node_id":"d9sHazHsW2DSSeE3iJZgTf",
     "type":"CODE",
     "hide_input_from_viewers":false,
     "hide_output_from_viewers":false,
     "report_properties":{
      "y":122
     }
    }
   }
  },
  {
   "cell_type":"code",
   "source":[
    "# TODO 09 - find top 10 popular products in terms of number of orders vs. total sales during 2019-2020\n",
    "\n",
    "\n",
    "resulty19_20= df[(df['Order Date'].dt.year >= 2019) & (df['Order Date'].dt.year <= 2020)]\n",
    "\n",
    "resultjoi09_by_orders = resulty19_20.value_counts('Product Name')\\\n",
    "    .sort_values(ascending=False).head(10).reset_index()\n",
    "\n",
    "print(\"Answer :\")\n",
    "print(\"Top 10 Product by Orders VS. Sales\")\n",
    "\n",
    "resultjoi09_by_orders.columns = ['Product by Orders', 'Count of Orders']\n",
    "resultjoi09_by_sales = resulty19_20\\\n",
    "    .groupby('Product Name')[['Product Name', 'Sales']]\\\n",
    "    .agg('sum')\\\n",
    "    .sort_values(by='Sales', ascending=False)\\\n",
    "    .head(10)\\\n",
    "    .round(2)\\\n",
    "    .reset_index()\n",
    "\n",
    "resultjoi09_by_sales.columns = ['Product by Sales', 'Total Sales']\n",
    "resultjoi09_by_orders_vs_sales = pd.concat([resultjoi09_by_orders,resultjoi09_by_sales],axis=1)\n",
    "resultjoi09_by_orders_vs_sales"
   ],
   "execution_count":73,
   "outputs":[
    {
     "name":"stdout",
     "text":[
      "Answer :\n",
      "Top 10 Product by Orders VS. Sales\n"
     ],
     "output_type":"stream"
    },
    {
     "data":{
      "text\/html":[
       "<div>\n",
       "<style scoped>\n",
       "    .dataframe tbody tr th:only-of-type {\n",
       "        vertical-align: middle;\n",
       "    }\n",
       "\n",
       "    .dataframe tbody tr th {\n",
       "        vertical-align: top;\n",
       "    }\n",
       "\n",
       "    .dataframe thead th {\n",
       "        text-align: right;\n",
       "    }\n",
       "<\/style>\n",
       "<table border=\"1\" class=\"dataframe\">\n",
       "  <thead>\n",
       "    <tr style=\"text-align: right;\">\n",
       "      <th><\/th>\n",
       "      <th>Product by Orders<\/th>\n",
       "      <th>Count of Orders<\/th>\n",
       "      <th>Product by Sales<\/th>\n",
       "      <th>Total Sales<\/th>\n",
       "    <\/tr>\n",
       "  <\/thead>\n",
       "  <tbody>\n",
       "    <tr>\n",
       "      <th>0<\/th>\n",
       "      <td>Easy-staple paper<\/td>\n",
       "      <td>27<\/td>\n",
       "      <td>Canon imageCLASS 2200 Advanced Copier<\/td>\n",
       "      <td>61599.82<\/td>\n",
       "    <\/tr>\n",
       "    <tr>\n",
       "      <th>1<\/th>\n",
       "      <td>Staples<\/td>\n",
       "      <td>24<\/td>\n",
       "      <td>Hewlett Packard LaserJet 3310 Copier<\/td>\n",
       "      <td>16079.73<\/td>\n",
       "    <\/tr>\n",
       "    <tr>\n",
       "      <th>2<\/th>\n",
       "      <td>Staple envelope<\/td>\n",
       "      <td>22<\/td>\n",
       "      <td>3D Systems Cube Printer, 2nd Generation, Magenta<\/td>\n",
       "      <td>14299.89<\/td>\n",
       "    <\/tr>\n",
       "    <tr>\n",
       "      <th>3<\/th>\n",
       "      <td>Staples in misc. colors<\/td>\n",
       "      <td>13<\/td>\n",
       "      <td>GBC Ibimaster 500 Manual ProClick Binding System<\/td>\n",
       "      <td>13621.54<\/td>\n",
       "    <\/tr>\n",
       "    <tr>\n",
       "      <th>4<\/th>\n",
       "      <td>Staple remover<\/td>\n",
       "      <td>12<\/td>\n",
       "      <td>GBC DocuBind TL300 Electric Binding System<\/td>\n",
       "      <td>12737.26<\/td>\n",
       "    <\/tr>\n",
       "    <tr>\n",
       "      <th>5<\/th>\n",
       "      <td>Storex Dura Pro Binders<\/td>\n",
       "      <td>12<\/td>\n",
       "      <td>GBC DocuBind P400 Electric Binding System<\/td>\n",
       "      <td>12521.11<\/td>\n",
       "    <\/tr>\n",
       "    <tr>\n",
       "      <th>6<\/th>\n",
       "      <td>Chromcraft Round Conference Tables<\/td>\n",
       "      <td>12<\/td>\n",
       "      <td>Samsung Galaxy Mega 6.3<\/td>\n",
       "      <td>12263.71<\/td>\n",
       "    <\/tr>\n",
       "    <tr>\n",
       "      <th>7<\/th>\n",
       "      <td>Global Wood Trimmed Manager's Task Chair, Khaki<\/td>\n",
       "      <td>11<\/td>\n",
       "      <td>HON 5400 Series Task Chairs for Big and Tall<\/td>\n",
       "      <td>11846.56<\/td>\n",
       "    <\/tr>\n",
       "    <tr>\n",
       "      <th>8<\/th>\n",
       "      <td>Avery Non-Stick Binders<\/td>\n",
       "      <td>11<\/td>\n",
       "      <td>Martin Yale Chadless Opener Electric Letter Op...<\/td>\n",
       "      <td>11825.90<\/td>\n",
       "    <\/tr>\n",
       "    <tr>\n",
       "      <th>9<\/th>\n",
       "      <td>Staple-based wall hangings<\/td>\n",
       "      <td>10<\/td>\n",
       "      <td>Global Troy Executive Leather Low-Back Tilter<\/td>\n",
       "      <td>10169.89<\/td>\n",
       "    <\/tr>\n",
       "  <\/tbody>\n",
       "<\/table>\n",
       "<\/div>"
      ]
     },
     "metadata":{
      
     },
     "output_type":"display_data"
    }
   ],
   "metadata":{
    "datalore":{
     "node_id":"p5VXzkVMeREaCNR4iwpFBB",
     "type":"CODE",
     "hide_input_from_viewers":false,
     "hide_output_from_viewers":false,
     "report_properties":{
      "y":125
     }
    }
   }
  },
  {
   "cell_type":"code",
   "source":[
    "# TODO 10 - plot at least 2 plots, any plot you think interesting :)\n",
    "\n",
    "import matplotlib as mpl\n",
    "import matplotlib.pyplot as plt\n",
    "\n",
    "print(\"Answer:\")\n",
    "print( \" Sales trends by category plot \")\n",
    "\n",
    "df.groupby('Category')['Sales'].sum()\\\n",
    ".plot.pie(y='Category',  figsize=(5,5), autopct='%1.1f%%', startangle=90)\\\n",
    ".set_title('Sales trends by category')\n",
    "plt.show()\n"
   ],
   "execution_count":99,
   "outputs":[
    {
     "name":"stdout",
     "text":[
      "Answer:\n",
      " Sales trends by category plot \n"
     ],
     "output_type":"stream"
    },
    {
     "data":{
      "image\/png":"[encoded data removed]"
     },
     "metadata":{
      "image\/png":{
       
      }
     },
     "output_type":"display_data"
    }
   ],
   "metadata":{
    "datalore":{
     "node_id":"mcHR7mwezko5fnhaffYvPH",
     "type":"CODE",
     "hide_input_from_viewers":false,
     "hide_output_from_viewers":false,
     "report_properties":{
      "y":128
     }
    }
   }
  },
  {
   "cell_type":"code",
   "source":[
    "\n",
    "print(\"Answer:\")\n",
    "\n",
    "print(\" 2 Plots I think interesting\")\n",
    "\n",
    "\n",
    "df['Year'] = df['Order Date'].dt.strftime('%Y')\n",
    "table =pd.DataFrame( df.groupby(['Year','Region'])['Profit'].sum().reset_index())\n",
    "df.groupby(['Year','Region']).size().unstack().plot(kind='bar', stacked=True)\n",
    "plt.xlabel(\"Year\")\n",
    "plt.ylabel(\"Profit\")\n",
    "plt.title('The Profit of each region by year  during year 2017-2020', size = 15)\n",
    "plt.show()   \n",
    "\n",
    "\n",
    "df['Year'] = df['Order Date'].dt.strftime('%Y')\n",
    "profit_by_region = df.groupby(['Year', 'Region'])['Profit']\\\n",
    "    .agg('sum')\\\n",
    "    .reset_index()\n",
    "profit_by_region.pivot(columns='Region', index='Year', values='Profit')\\\n",
    "    .plot(kind='line', xlabel='Year', ylabel='Profit', \n",
    "    title='The Profit of each region by year during year 2017-2020',figsize=(10,5));"
   ],
   "execution_count":91,
   "outputs":[
    {
     "name":"stdout",
     "text":[
      "Answer:\n",
      " This is Plot I think interesting\n"
     ],
     "output_type":"stream"
    },
    {
     "data":{
      "image\/png":"[encoded data removed]"
     },
     "metadata":{
      "image\/png":{
       
      }
     },
     "output_type":"display_data"
    },
    {
     "data":{
      "image\/png":"[encoded data removed]"
     },
     "metadata":{
      "image\/png":{
       
      }
     },
     "output_type":"display_data"
    }
   ],
   "metadata":{
    "datalore":{
     "node_id":"rY6qJOGGj6VQdsJWpspwvb",
     "type":"CODE",
     "hide_input_from_viewers":true,
     "hide_output_from_viewers":true
    }
   }
  },
  {
   "cell_type":"code",
   "source":[
    "# TODO Bonus - use np.where() to create new column in dataframe to help you answer your own questions\n",
    "\n",
    "\n",
    "import numpy as np\n",
    "print(\"Question Bonus - What are the top loss product by most number of orders of Machines-Tables-and-Binders sub-category in corporate segment in Q4 year2020?\")\n",
    "print(\"Answer:\")\n",
    "print(\"  It can be seen from below table that top loss product by most number of orders are \\\"Avery Reinforcements for Hole-Punch Pages\\\" and \\\"Aluminum Screw Posts\\\".\")\n",
    "\n",
    "\n",
    "bonus_filter = (df['Order Date']>=pd.to_datetime('2020-10-01')) & df['Sub-Category'].isin(['Machines','Tables','Binders']) & (df['Segment']=='Corporate')\n",
    "df99 = df[bonus_filter][['Product Name','Profit']]\n",
    "df99['OrderLoss'] = np.where(df99['Profit']<0,1,0)\n",
    "df99 = df99.groupby('Product Name')['OrderLoss'].sum().reset_index().sort_values(by='OrderLoss',ascending=False).reset_index()\n",
    "df99.head(10)"
   ],
   "execution_count":103,
   "outputs":[
    {
     "name":"stdout",
     "text":[
      "Question Bonus - What are the top loss product by most number of orders of Machines-Tables-and-Binders sub-category in corporate segment in Q4 year2020?\n",
      "Answer:\n",
      "  It can be seen from below table that top loss product by most number of orders are \"Avery Reinforcements for Hole-Punch Pages\" and \"Aluminum Screw Posts\".\n"
     ],
     "output_type":"stream"
    },
    {
     "data":{
      "text\/html":[
       "<div>\n",
       "<style scoped>\n",
       "    .dataframe tbody tr th:only-of-type {\n",
       "        vertical-align: middle;\n",
       "    }\n",
       "\n",
       "    .dataframe tbody tr th {\n",
       "        vertical-align: top;\n",
       "    }\n",
       "\n",
       "    .dataframe thead th {\n",
       "        text-align: right;\n",
       "    }\n",
       "<\/style>\n",
       "<table border=\"1\" class=\"dataframe\">\n",
       "  <thead>\n",
       "    <tr style=\"text-align: right;\">\n",
       "      <th><\/th>\n",
       "      <th>index<\/th>\n",
       "      <th>Product Name<\/th>\n",
       "      <th>OrderLoss<\/th>\n",
       "    <\/tr>\n",
       "  <\/thead>\n",
       "  <tbody>\n",
       "    <tr>\n",
       "      <th>0<\/th>\n",
       "      <td>11<\/td>\n",
       "      <td>Avery Reinforcements for Hole-Punch Pages<\/td>\n",
       "      <td>2<\/td>\n",
       "    <\/tr>\n",
       "    <tr>\n",
       "      <th>1<\/th>\n",
       "      <td>5<\/td>\n",
       "      <td>Aluminum Screw Posts<\/td>\n",
       "      <td>2<\/td>\n",
       "    <\/tr>\n",
       "    <tr>\n",
       "      <th>2<\/th>\n",
       "      <td>21<\/td>\n",
       "      <td>Cardinal EasyOpen D-Ring Binders<\/td>\n",
       "      <td>1<\/td>\n",
       "    <\/tr>\n",
       "    <tr>\n",
       "      <th>3<\/th>\n",
       "      <td>24<\/td>\n",
       "      <td>Computer Printout Index Tabs<\/td>\n",
       "      <td>1<\/td>\n",
       "    <\/tr>\n",
       "    <tr>\n",
       "      <th>4<\/th>\n",
       "      <td>25<\/td>\n",
       "      <td>Cubify CubeX 3D Printer Triple Head Print<\/td>\n",
       "      <td>1<\/td>\n",
       "    <\/tr>\n",
       "    <tr>\n",
       "      <th>5<\/th>\n",
       "      <td>26<\/td>\n",
       "      <td>DYMO CardScan Personal V9 Business Card Scanner<\/td>\n",
       "      <td>1<\/td>\n",
       "    <\/tr>\n",
       "    <tr>\n",
       "      <th>6<\/th>\n",
       "      <td>27<\/td>\n",
       "      <td>Economy Binders<\/td>\n",
       "      <td>1<\/td>\n",
       "    <\/tr>\n",
       "    <tr>\n",
       "      <th>7<\/th>\n",
       "      <td>28<\/td>\n",
       "      <td>Epson TM-T88V Direct Thermal Printer - Monochr...<\/td>\n",
       "      <td>1<\/td>\n",
       "    <\/tr>\n",
       "    <tr>\n",
       "      <th>8<\/th>\n",
       "      <td>55<\/td>\n",
       "      <td>Prestige Round Ring Binders<\/td>\n",
       "      <td>1<\/td>\n",
       "    <\/tr>\n",
       "    <tr>\n",
       "      <th>9<\/th>\n",
       "      <td>54<\/td>\n",
       "      <td>Premium Transparent Presentation Covers, No Pa...<\/td>\n",
       "      <td>1<\/td>\n",
       "    <\/tr>\n",
       "  <\/tbody>\n",
       "<\/table>\n",
       "<\/div>"
      ]
     },
     "metadata":{
      
     },
     "output_type":"display_data"
    }
   ],
   "metadata":{
    "datalore":{
     "node_id":"l10CWTElzONgLHWkJWqfPG",
     "type":"CODE",
     "hide_input_from_viewers":false,
     "hide_output_from_viewers":false,
     "report_properties":{
      "y":131
     }
    }
   }
  },
  {
   "cell_type":"code",
   "source":[
    "# TODO Bonus - use np.where() to create new column in dataframe to help you answer your own question\n",
    "# What are the states that mostly sold products at a loss?\n",
    "df['Profitable'] = np.where(df['Profit'] >= 0, 'Break-even or profit', 'Loss')\n",
    "\n",
    "\n",
    "count_df = pd.crosstab(df['State'], df['Profitable'])\n",
    "count_df.div(count_df.sum(axis=1), axis=0) \\\n",
    "    .query('Loss > 0') \\\n",
    "    .sort_values('Loss', ascending=False) \\\n",
    "    .plot.bar(stacked=True)\n",
    "\n",
    "plt.legend(loc='lower right', ncol=2)"
   ],
   "execution_count":105,
   "outputs":[
    {
     "data":{
      "text\/plain":[
       "<matplotlib.legend.Legend at 0x7f75c8616220>"
      ]
     },
     "metadata":{
      
     },
     "output_type":"display_data"
    },
    {
     "data":{
      "image\/png":"[encoded data removed]"
     },
     "metadata":{
      "image\/png":{
       
      }
     },
     "output_type":"display_data"
    }
   ],
   "metadata":{
    "datalore":{
     "node_id":"Rq8kadLZgvi2yaYlJSA1yz",
     "type":"CODE",
     "hide_input_from_viewers":true,
     "hide_output_from_viewers":true
    }
   }
  }
 ],
 "metadata":{
  "kernelspec":{
   "display_name":"Python",
   "language":"python",
   "name":"python"
  },
  "datalore":{
   "version":1,
   "computation_mode":"JUPYTER",
   "package_manager":"pip",
   "base_environment":"default",
   "packages":[
    
   ]
  }
 },
 "nbformat":4,
 "nbformat_minor":4
}