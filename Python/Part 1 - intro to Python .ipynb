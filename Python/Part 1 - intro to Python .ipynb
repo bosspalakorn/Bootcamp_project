{
 "cells":[
  {
   "cell_type":"markdown",
   "source":[
    "# Review Python Language"
   ],
   "attachments":{
    
   },
   "metadata":{
    "datalore":{
     "node_id":"61ClMkwOVIdVRWXmqMZthy",
     "type":"MD",
     "hide_input_from_viewers":false,
     "hide_output_from_viewers":false
    }
   }
  },
  {
   "cell_type":"code",
   "source":[
    "print(\"hello world\")"
   ],
   "execution_count":1,
   "outputs":[
    {
     "name":"stdout",
     "text":[
      "hello world\n"
     ],
     "output_type":"stream"
    }
   ],
   "metadata":{
    "datalore":{
     "node_id":"oOd1PcDAJZYF73GGeN2wcj",
     "type":"CODE",
     "hide_input_from_viewers":false,
     "hide_output_from_viewers":false
    }
   }
  },
  {
   "cell_type":"code",
   "source":[
    "my_name = \"Boss\"\n",
    "my_age = 22"
   ],
   "execution_count":2,
   "outputs":[
    
   ],
   "metadata":{
    "datalore":{
     "node_id":"ikTjQ1BZg5mfErFxpRH6iq",
     "type":"CODE",
     "hide_input_from_viewers":false,
     "hide_output_from_viewers":false
    }
   }
  },
  {
   "cell_type":"code",
   "source":[
    "print(my_name)\n",
    "print(my_age)"
   ],
   "execution_count":3,
   "outputs":[
    {
     "name":"stdout",
     "text":[
      "Boss\n",
      "22\n"
     ],
     "output_type":"stream"
    }
   ],
   "metadata":{
    "datalore":{
     "node_id":"wVQYw660hyX7ZBVMgkRwEn",
     "type":"CODE",
     "hide_input_from_viewers":false,
     "hide_output_from_viewers":false
    }
   }
  },
  {
   "cell_type":"code",
   "source":[
    "print(1 + 1)\n",
    "print(2 * 2)\n",
    "print(5 \/ 2)\n",
    "print(8 - 5)"
   ],
   "execution_count":4,
   "outputs":[
    {
     "name":"stdout",
     "text":[
      "2\n",
      "4\n",
      "2.5\n",
      "3\n"
     ],
     "output_type":"stream"
    }
   ],
   "metadata":{
    "datalore":{
     "node_id":"7vDDk8fUDzkKLWDPOkFN1l",
     "type":"CODE",
     "hide_input_from_viewers":false,
     "hide_output_from_viewers":false
    }
   }
  },
  {
   "cell_type":"markdown",
   "source":[
    "# String"
   ],
   "attachments":{
    
   },
   "metadata":{
    "datalore":{
     "node_id":"fF0ZseVDmYLVnBoqMCJFtd",
     "type":"MD",
     "hide_input_from_viewers":false,
     "hide_output_from_viewers":false
    }
   }
  },
  {
   "cell_type":"code",
   "source":[
    "# string & fstring in Python\n",
    "my_name = \"Boss\"\n",
    "my_university = 'Kasetsart'\n",
    "my_long_string = \"\"\"This is a very long\n",
    "This is a second line\n",
    "This is a third line\n",
    "\"\"\"\n",
    "print(my_name, my_university, my_long_string)"
   ],
   "execution_count":5,
   "outputs":[
    {
     "name":"stdout",
     "text":[
      "Boss Kasetsart This is a very long\n",
      "This is a second line\n",
      "This is a third line\n",
      "\n"
     ],
     "output_type":"stream"
    }
   ],
   "metadata":{
    "datalore":{
     "node_id":"Ii9iUS87QV78QNUwIxp5Ys",
     "type":"CODE",
     "hide_input_from_viewers":false,
     "hide_output_from_viewers":false
    }
   }
  },
  {
   "cell_type":"code",
   "source":[
    "# fstring template\n",
    "my_name = \"Boss\"\n",
    "my_age = 22\n",
    "text = f\"my name is {my_name}, and I am {my_age} years old.\"\n",
    "print(text)"
   ],
   "execution_count":6,
   "outputs":[
    {
     "name":"stdout",
     "text":[
      "my name is Boss, and I am 22 years old.\n"
     ],
     "output_type":"stream"
    }
   ],
   "metadata":{
    "datalore":{
     "node_id":"qXC0eUYh1fIxwTTKsS1KPu",
     "type":"CODE",
     "hide_input_from_viewers":false,
     "hide_output_from_viewers":false
    }
   }
  },
  {
   "cell_type":"markdown",
   "source":[
    "# String Methods"
   ],
   "attachments":{
    
   },
   "metadata":{
    "datalore":{
     "node_id":"unKt6RxQHd5yYQBLhbbOy5",
     "type":"MD",
     "hide_input_from_viewers":false,
     "hide_output_from_viewers":false
    }
   }
  },
  {
   "cell_type":"code",
   "source":[
    "# function designed for string (string methods)\n",
    "text = \"a duck walks into a bar \""
   ],
   "execution_count":11,
   "outputs":[
    
   ],
   "metadata":{
    "datalore":{
     "node_id":"D9kUPBfb9d260rZb1kdSHA",
     "type":"CODE",
     "hide_input_from_viewers":false,
     "hide_output_from_viewers":false
    }
   }
  },
  {
   "cell_type":"code",
   "source":[
    "\"HELLO WORLD\".lower()"
   ],
   "execution_count":12,
   "outputs":[
    {
     "data":{
      "text\/plain":[
       "'hello world'"
      ]
     },
     "metadata":{
      
     },
     "output_type":"display_data"
    }
   ],
   "metadata":{
    "datalore":{
     "node_id":"h6BQfr1Wc5mZTwx3QOXBpi",
     "type":"CODE",
     "hide_input_from_viewers":false,
     "hide_output_from_viewers":false
    }
   }
  },
  {
   "cell_type":"code",
   "source":[
    "text.count(\"duck\")"
   ],
   "execution_count":13,
   "outputs":[
    {
     "data":{
      "text\/plain":[
       "1"
      ]
     },
     "metadata":{
      
     },
     "output_type":"display_data"
    }
   ],
   "metadata":{
    "datalore":{
     "node_id":"jJXANDESdGQgsq15KD5hJH",
     "type":"CODE",
     "hide_input_from_viewers":false,
     "hide_output_from_viewers":false
    }
   }
  },
  {
   "cell_type":"code",
   "source":[
    "text2 = text.replace('duck', 'lion')\n",
    "print(text)\n",
    "print(text2)"
   ],
   "execution_count":14,
   "outputs":[
    {
     "name":"stdout",
     "text":[
      "a duck walks into a bar \n",
      "a lion walks into a bar \n"
     ],
     "output_type":"stream"
    }
   ],
   "metadata":{
    "datalore":{
     "node_id":"aTAPWVix1FBwRS1yF8Mpe9",
     "type":"CODE",
     "hide_input_from_viewers":false,
     "hide_output_from_viewers":false
    }
   }
  },
  {
   "cell_type":"markdown",
   "source":[
    "# List"
   ],
   "attachments":{
    
   },
   "metadata":{
    "datalore":{
     "node_id":"iKJjt4ju95yOXpDDFLaf5g",
     "type":"MD",
     "hide_input_from_viewers":false,
     "hide_output_from_viewers":false
    }
   }
  },
  {
   "cell_type":"code",
   "source":[
    "# list\n",
    "shopping_list = ['egg', 'milk', 'bread']\n",
    "print(shopping_list)"
   ],
   "execution_count":15,
   "outputs":[
    {
     "name":"stdout",
     "text":[
      "['egg', 'milk', 'bread']\n"
     ],
     "output_type":"stream"
    }
   ],
   "metadata":{
    "datalore":{
     "node_id":"2as2JIL3qrStFLdpAPHQqZ",
     "type":"CODE",
     "hide_input_from_viewers":false,
     "hide_output_from_viewers":false
    }
   }
  },
  {
   "cell_type":"code",
   "source":[
    "print(shopping_list[0:2])"
   ],
   "execution_count":16,
   "outputs":[
    {
     "name":"stdout",
     "text":[
      "['egg', 'milk']\n"
     ],
     "output_type":"stream"
    }
   ],
   "metadata":{
    "datalore":{
     "node_id":"Ogpe3pXqRVU3D01ChDnbZB",
     "type":"CODE",
     "hide_input_from_viewers":false,
     "hide_output_from_viewers":false
    }
   }
  },
  {
   "cell_type":"code",
   "source":[
    "# list method = append\n",
    "shopping_list.append('orange juice')\n",
    "print(shopping_list)"
   ],
   "execution_count":17,
   "outputs":[
    {
     "name":"stdout",
     "text":[
      "['egg', 'milk', 'bread', 'orange juice']\n"
     ],
     "output_type":"stream"
    }
   ],
   "metadata":{
    "datalore":{
     "node_id":"v0A6DZbS6mMgZMCXslJsy9",
     "type":"CODE",
     "hide_input_from_viewers":false,
     "hide_output_from_viewers":false
    }
   }
  },
  {
   "cell_type":"code",
   "source":[
    "shopping_list.append('water bottle')\n",
    "print(shopping_list)"
   ],
   "execution_count":18,
   "outputs":[
    {
     "name":"stdout",
     "text":[
      "['egg', 'milk', 'bread', 'orange juice', 'water bottle']\n"
     ],
     "output_type":"stream"
    }
   ],
   "metadata":{
    "datalore":{
     "node_id":"5aE3Nk9YIAb7TMlC9ENSLj",
     "type":"CODE",
     "hide_input_from_viewers":false,
     "hide_output_from_viewers":false
    }
   }
  },
  {
   "cell_type":"code",
   "source":[
    "# list method .pop()\n",
    "shopping_list.pop()"
   ],
   "execution_count":19,
   "outputs":[
    {
     "data":{
      "text\/plain":[
       "'water bottle'"
      ]
     },
     "metadata":{
      
     },
     "output_type":"display_data"
    }
   ],
   "metadata":{
    "datalore":{
     "node_id":"YvqTVXeIGWFr6aTIOy8rAx",
     "type":"CODE",
     "hide_input_from_viewers":false,
     "hide_output_from_viewers":false
    }
   }
  },
  {
   "cell_type":"code",
   "source":[
    "shopping_list"
   ],
   "execution_count":20,
   "outputs":[
    {
     "data":{
      "text\/plain":[
       "['egg', 'milk', 'bread', 'orange juice']"
      ]
     },
     "metadata":{
      
     },
     "output_type":"display_data"
    }
   ],
   "metadata":{
    "datalore":{
     "node_id":"VVuFafc4vtCpeV7PDFDV26",
     "type":"CODE",
     "hide_input_from_viewers":false,
     "hide_output_from_viewers":false
    }
   }
  },
  {
   "cell_type":"code",
   "source":[
    "len(shopping_list)"
   ],
   "execution_count":21,
   "outputs":[
    {
     "data":{
      "text\/plain":[
       "4"
      ]
     },
     "metadata":{
      
     },
     "output_type":"display_data"
    }
   ],
   "metadata":{
    "datalore":{
     "node_id":"YcxxqIB5ZwJjzicm6raDvf",
     "type":"CODE",
     "hide_input_from_viewers":false,
     "hide_output_from_viewers":false
    }
   }
  },
  {
   "cell_type":"markdown",
   "source":[
    "# Dictionary"
   ],
   "attachments":{
    
   },
   "metadata":{
    "datalore":{
     "node_id":"0VtQI5cLoQd7aNjCn3Ldff",
     "type":"MD",
     "hide_input_from_viewers":false,
     "hide_output_from_viewers":false
    }
   }
  },
  {
   "cell_type":"code",
   "source":[
    "# dictionary key-value pair\n",
    "student = {\n",
    "\"id\": 1,\n",
    "\"name\": \"Mary\",\n",
    "\"age\": 22,\n",
    "\"movies\": [\"Spider Man\", \"Thor\", \"Iron Man 3\"]\n",
    "}"
   ],
   "execution_count":22,
   "outputs":[
    
   ],
   "metadata":{
    "datalore":{
     "node_id":"nmx1H0vKhSUqJB1oyQNXLe",
     "type":"CODE",
     "hide_input_from_viewers":false,
     "hide_output_from_viewers":false
    }
   }
  },
  {
   "cell_type":"code",
   "source":[
    "student['movies'][0]"
   ],
   "execution_count":23,
   "outputs":[
    {
     "data":{
      "text\/plain":[
       "'Spider Man'"
      ]
     },
     "metadata":{
      
     },
     "output_type":"display_data"
    }
   ],
   "metadata":{
    "datalore":{
     "node_id":"NRbV6rqS9eGeOktIwj759N",
     "type":"CODE",
     "hide_input_from_viewers":false,
     "hide_output_from_viewers":false
    }
   }
  },
  {
   "cell_type":"code",
   "source":[
    "student['city'] = 'London'\n",
    "student"
   ],
   "execution_count":24,
   "outputs":[
    {
     "data":{
      "text\/plain":[
       "{'id': 1,\n",
       " 'name': 'Mary',\n",
       " 'age': 22,\n",
       " 'movies': ['Spider Man', 'Thor', 'Iron Man 3'],\n",
       " 'city': 'London'}"
      ]
     },
     "metadata":{
      
     },
     "output_type":"display_data"
    }
   ],
   "metadata":{
    "datalore":{
     "node_id":"RfSlBnEH0pmpxnfaCJ6uCB",
     "type":"CODE",
     "hide_input_from_viewers":false,
     "hide_output_from_viewers":false
    }
   }
  },
  {
   "cell_type":"code",
   "source":[
    "# update value\n",
    "student['city'] = 'Manchester'\n",
    "student"
   ],
   "execution_count":25,
   "outputs":[
    {
     "data":{
      "text\/plain":[
       "{'id': 1,\n",
       " 'name': 'Mary',\n",
       " 'age': 22,\n",
       " 'movies': ['Spider Man', 'Thor', 'Iron Man 3'],\n",
       " 'city': 'Manchester'}"
      ]
     },
     "metadata":{
      
     },
     "output_type":"display_data"
    }
   ],
   "metadata":{
    "datalore":{
     "node_id":"wotMh5eQFwL9lFPs1Op8Ay",
     "type":"CODE",
     "hide_input_from_viewers":false,
     "hide_output_from_viewers":false
    }
   }
  },
  {
   "cell_type":"code",
   "source":[
    "# remove key-value\n",
    "del student['city']\n",
    "student"
   ],
   "execution_count":26,
   "outputs":[
    {
     "data":{
      "text\/plain":[
       "{'id': 1,\n",
       " 'name': 'Mary',\n",
       " 'age': 22,\n",
       " 'movies': ['Spider Man', 'Thor', 'Iron Man 3']}"
      ]
     },
     "metadata":{
      
     },
     "output_type":"display_data"
    }
   ],
   "metadata":{
    "datalore":{
     "node_id":"7jUnm2olBoNwETmrbbjwQr",
     "type":"CODE",
     "hide_input_from_viewers":false,
     "hide_output_from_viewers":false
    }
   }
  },
  {
   "cell_type":"markdown",
   "source":[
    "# Function"
   ],
   "attachments":{
    
   },
   "metadata":{
    "datalore":{
     "node_id":"Mf3PDlnAfZV5E3CKFjIILP",
     "type":"MD",
     "hide_input_from_viewers":false,
     "hide_output_from_viewers":false
    }
   }
  },
  {
   "cell_type":"code",
   "source":[
    "# user-defined function\n",
    "\n",
    "def hello(username):\n",
    "    print(\"Hello! \" + username)"
   ],
   "execution_count":30,
   "outputs":[
    
   ],
   "metadata":{
    "datalore":{
     "node_id":"EAcfQA38Q9jPS4kyyEgc88",
     "type":"CODE",
     "hide_input_from_viewers":false,
     "hide_output_from_viewers":false
    }
   }
  },
  {
   "cell_type":"code",
   "source":[
    "hello(\"Toy\")"
   ],
   "execution_count":31,
   "outputs":[
    {
     "name":"stdout",
     "text":[
      "Hello! Toy\n"
     ],
     "output_type":"stream"
    }
   ],
   "metadata":{
    "datalore":{
     "node_id":"6VI6GhEtIT0GvoyG1k1xWa",
     "type":"CODE",
     "hide_input_from_viewers":false,
     "hide_output_from_viewers":false
    }
   }
  },
  {
   "cell_type":"code",
   "source":[
    "def my_sum(val1, val2):\n",
    "    return val1 + val2\n",
    "\n",
    "result = my_sum(5, 15)"
   ],
   "execution_count":32,
   "outputs":[
    
   ],
   "metadata":{
    "datalore":{
     "node_id":"GjZ1kGaRgQLon3ToUiM84U",
     "type":"CODE",
     "hide_input_from_viewers":false,
     "hide_output_from_viewers":false
    }
   }
  },
  {
   "cell_type":"code",
   "source":[
    "print(result)"
   ],
   "execution_count":33,
   "outputs":[
    {
     "name":"stdout",
     "text":[
      "20\n"
     ],
     "output_type":"stream"
    }
   ],
   "metadata":{
    "datalore":{
     "node_id":"0vtiCNWcVc3N9RbstF6Fmo",
     "type":"CODE",
     "hide_input_from_viewers":false,
     "hide_output_from_viewers":false
    }
   }
  },
  {
   "cell_type":"markdown",
   "source":[
    "# OOP\n",
    "Object Oriented Programming"
   ],
   "attachments":{
    
   },
   "metadata":{
    "datalore":{
     "node_id":"rehUqgM9p59wXHrccbreee",
     "type":"MD",
     "hide_input_from_viewers":false,
     "hide_output_from_viewers":false
    }
   }
  },
  {
   "cell_type":"code",
   "source":[
    "class Dog:\n",
    "    name = \"Toy\"\n",
    "    age = 5\n",
    "    color = \"Brown\"\n",
    "    breed = \"French Bulldog\"\n",
    "\n",
    "# function (Dog method)\n",
    "\n",
    "    def sitting(self):\n",
    "        print(\"I am sitting now!\")\n",
    "\n",
    "    def hungry(self, food_name):\n",
    "        print(f\"I am hungry, I need {food_name}!\")"
   ],
   "execution_count":62,
   "outputs":[
    
   ],
   "metadata":{
    "datalore":{
     "node_id":"GqupxiglNOiuA3rLvRuBsa",
     "type":"CODE",
     "hide_input_from_viewers":false,
     "hide_output_from_viewers":false
    }
   }
  },
  {
   "cell_type":"code",
   "source":[
    "my_dog = Dog()\n",
    "type(my_dog)"
   ],
   "execution_count":63,
   "outputs":[
    {
     "data":{
      "text\/plain":[
       "__main__.Dog"
      ]
     },
     "metadata":{
      
     },
     "output_type":"display_data"
    }
   ],
   "metadata":{
    "datalore":{
     "node_id":"O0zl3N1WfW0ksRViqDlavs",
     "type":"CODE",
     "hide_input_from_viewers":false,
     "hide_output_from_viewers":false
    }
   }
  },
  {
   "cell_type":"code",
   "source":[
    "my_dog.sitting()"
   ],
   "execution_count":65,
   "outputs":[
    {
     "name":"stdout",
     "text":[
      "I am sitting now!\n"
     ],
     "output_type":"stream"
    }
   ],
   "metadata":{
    "datalore":{
     "node_id":"0t8zb9wTKfvDdrQT1DZ0Ov",
     "type":"CODE",
     "hide_input_from_viewers":false,
     "hide_output_from_viewers":false
    }
   }
  },
  {
   "cell_type":"code",
   "source":[
    "my_dog.hungry(\"Hamburger\")"
   ],
   "execution_count":66,
   "outputs":[
    {
     "name":"stdout",
     "text":[
      "I am hungry, I need Hamburger!\n"
     ],
     "output_type":"stream"
    }
   ],
   "metadata":{
    "datalore":{
     "node_id":"Wc5JseDaNA6bkrD1ddbUVx",
     "type":"CODE",
     "hide_input_from_viewers":false,
     "hide_output_from_viewers":false
    }
   }
  }
 ],
 "metadata":{
  "kernelspec":{
   "display_name":"Python",
   "language":"python",
   "name":"python"
  },
  "datalore":{
   "version":1,
   "computation_mode":"JUPYTER",
   "package_manager":"pip",
   "base_environment":"default",
   "packages":[
    
   ]
  }
 },
 "nbformat":4,
 "nbformat_minor":4
}