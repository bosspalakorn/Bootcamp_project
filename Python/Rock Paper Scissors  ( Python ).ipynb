{
 "cells":[
  {
   "cell_type":"markdown",
   "source":[
    "# Rock Paper Scissors  ( Python ) \n",
    "\n",
    "**Homework** `Rock Paper Scissors  ( Python ) ` \n",
    "\n",
    "**Sprint 08** `Python Programming`"
   ],
   "attachments":{
    
   },
   "metadata":{
    "datalore":{
     "node_id":"IHRIbfrYeMet51sMspfQmI",
     "type":"MD",
     "hide_input_from_viewers":false,
     "hide_output_from_viewers":false
    }
   }
  },
  {
   "cell_type":"code",
   "source":[
    "# Homework \n",
    "# 1. pao ying chub => Python "
   ],
   "execution_count":null,
   "outputs":[
    
   ],
   "metadata":{
    "datalore":{
     "node_id":"HmHOVWdHsJvIHNGugbLdt8",
     "type":"CODE",
     "hide_input_from_viewers":false,
     "hide_output_from_viewers":false
    }
   }
  },
  {
   "cell_type":"code",
   "source":[
    "import random as rd"
   ],
   "execution_count":21,
   "outputs":[
    
   ],
   "metadata":{
    "datalore":{
     "node_id":"ghoJaYM1hzgpNJKY2FHIzI",
     "type":"CODE",
     "hide_input_from_viewers":false,
     "hide_output_from_viewers":false
    }
   }
  },
  {
   "cell_type":"code",
   "source":[
    "print(\" JOI rock paper scissors game \")\n",
    "print(\"Welcome Krub, Let's play Pao Ying Chub !\")\n",
    "user_name = str(input(\"Please enter your name: \"))\n",
    "print(\"HI !\",{user_name})\n",
    "print(\"****************************\")\n",
    "\n",
    "print(\"JOI's rules\")\n",
    "print(\"****************************\")\n",
    "print(\"Select your number weapon\")\n",
    "print(\"P = Paper\")\n",
    "print(\"S = Scissor\")\n",
    "print(\"R = Rock\")\n",
    "print(\"****************************\")\n",
    "\n",
    "count = 0\n",
    "draw = 0 \n",
    "win = 0\n",
    "lose = 0\n",
    "\n",
    "while True:\n",
    "    user = input(\" Select weapon >> [P]paper, [S]scissors , [R]rock ): \")\n",
    "    user = user.upper() \n",
    "    player_answer = [\"P\", \"S\", \"R\"] \n",
    "    joi_bot =rd.choice(player_answer)\n",
    "    print(f\"You choose {user}, computer choose {joi_bot}.\")\n",
    "\n",
    "    if user == joi_bot:\n",
    "        print(f\"Both players selected {user}.  Tie !\")\n",
    "        count += 1\n",
    "        draw += 1\n",
    "    elif user == \"R\":\n",
    "        if joi_bot == \"P\":\n",
    "            print(\"Rock win scissors! You win!\")\n",
    "            count += 1\n",
    "            win += 1\n",
    "        else:\n",
    "            print(\"Paper win rock! You lose.\")\n",
    "            count += 1\n",
    "            lose += 1\n",
    "    elif user == \"P\":\n",
    "        if joi_bot == \"R\":\n",
    "            print(\"Paper win rock! You win!\")\n",
    "            count += 1\n",
    "            win += 1\n",
    "        else:\n",
    "            print(\"Scissors win paper! You lose.\")\n",
    "            count += 1\n",
    "            lose += 1\n",
    "    elif user == \"S\":\n",
    "        if joi_bot == \"P\":\n",
    "            print(\"Scissors win paper! You win!\")\n",
    "            count += 1\n",
    "            win += 1\n",
    "        else:\n",
    "            print(\"Rock win scissors! You lose.\")\n",
    "            count += 1\n",
    "            lose += 1\n",
    "\n",
    "\n",
    "# PLAY AGAIN \n",
    "    play_again = input(\"Do you want to play again? (Y\/N): \")\n",
    "    print(\"--------------------------------------------------------------\") \n",
    "    if play_again.upper() != \"Y\":\n",
    "\n",
    "\n",
    "\n",
    "# TOTAL SUMMARY\n",
    "        print(f\"You played {count} times.\")\n",
    "        print(\" TOTAL SUMMARY \")\n",
    "        print(f\"You won {win} times.\")\n",
    "        print(f\"You lose {lose} times.\")\n",
    "        print(f\"You draw {draw} times.\")\n",
    "        print(\"--------------------------------------------------------------\") \n",
    "\n",
    "        break"
   ],
   "execution_count":25,
   "outputs":[
    
   ],
   "metadata":{
    "datalore":{
     "node_id":"4g0dag9WWmaQ0XA2eqjnX5",
     "type":"CODE",
     "hide_input_from_viewers":false,
     "hide_output_from_viewers":false
    }
   }
  }
 ],
 "metadata":{
  "kernelspec":{
   "display_name":"Python",
   "language":"python",
   "name":"python"
  },
  "datalore":{
   "version":1,
   "computation_mode":"JUPYTER",
   "package_manager":"pip",
   "base_environment":"default",
   "packages":[
    
   ]
  }
 },
 "nbformat":4,
 "nbformat_minor":4
}