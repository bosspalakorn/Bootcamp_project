{
 "cells":[
  {
   "cell_type":"markdown",
   "source":[
    "# ATM class (Python) \n",
    "\n",
    "**Homework** ` ATM class (Python) ` \n",
    "\n",
    "**Sprint 08** `Python Programming`"
   ],
   "attachments":{
    
   },
   "metadata":{
    "datalore":{
     "node_id":"TXLmU0J8CnYYAFNmzFgd4a",
     "type":"MD",
     "hide_input_from_viewers":false,
     "hide_output_from_viewers":false
    }
   }
  },
  {
   "cell_type":"code",
   "source":[
    "# Homework  \n",
    "# ATM class => at lease 5 methods"
   ],
   "execution_count":null,
   "outputs":[
    
   ],
   "metadata":{
    "datalore":{
     "node_id":"jpgwOy1itYfPNvbm67CcGd",
     "type":"CODE",
     "hide_input_from_viewers":false,
     "hide_output_from_viewers":false
    }
   }
  },
  {
   "cell_type":"code",
   "source":[
    "class ATM:\n",
    "\n",
    "     # double underscore => dunder\n",
    "     def __init__(self,name,balance,pin):\n",
    "         self.name = name \n",
    "         self.balance = balance\n",
    "\n",
    "# balance\n",
    "    \n",
    "     def check_balance(self):\n",
    "         message = f\"Account:{self.name},Balance:{self.balance}\"\n",
    "         print(message)\n",
    "\n",
    "# change_name\n",
    "\n",
    "     def change_name(self,new_acc_name):\n",
    "         self.name = new_acc_name\n",
    "         print(f\"New Name:{self.name}\")\n",
    "         print(\"Your account name has been changed.\")\n",
    "         \n",
    " # change_password\n",
    "    \n",
    "     def change_pin(self, new_pin):\n",
    "         self.pin = new_pin\n",
    "         print(\"PIN successfully changed.\")\n",
    "\n",
    " # deposit \n",
    "     def deposit (self,money):\n",
    "         self.balance += money\n",
    "         print(f\"Deposit total {money} Baht . New balance: {self.balance}\")\n",
    "         print(\"Deposit successfully.\")\n",
    "      \n",
    " # withdraw \n",
    "    \n",
    "     def withdraw(self, money):\n",
    "         if money > self.balance:\n",
    "            print(\"Your balance is insufficient.\")\n",
    "         else:\n",
    "            self.balance -= money\n",
    "            print(f\"Dear Mr \/ Miss {self.name}\")\n",
    "            print(f\"Withdraw total {money} Baht . New balance: {self.balance}\")\n",
    "            print(\"Withdraw succesfuly \") \n",
    "    \n",
    "# transfer    \n",
    "\n",
    "     def transfer(self, recipient, money):\n",
    "         if money > self.balance:\n",
    "            print(\"Error: Insufficient funds.\")\n",
    "         else:\n",
    "             self.balance -= money\n",
    "             recipient.balance += money\n",
    "             print(f\"Transfer of {money} successful. New balance: {self.balance}\") \n",
    "\n",
    "#transactions\n",
    "\n",
    "     def print_transactions(self):\n",
    "         print(\"Transaction history:\")\n",
    "         for transaction in self.transactions:\n",
    "             print(transaction)\n",
    "\n",
    "\n",
    "# close_account\n",
    "    \n",
    "     def close_account(self):\n",
    "         print(\"Account closed.\")\n",
    "         self.balance = 0\n",
    "         self.pin = None\n",
    "         self.transactions = []"
   ],
   "execution_count":4,
   "outputs":[
    
   ],
   "metadata":{
    "datalore":{
     "node_id":"vVLSPIXRnCzyqQ7DFiLlNd",
     "type":"CODE",
     "hide_input_from_viewers":false,
     "hide_output_from_viewers":false
    }
   }
  },
  {
   "cell_type":"markdown",
   "source":[
    "# Test \n",
    "\n",
    "` ATM Class ` "
   ],
   "attachments":{
    
   },
   "metadata":{
    "datalore":{
     "node_id":"d5e4LxI6xYHj1rC0IaWqIe",
     "type":"MD",
     "hide_input_from_viewers":false,
     "hide_output_from_viewers":false
    }
   }
  },
  {
   "cell_type":"code",
   "source":[
    "# Example class ATM \n",
    "scb = ATM(\"Joi\", 3000,4289)"
   ],
   "execution_count":5,
   "outputs":[
    
   ],
   "metadata":{
    "datalore":{
     "node_id":"VZUwle1rZM5sJmDM2TTh9A",
     "type":"CODE",
     "hide_input_from_viewers":false,
     "hide_output_from_viewers":false
    }
   }
  },
  {
   "cell_type":"code",
   "source":[
    "print(scb.name,scb.balance)"
   ],
   "execution_count":6,
   "outputs":[
    {
     "name":"stdout",
     "text":[
      "Joi 3000\n"
     ],
     "output_type":"stream"
    }
   ],
   "metadata":{
    "datalore":{
     "node_id":"622gkkKOBh6Uf67Xks3big",
     "type":"CODE",
     "hide_input_from_viewers":false,
     "hide_output_from_viewers":false
    }
   }
  },
  {
   "cell_type":"code",
   "source":[
    "scb.check_balance()"
   ],
   "execution_count":7,
   "outputs":[
    {
     "name":"stdout",
     "text":[
      "Account:Joi,Balance:3000\n"
     ],
     "output_type":"stream"
    }
   ],
   "metadata":{
    "datalore":{
     "node_id":"v0j46t7cwJ23OMHUtJ6syv",
     "type":"CODE",
     "hide_input_from_viewers":false,
     "hide_output_from_viewers":false
    }
   }
  },
  {
   "cell_type":"code",
   "source":[
    "scb.deposit(1000)"
   ],
   "execution_count":8,
   "outputs":[
    {
     "name":"stdout",
     "text":[
      "Deposit total 1000 Baht . New balance: 4000\n",
      "Deposit successfully.\n"
     ],
     "output_type":"stream"
    }
   ],
   "metadata":{
    "datalore":{
     "node_id":"3GTS2QKQi7yjGBDsAGS26m",
     "type":"CODE",
     "hide_input_from_viewers":false,
     "hide_output_from_viewers":false
    }
   }
  },
  {
   "cell_type":"code",
   "source":[
    "scb.balance"
   ],
   "execution_count":9,
   "outputs":[
    {
     "data":{
      "text\/plain":[
       "4000"
      ]
     },
     "metadata":{
      
     },
     "output_type":"display_data"
    }
   ],
   "metadata":{
    "datalore":{
     "node_id":"W57fmbB8JhbqK2h0LiqWF5",
     "type":"CODE",
     "hide_input_from_viewers":false,
     "hide_output_from_viewers":false
    }
   }
  },
  {
   "cell_type":"code",
   "source":[
    "scb.name"
   ],
   "execution_count":10,
   "outputs":[
    {
     "data":{
      "text\/plain":[
       "'Joi'"
      ]
     },
     "metadata":{
      
     },
     "output_type":"display_data"
    }
   ],
   "metadata":{
    "datalore":{
     "node_id":"i9d673jhHm0Yl6h8ngFzGN",
     "type":"CODE",
     "hide_input_from_viewers":false,
     "hide_output_from_viewers":false
    }
   }
  },
  {
   "cell_type":"code",
   "source":[
    "scb.change_name(\"Joi cat\")"
   ],
   "execution_count":11,
   "outputs":[
    {
     "name":"stdout",
     "text":[
      "New Name:Joi cat\n",
      "Your account name has been changed.\n"
     ],
     "output_type":"stream"
    }
   ],
   "metadata":{
    "datalore":{
     "node_id":"semtI8UXiRJSQYfBOJzFti",
     "type":"CODE",
     "hide_input_from_viewers":false,
     "hide_output_from_viewers":false
    }
   }
  },
  {
   "cell_type":"code",
   "source":[
    "scb.name"
   ],
   "execution_count":12,
   "outputs":[
    {
     "data":{
      "text\/plain":[
       "'Joi cat'"
      ]
     },
     "metadata":{
      
     },
     "output_type":"display_data"
    }
   ],
   "metadata":{
    "datalore":{
     "node_id":"sIevjmalGsIo4gxsWEtZJS",
     "type":"CODE",
     "hide_input_from_viewers":false,
     "hide_output_from_viewers":false
    }
   }
  },
  {
   "cell_type":"markdown",
   "source":[
    "## use function in another bank "
   ],
   "attachments":{
    
   },
   "metadata":{
    "datalore":{
     "node_id":"2G48AR2ZFH2hS8L8qtp7zO",
     "type":"MD",
     "hide_input_from_viewers":false,
     "hide_output_from_viewers":false
    }
   }
  },
  {
   "cell_type":"code",
   "source":[
    "ttb = ATM(\"John\",15000,1234)"
   ],
   "execution_count":13,
   "outputs":[
    
   ],
   "metadata":{
    "datalore":{
     "node_id":"37myYICC2RILM0VMMkmL21",
     "type":"CODE",
     "hide_input_from_viewers":false,
     "hide_output_from_viewers":false
    }
   }
  },
  {
   "cell_type":"code",
   "source":[
    "ttb.withdraw(500) "
   ],
   "execution_count":14,
   "outputs":[
    {
     "name":"stdout",
     "text":[
      "Dear Mr \/ Miss John\n",
      "Withdraw total 500 Baht . New balance: 14500\n",
      "Withdraw succesfuly \n"
     ],
     "output_type":"stream"
    }
   ],
   "metadata":{
    "datalore":{
     "node_id":"w6gl5JdtITt851CiRlICbg",
     "type":"CODE",
     "hide_input_from_viewers":false,
     "hide_output_from_viewers":false
    }
   }
  },
  {
   "cell_type":"code",
   "source":[
    "ttb.check_balance() "
   ],
   "execution_count":15,
   "outputs":[
    {
     "name":"stdout",
     "text":[
      "Account:John,Balance:14500\n"
     ],
     "output_type":"stream"
    }
   ],
   "metadata":{
    "datalore":{
     "node_id":"AgzE73IWF7h2P88j4YCS5t",
     "type":"CODE",
     "hide_input_from_viewers":false,
     "hide_output_from_viewers":false
    }
   }
  },
  {
   "cell_type":"code",
   "source":[
    "ttb.change_pin(1257)"
   ],
   "execution_count":16,
   "outputs":[
    {
     "name":"stdout",
     "text":[
      "PIN successfully changed.\n"
     ],
     "output_type":"stream"
    }
   ],
   "metadata":{
    "datalore":{
     "node_id":"tgOpGF3CQ5OFjinDOPT6ct",
     "type":"CODE",
     "hide_input_from_viewers":false,
     "hide_output_from_viewers":false
    }
   }
  }
 ],
 "metadata":{
  "kernelspec":{
   "display_name":"Python",
   "language":"python",
   "name":"python"
  },
  "datalore":{
   "version":1,
   "computation_mode":"JUPYTER",
   "package_manager":"pip",
   "base_environment":"default",
   "packages":[
    
   ]
  }
 },
 "nbformat":4,
 "nbformat_minor":4
}