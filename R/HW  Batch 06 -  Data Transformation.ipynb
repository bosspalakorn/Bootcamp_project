{
 "cells":[
  {
   "cell_type":"markdown",
   "source":[
    "# Project NYC Flighs Analysis \n",
    "\n",
    " Assessment  Business Question by JOI "
   ],
   "attachments":{
    
   },
   "metadata":{
    "datalore":{
     "node_id":"hTE4nG0Vdrjkkq5yhraLwO",
     "type":"MD",
     "hide_input_from_viewers":false,
     "hide_output_from_viewers":false,
     "report_properties":{
      "y":0
     }
    }
   }
  },
  {
   "cell_type":"code",
   "source":[
    "# note key functions \n",
    "\n",
    "#shift + enter ==> RUN CODE\n",
    "#ctrl + M ==> convert to markdown cell"
   ],
   "execution_count":1,
   "outputs":[
    
   ],
   "metadata":{
    "datalore":{
     "node_id":"TPaemxr8jFEQdHHOT40XZ9",
     "type":"CODE",
     "hide_input_from_viewers":false,
     "hide_output_from_viewers":false,
     "report_properties":{
      "y":5
     }
    }
   }
  },
  {
   "cell_type":"markdown",
   "source":[
    "https:\/\/bookdown.org\/asmundhreinn\/r4ds-master\/diagrams\/relational-nycflights.png"
   ],
   "attachments":{
    
   },
   "metadata":{
    "datalore":{
     "node_id":"b4RzUvxBOQcnkRGc8LoqVq",
     "type":"MD",
     "hide_input_from_viewers":false,
     "hide_output_from_viewers":false,
     "report_properties":{
      "y":9
     }
    }
   }
  },
  {
   "cell_type":"markdown",
   "source":[
    "# Diagram \n",
    "https:\/\/bookdown.org\/asmundhreinn\/r4ds-master\/relational-data.html  "
   ],
   "attachments":{
    
   },
   "metadata":{
    "datalore":{
     "node_id":"mk0lx9cDl3q4xXKuLas2PW",
     "type":"MD",
     "hide_input_from_viewers":false,
     "hide_output_from_viewers":false,
     "report_properties":{
      "y":12
     }
    }
   }
  },
  {
   "cell_type":"code",
   "source":[
    "# check data \n",
    "library(dplyr)\n",
    "library(tidyverse)"
   ],
   "execution_count":2,
   "outputs":[
    {
     "name":"stderr",
     "text":[
      "\n",
      "Attaching package: ‘dplyr’\n",
      "\n",
      "\n",
      "The following objects are masked from ‘package:stats’:\n",
      "\n",
      "    filter, lag\n",
      "\n",
      "\n",
      "The following objects are masked from ‘package:base’:\n",
      "\n",
      "    intersect, setdiff, setequal, union\n",
      "\n",
      "\n",
      "Warning message in system(\"timedatectl\", intern = TRUE):\n",
      "“running command 'timedatectl' had status 1”\n",
      "Warning message:\n",
      "“Failed to locate timezone database”\n",
      "── \u001b[1mAttaching packages\u001b[22m ─────────────────────────────────────── tidyverse 1.3.1 ──\n",
      "\n",
      "\u001b[32m✔\u001b[39m \u001b[34mggplot2\u001b[39m 3.3.5     \u001b[32m✔\u001b[39m \u001b[34mpurrr  \u001b[39m 0.3.4\n",
      "\u001b[32m✔\u001b[39m \u001b[34mtibble \u001b[39m 3.1.5     \u001b[32m✔\u001b[39m \u001b[34mstringr\u001b[39m 1.4.0\n",
      "\u001b[32m✔\u001b[39m \u001b[34mtidyr  \u001b[39m 1.1.4     \u001b[32m✔\u001b[39m \u001b[34mforcats\u001b[39m 0.5.1\n",
      "\u001b[32m✔\u001b[39m \u001b[34mreadr  \u001b[39m 2.0.2     \n",
      "\n",
      "── \u001b[1mConflicts\u001b[22m ────────────────────────────────────────── tidyverse_conflicts() ──\n",
      "\u001b[31m✖\u001b[39m \u001b[34mdplyr\u001b[39m::\u001b[32mfilter()\u001b[39m  masks \u001b[34mstats\u001b[39m::filter()\n",
      "\u001b[31m✖\u001b[39m \u001b[34mpurrr\u001b[39m::\u001b[32mflatten()\u001b[39m masks \u001b[34mjsonlite\u001b[39m::flatten()\n",
      "\u001b[31m✖\u001b[39m \u001b[34mdplyr\u001b[39m::\u001b[32mlag()\u001b[39m     masks \u001b[34mstats\u001b[39m::lag()\n",
      "\n"
     ],
     "output_type":"stream"
    }
   ],
   "metadata":{
    "datalore":{
     "node_id":"g1C7NBd7fG9LsY4NePhKlz",
     "type":"CODE",
     "hide_input_from_viewers":false,
     "hide_output_from_viewers":false,
     "report_properties":{
      "y":17
     }
    }
   }
  },
  {
   "cell_type":"code",
   "source":[
    "flights <- read_csv(\"flights.csv\") "
   ],
   "execution_count":3,
   "outputs":[
    {
     "name":"stderr",
     "text":[
      "\u001b[1m\u001b[1mRows: \u001b[1m\u001b[22m\u001b[34m\u001b[34m336776\u001b[34m\u001b[39m \u001b[1m\u001b[1mColumns: \u001b[1m\u001b[22m\u001b[34m\u001b[34m19\u001b[34m\u001b[39m\n",
      "\n",
      "\u001b[36m──\u001b[39m \u001b[1m\u001b[1mColumn specification\u001b[1m\u001b[22m \u001b[36m────────────────────────────────────────────────────────\u001b[39m\n",
      "\u001b[1mDelimiter:\u001b[22m \",\"\n",
      "\u001b[31mchr\u001b[39m   (4): carrier, tailnum, origin, dest\n",
      "\u001b[32mdbl\u001b[39m  (14): year, month, day, dep_time, sched_dep_time, dep_delay, arr_time, ...\n",
      "\u001b[34mdttm\u001b[39m  (1): time_hour\n",
      "\n",
      "\n",
      "\u001b[36mℹ\u001b[39m Use \u001b[30m\u001b[47m\u001b[30m\u001b[47m`spec()`\u001b[47m\u001b[30m\u001b[49m\u001b[39m to retrieve the full column specification for this data.\n",
      "\u001b[36mℹ\u001b[39m Specify the column types or set \u001b[30m\u001b[47m\u001b[30m\u001b[47m`show_col_types = FALSE`\u001b[47m\u001b[30m\u001b[49m\u001b[39m to quiet this message.\n",
      "\n"
     ],
     "output_type":"stream"
    }
   ],
   "metadata":{
    "datalore":{
     "node_id":"jQU0VC3LggwhQG6mhzZXaG",
     "type":"CODE",
     "hide_input_from_viewers":false,
     "hide_output_from_viewers":false,
     "report_properties":{
      "y":31
     }
    }
   }
  },
  {
   "cell_type":"code",
   "source":[
    "flights <- read.csv(\"flights.csv\")\n",
    "airlines <- read.csv(\"airlines.csv\")\n",
    "planes <- read.csv(\"planes.csv\")\n",
    "weather <- read.csv(\"weather.csv\")"
   ],
   "execution_count":4,
   "outputs":[
    
   ],
   "metadata":{
    "datalore":{
     "node_id":"ntgbH4yzKJiUgefIEK6QVI",
     "type":"CODE",
     "hide_input_from_viewers":false,
     "hide_output_from_viewers":false,
     "report_properties":{
      "y":40
     }
    }
   }
  },
  {
   "cell_type":"code",
   "source":[
    "# check data\n",
    "head(flights)\n",
    "tail(flights)\n",
    "glimpse(flights)"
   ],
   "execution_count":5,
   "outputs":[
    {
     "name":"stdout",
     "text":[
      "Rows: 336,776\n",
      "Columns: 19\n",
      "$ year           \u001b[3m\u001b[90m<int>\u001b[39m\u001b[23m 2013, 2013, 2013, 2013, 2013, 2013, 2013, 2013, 2013, 2…\n",
      "$ month          \u001b[3m\u001b[90m<int>\u001b[39m\u001b[23m 1, 1, 1, 1, 1, 1, 1, 1, 1, 1, 1, 1, 1, 1, 1, 1, 1, 1, 1…\n",
      "$ day            \u001b[3m\u001b[90m<int>\u001b[39m\u001b[23m 1, 1, 1, 1, 1, 1, 1, 1, 1, 1, 1, 1, 1, 1, 1, 1, 1, 1, 1…\n",
      "$ dep_time       \u001b[3m\u001b[90m<int>\u001b[39m\u001b[23m 517, 533, 542, 544, 554, 554, 555, 557, 557, 558, 558, …\n",
      "$ sched_dep_time \u001b[3m\u001b[90m<int>\u001b[39m\u001b[23m 515, 529, 540, 545, 600, 558, 600, 600, 600, 600, 600, …\n",
      "$ dep_delay      \u001b[3m\u001b[90m<int>\u001b[39m\u001b[23m 2, 4, 2, -1, -6, -4, -5, -3, -3, -2, -2, -2, -2, -2, -1…\n",
      "$ arr_time       \u001b[3m\u001b[90m<int>\u001b[39m\u001b[23m 830, 850, 923, 1004, 812, 740, 913, 709, 838, 753, 849,…\n",
      "$ sched_arr_time \u001b[3m\u001b[90m<int>\u001b[39m\u001b[23m 819, 830, 850, 1022, 837, 728, 854, 723, 846, 745, 851,…\n",
      "$ arr_delay      \u001b[3m\u001b[90m<int>\u001b[39m\u001b[23m 11, 20, 33, -18, -25, 12, 19, -14, -8, 8, -2, -3, 7, -1…\n",
      "$ carrier        \u001b[3m\u001b[90m<chr>\u001b[39m\u001b[23m \"UA\", \"UA\", \"AA\", \"B6\", \"DL\", \"UA\", \"B6\", \"EV\", \"B6\", \"…\n",
      "$ flight         \u001b[3m\u001b[90m<int>\u001b[39m\u001b[23m 1545, 1714, 1141, 725, 461, 1696, 507, 5708, 79, 301, 4…\n",
      "$ tailnum        \u001b[3m\u001b[90m<chr>\u001b[39m\u001b[23m \"N14228\", \"N24211\", \"N619AA\", \"N804JB\", \"N668DN\", \"N394…\n",
      "$ origin         \u001b[3m\u001b[90m<chr>\u001b[39m\u001b[23m \"EWR\", \"LGA\", \"JFK\", \"JFK\", \"LGA\", \"EWR\", \"EWR\", \"LGA\",…\n",
      "$ dest           \u001b[3m\u001b[90m<chr>\u001b[39m\u001b[23m \"IAH\", \"IAH\", \"MIA\", \"BQN\", \"ATL\", \"ORD\", \"FLL\", \"IAD\",…\n",
      "$ air_time       \u001b[3m\u001b[90m<int>\u001b[39m\u001b[23m 227, 227, 160, 183, 116, 150, 158, 53, 140, 138, 149, 1…\n",
      "$ distance       \u001b[3m\u001b[90m<int>\u001b[39m\u001b[23m 1400, 1416, 1089, 1576, 762, 719, 1065, 229, 944, 733, …\n",
      "$ hour           \u001b[3m\u001b[90m<int>\u001b[39m\u001b[23m 5, 5, 5, 5, 6, 5, 6, 6, 6, 6, 6, 6, 6, 6, 6, 5, 6, 6, 6…\n",
      "$ minute         \u001b[3m\u001b[90m<int>\u001b[39m\u001b[23m 15, 29, 40, 45, 0, 58, 0, 0, 0, 0, 0, 0, 0, 0, 0, 59, 0…\n",
      "$ time_hour      \u001b[3m\u001b[90m<chr>\u001b[39m\u001b[23m \"2013-01-01T10:00:00Z\", \"2013-01-01T10:00:00Z\", \"2013-0…\n"
     ],
     "output_type":"stream"
    },
    {
     "data":{
      "text\/html":[
       "<table class=\"dataframe\">\n",
       "<caption>A data.frame: 6 × 19<\/caption>\n",
       "<thead>\n",
       "\t<tr><th><\/th><th scope=col>year<\/th><th scope=col>month<\/th><th scope=col>day<\/th><th scope=col>dep_time<\/th><th scope=col>sched_dep_time<\/th><th scope=col>dep_delay<\/th><th scope=col>arr_time<\/th><th scope=col>sched_arr_time<\/th><th scope=col>arr_delay<\/th><th scope=col>carrier<\/th><th scope=col>flight<\/th><th scope=col>tailnum<\/th><th scope=col>origin<\/th><th scope=col>dest<\/th><th scope=col>air_time<\/th><th scope=col>distance<\/th><th scope=col>hour<\/th><th scope=col>minute<\/th><th scope=col>time_hour<\/th><\/tr>\n",
       "\t<tr><th><\/th><th scope=col>&lt;int&gt;<\/th><th scope=col>&lt;int&gt;<\/th><th scope=col>&lt;int&gt;<\/th><th scope=col>&lt;int&gt;<\/th><th scope=col>&lt;int&gt;<\/th><th scope=col>&lt;int&gt;<\/th><th scope=col>&lt;int&gt;<\/th><th scope=col>&lt;int&gt;<\/th><th scope=col>&lt;int&gt;<\/th><th scope=col>&lt;chr&gt;<\/th><th scope=col>&lt;int&gt;<\/th><th scope=col>&lt;chr&gt;<\/th><th scope=col>&lt;chr&gt;<\/th><th scope=col>&lt;chr&gt;<\/th><th scope=col>&lt;int&gt;<\/th><th scope=col>&lt;int&gt;<\/th><th scope=col>&lt;int&gt;<\/th><th scope=col>&lt;int&gt;<\/th><th scope=col>&lt;chr&gt;<\/th><\/tr>\n",
       "<\/thead>\n",
       "<tbody>\n",
       "\t<tr><th scope=row>1<\/th><td>2013<\/td><td>1<\/td><td>1<\/td><td>517<\/td><td>515<\/td><td> 2<\/td><td> 830<\/td><td> 819<\/td><td> 11<\/td><td>UA<\/td><td>1545<\/td><td>N14228<\/td><td>EWR<\/td><td>IAH<\/td><td>227<\/td><td>1400<\/td><td>5<\/td><td>15<\/td><td>2013-01-01T10:00:00Z<\/td><\/tr>\n",
       "\t<tr><th scope=row>2<\/th><td>2013<\/td><td>1<\/td><td>1<\/td><td>533<\/td><td>529<\/td><td> 4<\/td><td> 850<\/td><td> 830<\/td><td> 20<\/td><td>UA<\/td><td>1714<\/td><td>N24211<\/td><td>LGA<\/td><td>IAH<\/td><td>227<\/td><td>1416<\/td><td>5<\/td><td>29<\/td><td>2013-01-01T10:00:00Z<\/td><\/tr>\n",
       "\t<tr><th scope=row>3<\/th><td>2013<\/td><td>1<\/td><td>1<\/td><td>542<\/td><td>540<\/td><td> 2<\/td><td> 923<\/td><td> 850<\/td><td> 33<\/td><td>AA<\/td><td>1141<\/td><td>N619AA<\/td><td>JFK<\/td><td>MIA<\/td><td>160<\/td><td>1089<\/td><td>5<\/td><td>40<\/td><td>2013-01-01T10:00:00Z<\/td><\/tr>\n",
       "\t<tr><th scope=row>4<\/th><td>2013<\/td><td>1<\/td><td>1<\/td><td>544<\/td><td>545<\/td><td>-1<\/td><td>1004<\/td><td>1022<\/td><td>-18<\/td><td>B6<\/td><td> 725<\/td><td>N804JB<\/td><td>JFK<\/td><td>BQN<\/td><td>183<\/td><td>1576<\/td><td>5<\/td><td>45<\/td><td>2013-01-01T10:00:00Z<\/td><\/tr>\n",
       "\t<tr><th scope=row>5<\/th><td>2013<\/td><td>1<\/td><td>1<\/td><td>554<\/td><td>600<\/td><td>-6<\/td><td> 812<\/td><td> 837<\/td><td>-25<\/td><td>DL<\/td><td> 461<\/td><td>N668DN<\/td><td>LGA<\/td><td>ATL<\/td><td>116<\/td><td> 762<\/td><td>6<\/td><td> 0<\/td><td>2013-01-01T11:00:00Z<\/td><\/tr>\n",
       "\t<tr><th scope=row>6<\/th><td>2013<\/td><td>1<\/td><td>1<\/td><td>554<\/td><td>558<\/td><td>-4<\/td><td> 740<\/td><td> 728<\/td><td> 12<\/td><td>UA<\/td><td>1696<\/td><td>N39463<\/td><td>EWR<\/td><td>ORD<\/td><td>150<\/td><td> 719<\/td><td>5<\/td><td>58<\/td><td>2013-01-01T10:00:00Z<\/td><\/tr>\n",
       "<\/tbody>\n",
       "<\/table>\n"
      ]
     },
     "metadata":{
      
     },
     "output_type":"display_data"
    },
    {
     "data":{
      "text\/html":[
       "<table class=\"dataframe\">\n",
       "<caption>A data.frame: 6 × 19<\/caption>\n",
       "<thead>\n",
       "\t<tr><th><\/th><th scope=col>year<\/th><th scope=col>month<\/th><th scope=col>day<\/th><th scope=col>dep_time<\/th><th scope=col>sched_dep_time<\/th><th scope=col>dep_delay<\/th><th scope=col>arr_time<\/th><th scope=col>sched_arr_time<\/th><th scope=col>arr_delay<\/th><th scope=col>carrier<\/th><th scope=col>flight<\/th><th scope=col>tailnum<\/th><th scope=col>origin<\/th><th scope=col>dest<\/th><th scope=col>air_time<\/th><th scope=col>distance<\/th><th scope=col>hour<\/th><th scope=col>minute<\/th><th scope=col>time_hour<\/th><\/tr>\n",
       "\t<tr><th><\/th><th scope=col>&lt;int&gt;<\/th><th scope=col>&lt;int&gt;<\/th><th scope=col>&lt;int&gt;<\/th><th scope=col>&lt;int&gt;<\/th><th scope=col>&lt;int&gt;<\/th><th scope=col>&lt;int&gt;<\/th><th scope=col>&lt;int&gt;<\/th><th scope=col>&lt;int&gt;<\/th><th scope=col>&lt;int&gt;<\/th><th scope=col>&lt;chr&gt;<\/th><th scope=col>&lt;int&gt;<\/th><th scope=col>&lt;chr&gt;<\/th><th scope=col>&lt;chr&gt;<\/th><th scope=col>&lt;chr&gt;<\/th><th scope=col>&lt;int&gt;<\/th><th scope=col>&lt;int&gt;<\/th><th scope=col>&lt;int&gt;<\/th><th scope=col>&lt;int&gt;<\/th><th scope=col>&lt;chr&gt;<\/th><\/tr>\n",
       "<\/thead>\n",
       "<tbody>\n",
       "\t<tr><th scope=row>336771<\/th><td>2013<\/td><td>9<\/td><td>30<\/td><td>NA<\/td><td>1842<\/td><td>NA<\/td><td>NA<\/td><td>2019<\/td><td>NA<\/td><td>EV<\/td><td>5274<\/td><td>N740EV<\/td><td>LGA<\/td><td>BNA<\/td><td>NA<\/td><td>764<\/td><td>18<\/td><td>42<\/td><td>2013-09-30T22:00:00Z<\/td><\/tr>\n",
       "\t<tr><th scope=row>336772<\/th><td>2013<\/td><td>9<\/td><td>30<\/td><td>NA<\/td><td>1455<\/td><td>NA<\/td><td>NA<\/td><td>1634<\/td><td>NA<\/td><td>9E<\/td><td>3393<\/td><td>NA    <\/td><td>JFK<\/td><td>DCA<\/td><td>NA<\/td><td>213<\/td><td>14<\/td><td>55<\/td><td>2013-09-30T18:00:00Z<\/td><\/tr>\n",
       "\t<tr><th scope=row>336773<\/th><td>2013<\/td><td>9<\/td><td>30<\/td><td>NA<\/td><td>2200<\/td><td>NA<\/td><td>NA<\/td><td>2312<\/td><td>NA<\/td><td>9E<\/td><td>3525<\/td><td>NA    <\/td><td>LGA<\/td><td>SYR<\/td><td>NA<\/td><td>198<\/td><td>22<\/td><td> 0<\/td><td>2013-10-01T02:00:00Z<\/td><\/tr>\n",
       "\t<tr><th scope=row>336774<\/th><td>2013<\/td><td>9<\/td><td>30<\/td><td>NA<\/td><td>1210<\/td><td>NA<\/td><td>NA<\/td><td>1330<\/td><td>NA<\/td><td>MQ<\/td><td>3461<\/td><td>N535MQ<\/td><td>LGA<\/td><td>BNA<\/td><td>NA<\/td><td>764<\/td><td>12<\/td><td>10<\/td><td>2013-09-30T16:00:00Z<\/td><\/tr>\n",
       "\t<tr><th scope=row>336775<\/th><td>2013<\/td><td>9<\/td><td>30<\/td><td>NA<\/td><td>1159<\/td><td>NA<\/td><td>NA<\/td><td>1344<\/td><td>NA<\/td><td>MQ<\/td><td>3572<\/td><td>N511MQ<\/td><td>LGA<\/td><td>CLE<\/td><td>NA<\/td><td>419<\/td><td>11<\/td><td>59<\/td><td>2013-09-30T15:00:00Z<\/td><\/tr>\n",
       "\t<tr><th scope=row>336776<\/th><td>2013<\/td><td>9<\/td><td>30<\/td><td>NA<\/td><td> 840<\/td><td>NA<\/td><td>NA<\/td><td>1020<\/td><td>NA<\/td><td>MQ<\/td><td>3531<\/td><td>N839MQ<\/td><td>LGA<\/td><td>RDU<\/td><td>NA<\/td><td>431<\/td><td> 8<\/td><td>40<\/td><td>2013-09-30T12:00:00Z<\/td><\/tr>\n",
       "<\/tbody>\n",
       "<\/table>\n"
      ]
     },
     "metadata":{
      
     },
     "output_type":"display_data"
    }
   ],
   "metadata":{
    "datalore":{
     "node_id":"vfUaoOpXfTveKYQ7fYiNoG",
     "type":"CODE",
     "hide_input_from_viewers":false,
     "hide_output_from_viewers":false,
     "report_properties":{
      "y":44
     }
    }
   }
  },
  {
   "cell_type":"code",
   "source":[
    "apply(flights , MARGIN = 2, function(col) sum(is.na(col)))"
   ],
   "execution_count":6,
   "outputs":[
    {
     "data":{
      "text\/html":[
       "<style>\n",
       ".dl-inline {width: auto; margin:0; padding: 0}\n",
       ".dl-inline>dt, .dl-inline>dd {float: none; width: auto; display: inline-block}\n",
       ".dl-inline>dt::after {content: \":\\0020\"; padding-right: .5ex}\n",
       ".dl-inline>dt:not(:first-of-type) {padding-left: .5ex}\n",
       "<\/style><dl class=dl-inline><dt>year<\/dt><dd>0<\/dd><dt>month<\/dt><dd>0<\/dd><dt>day<\/dt><dd>0<\/dd><dt>dep_time<\/dt><dd>8255<\/dd><dt>sched_dep_time<\/dt><dd>0<\/dd><dt>dep_delay<\/dt><dd>8255<\/dd><dt>arr_time<\/dt><dd>8713<\/dd><dt>sched_arr_time<\/dt><dd>0<\/dd><dt>arr_delay<\/dt><dd>9430<\/dd><dt>carrier<\/dt><dd>0<\/dd><dt>flight<\/dt><dd>0<\/dd><dt>tailnum<\/dt><dd>2512<\/dd><dt>origin<\/dt><dd>0<\/dd><dt>dest<\/dt><dd>0<\/dd><dt>air_time<\/dt><dd>9430<\/dd><dt>distance<\/dt><dd>0<\/dd><dt>hour<\/dt><dd>0<\/dd><dt>minute<\/dt><dd>0<\/dd><dt>time_hour<\/dt><dd>0<\/dd><\/dl>\n"
      ]
     },
     "metadata":{
      
     },
     "output_type":"display_data"
    }
   ],
   "metadata":{
    "datalore":{
     "node_id":"rv5NCagUUCh9nWk9QvEq7Y",
     "type":"CODE",
     "hide_input_from_viewers":false,
     "hide_output_from_viewers":false,
     "report_properties":{
      "y":74
     }
    }
   }
  },
  {
   "cell_type":"code",
   "source":[
    "\n",
    "glimpse(flights)\n",
    "glimpse(airlines)\n",
    "glimpse(planes)\n",
    "glimpse(weather)\n",
    "tibble()"
   ],
   "execution_count":7,
   "outputs":[
    {
     "name":"stdout",
     "text":[
      "Rows: 336,776\n",
      "Columns: 19\n",
      "$ year           \u001b[3m\u001b[90m<int>\u001b[39m\u001b[23m 2013, 2013, 2013, 2013, 2013, 2013, 2013, 2013, 2013, 2…\n",
      "$ month          \u001b[3m\u001b[90m<int>\u001b[39m\u001b[23m 1, 1, 1, 1, 1, 1, 1, 1, 1, 1, 1, 1, 1, 1, 1, 1, 1, 1, 1…\n",
      "$ day            \u001b[3m\u001b[90m<int>\u001b[39m\u001b[23m 1, 1, 1, 1, 1, 1, 1, 1, 1, 1, 1, 1, 1, 1, 1, 1, 1, 1, 1…\n",
      "$ dep_time       \u001b[3m\u001b[90m<int>\u001b[39m\u001b[23m 517, 533, 542, 544, 554, 554, 555, 557, 557, 558, 558, …\n",
      "$ sched_dep_time \u001b[3m\u001b[90m<int>\u001b[39m\u001b[23m 515, 529, 540, 545, 600, 558, 600, 600, 600, 600, 600, …\n",
      "$ dep_delay      \u001b[3m\u001b[90m<int>\u001b[39m\u001b[23m 2, 4, 2, -1, -6, -4, -5, -3, -3, -2, -2, -2, -2, -2, -1…\n",
      "$ arr_time       \u001b[3m\u001b[90m<int>\u001b[39m\u001b[23m 830, 850, 923, 1004, 812, 740, 913, 709, 838, 753, 849,…\n",
      "$ sched_arr_time \u001b[3m\u001b[90m<int>\u001b[39m\u001b[23m 819, 830, 850, 1022, 837, 728, 854, 723, 846, 745, 851,…\n",
      "$ arr_delay      \u001b[3m\u001b[90m<int>\u001b[39m\u001b[23m 11, 20, 33, -18, -25, 12, 19, -14, -8, 8, -2, -3, 7, -1…\n",
      "$ carrier        \u001b[3m\u001b[90m<chr>\u001b[39m\u001b[23m \"UA\", \"UA\", \"AA\", \"B6\", \"DL\", \"UA\", \"B6\", \"EV\", \"B6\", \"…\n",
      "$ flight         \u001b[3m\u001b[90m<int>\u001b[39m\u001b[23m 1545, 1714, 1141, 725, 461, 1696, 507, 5708, 79, 301, 4…\n",
      "$ tailnum        \u001b[3m\u001b[90m<chr>\u001b[39m\u001b[23m \"N14228\", \"N24211\", \"N619AA\", \"N804JB\", \"N668DN\", \"N394…\n",
      "$ origin         \u001b[3m\u001b[90m<chr>\u001b[39m\u001b[23m \"EWR\", \"LGA\", \"JFK\", \"JFK\", \"LGA\", \"EWR\", \"EWR\", \"LGA\",…\n",
      "$ dest           \u001b[3m\u001b[90m<chr>\u001b[39m\u001b[23m \"IAH\", \"IAH\", \"MIA\", \"BQN\", \"ATL\", \"ORD\", \"FLL\", \"IAD\",…\n",
      "$ air_time       \u001b[3m\u001b[90m<int>\u001b[39m\u001b[23m 227, 227, 160, 183, 116, 150, 158, 53, 140, 138, 149, 1…\n",
      "$ distance       \u001b[3m\u001b[90m<int>\u001b[39m\u001b[23m 1400, 1416, 1089, 1576, 762, 719, 1065, 229, 944, 733, …\n",
      "$ hour           \u001b[3m\u001b[90m<int>\u001b[39m\u001b[23m 5, 5, 5, 5, 6, 5, 6, 6, 6, 6, 6, 6, 6, 6, 6, 5, 6, 6, 6…\n",
      "$ minute         \u001b[3m\u001b[90m<int>\u001b[39m\u001b[23m 15, 29, 40, 45, 0, 58, 0, 0, 0, 0, 0, 0, 0, 0, 0, 59, 0…\n",
      "$ time_hour      \u001b[3m\u001b[90m<chr>\u001b[39m\u001b[23m \"2013-01-01T10:00:00Z\", \"2013-01-01T10:00:00Z\", \"2013-0…\n",
      "Rows: 16\n",
      "Columns: 2\n",
      "$ carrier \u001b[3m\u001b[90m<chr>\u001b[39m\u001b[23m \"9E\", \"AA\", \"AS\", \"B6\", \"DL\", \"EV\", \"F9\", \"FL\", \"HA\", \"MQ\", \"O…\n",
      "$ name    \u001b[3m\u001b[90m<chr>\u001b[39m\u001b[23m \"Endeavor Air Inc.\", \"American Airlines Inc.\", \"Alaska Airline…\n",
      "Rows: 3,322\n",
      "Columns: 9\n",
      "$ tailnum      \u001b[3m\u001b[90m<chr>\u001b[39m\u001b[23m \"N10156\", \"N102UW\", \"N103US\", \"N104UW\", \"N10575\", \"N105UW…\n",
      "$ year         \u001b[3m\u001b[90m<int>\u001b[39m\u001b[23m 2004, 1998, 1999, 1999, 2002, 1999, 1999, 1999, 1999, 199…\n",
      "$ type         \u001b[3m\u001b[90m<chr>\u001b[39m\u001b[23m \"Fixed wing multi engine\", \"Fixed wing multi engine\", \"Fi…\n",
      "$ manufacturer \u001b[3m\u001b[90m<chr>\u001b[39m\u001b[23m \"EMBRAER\", \"AIRBUS INDUSTRIE\", \"AIRBUS INDUSTRIE\", \"AIRBU…\n",
      "$ model        \u001b[3m\u001b[90m<chr>\u001b[39m\u001b[23m \"EMB-145XR\", \"A320-214\", \"A320-214\", \"A320-214\", \"EMB-145…\n",
      "$ engines      \u001b[3m\u001b[90m<int>\u001b[39m\u001b[23m 2, 2, 2, 2, 2, 2, 2, 2, 2, 2, 2, 2, 2, 2, 2, 2, 2, 2, 2, …\n",
      "$ seats        \u001b[3m\u001b[90m<int>\u001b[39m\u001b[23m 55, 182, 182, 182, 55, 182, 182, 182, 182, 182, 55, 55, 5…\n",
      "$ speed        \u001b[3m\u001b[90m<int>\u001b[39m\u001b[23m NA, NA, NA, NA, NA, NA, NA, NA, NA, NA, NA, NA, NA, NA, N…\n",
      "$ engine       \u001b[3m\u001b[90m<chr>\u001b[39m\u001b[23m \"Turbo-fan\", \"Turbo-fan\", \"Turbo-fan\", \"Turbo-fan\", \"Turb…\n",
      "Rows: 26,115\n",
      "Columns: 15\n",
      "$ origin     \u001b[3m\u001b[90m<chr>\u001b[39m\u001b[23m \"EWR\", \"EWR\", \"EWR\", \"EWR\", \"EWR\", \"EWR\", \"EWR\", \"EWR\", \"EW…\n",
      "$ year       \u001b[3m\u001b[90m<int>\u001b[39m\u001b[23m 2013, 2013, 2013, 2013, 2013, 2013, 2013, 2013, 2013, 2013,…\n",
      "$ month      \u001b[3m\u001b[90m<int>\u001b[39m\u001b[23m 1, 1, 1, 1, 1, 1, 1, 1, 1, 1, 1, 1, 1, 1, 1, 1, 1, 1, 1, 1,…\n",
      "$ day        \u001b[3m\u001b[90m<int>\u001b[39m\u001b[23m 1, 1, 1, 1, 1, 1, 1, 1, 1, 1, 1, 1, 1, 1, 1, 1, 1, 1, 1, 1,…\n",
      "$ hour       \u001b[3m\u001b[90m<int>\u001b[39m\u001b[23m 1, 2, 3, 4, 5, 6, 7, 8, 9, 10, 11, 13, 14, 15, 16, 17, 18, …\n",
      "$ temp       \u001b[3m\u001b[90m<dbl>\u001b[39m\u001b[23m 39.02, 39.02, 39.02, 39.92, 39.02, 37.94, 39.02, 39.92, 39.…\n",
      "$ dewp       \u001b[3m\u001b[90m<dbl>\u001b[39m\u001b[23m 26.06, 26.96, 28.04, 28.04, 28.04, 28.04, 28.04, 28.04, 28.…\n",
      "$ humid      \u001b[3m\u001b[90m<dbl>\u001b[39m\u001b[23m 59.37, 61.63, 64.43, 62.21, 64.43, 67.21, 64.43, 62.21, 62.…\n",
      "$ wind_dir   \u001b[3m\u001b[90m<int>\u001b[39m\u001b[23m 270, 250, 240, 250, 260, 240, 240, 250, 260, 260, 260, 330,…\n",
      "$ wind_speed \u001b[3m\u001b[90m<dbl>\u001b[39m\u001b[23m 10.35702, 8.05546, 11.50780, 12.65858, 12.65858, 11.50780, …\n",
      "$ wind_gust  \u001b[3m\u001b[90m<dbl>\u001b[39m\u001b[23m NA, NA, NA, NA, NA, NA, NA, NA, NA, NA, NA, NA, NA, NA, 20.…\n",
      "$ precip     \u001b[3m\u001b[90m<dbl>\u001b[39m\u001b[23m 0, 0, 0, 0, 0, 0, 0, 0, 0, 0, 0, 0, 0, 0, 0, 0, 0, 0, 0, 0,…\n",
      "$ pressure   \u001b[3m\u001b[90m<dbl>\u001b[39m\u001b[23m 1012.0, 1012.3, 1012.5, 1012.2, 1011.9, 1012.4, 1012.2, 101…\n",
      "$ visib      \u001b[3m\u001b[90m<dbl>\u001b[39m\u001b[23m 10, 10, 10, 10, 10, 10, 10, 10, 10, 10, 10, 10, 10, 10, 10,…\n",
      "$ time_hour  \u001b[3m\u001b[90m<chr>\u001b[39m\u001b[23m \"2013-01-01T06:00:00Z\", \"2013-01-01T07:00:00Z\", \"2013-01-01…\n"
     ],
     "output_type":"stream"
    },
    {
     "data":{
      "text\/html":[
       "<pre>%lt;0 x 0 matrix%gt;<\/pre>"
      ]
     },
     "metadata":{
      
     },
     "output_type":"display_data"
    }
   ],
   "metadata":{
    "datalore":{
     "node_id":"v4CpXfOcF6X0xNzxZvekqN",
     "type":"CODE",
     "hide_input_from_viewers":false,
     "hide_output_from_viewers":false,
     "report_properties":{
      "y":79
     }
    }
   }
  },
  {
   "cell_type":"code",
   "source":[
    "# head data\n",
    "head(flights)\n",
    "head(airlines)\n",
    "head(planes)\n",
    "head(weather)"
   ],
   "execution_count":8,
   "outputs":[
    {
     "data":{
      "text\/html":[
       "<table class=\"dataframe\">\n",
       "<caption>A data.frame: 6 × 19<\/caption>\n",
       "<thead>\n",
       "\t<tr><th><\/th><th scope=col>year<\/th><th scope=col>month<\/th><th scope=col>day<\/th><th scope=col>dep_time<\/th><th scope=col>sched_dep_time<\/th><th scope=col>dep_delay<\/th><th scope=col>arr_time<\/th><th scope=col>sched_arr_time<\/th><th scope=col>arr_delay<\/th><th scope=col>carrier<\/th><th scope=col>flight<\/th><th scope=col>tailnum<\/th><th scope=col>origin<\/th><th scope=col>dest<\/th><th scope=col>air_time<\/th><th scope=col>distance<\/th><th scope=col>hour<\/th><th scope=col>minute<\/th><th scope=col>time_hour<\/th><\/tr>\n",
       "\t<tr><th><\/th><th scope=col>&lt;int&gt;<\/th><th scope=col>&lt;int&gt;<\/th><th scope=col>&lt;int&gt;<\/th><th scope=col>&lt;int&gt;<\/th><th scope=col>&lt;int&gt;<\/th><th scope=col>&lt;int&gt;<\/th><th scope=col>&lt;int&gt;<\/th><th scope=col>&lt;int&gt;<\/th><th scope=col>&lt;int&gt;<\/th><th scope=col>&lt;chr&gt;<\/th><th scope=col>&lt;int&gt;<\/th><th scope=col>&lt;chr&gt;<\/th><th scope=col>&lt;chr&gt;<\/th><th scope=col>&lt;chr&gt;<\/th><th scope=col>&lt;int&gt;<\/th><th scope=col>&lt;int&gt;<\/th><th scope=col>&lt;int&gt;<\/th><th scope=col>&lt;int&gt;<\/th><th scope=col>&lt;chr&gt;<\/th><\/tr>\n",
       "<\/thead>\n",
       "<tbody>\n",
       "\t<tr><th scope=row>1<\/th><td>2013<\/td><td>1<\/td><td>1<\/td><td>517<\/td><td>515<\/td><td> 2<\/td><td> 830<\/td><td> 819<\/td><td> 11<\/td><td>UA<\/td><td>1545<\/td><td>N14228<\/td><td>EWR<\/td><td>IAH<\/td><td>227<\/td><td>1400<\/td><td>5<\/td><td>15<\/td><td>2013-01-01T10:00:00Z<\/td><\/tr>\n",
       "\t<tr><th scope=row>2<\/th><td>2013<\/td><td>1<\/td><td>1<\/td><td>533<\/td><td>529<\/td><td> 4<\/td><td> 850<\/td><td> 830<\/td><td> 20<\/td><td>UA<\/td><td>1714<\/td><td>N24211<\/td><td>LGA<\/td><td>IAH<\/td><td>227<\/td><td>1416<\/td><td>5<\/td><td>29<\/td><td>2013-01-01T10:00:00Z<\/td><\/tr>\n",
       "\t<tr><th scope=row>3<\/th><td>2013<\/td><td>1<\/td><td>1<\/td><td>542<\/td><td>540<\/td><td> 2<\/td><td> 923<\/td><td> 850<\/td><td> 33<\/td><td>AA<\/td><td>1141<\/td><td>N619AA<\/td><td>JFK<\/td><td>MIA<\/td><td>160<\/td><td>1089<\/td><td>5<\/td><td>40<\/td><td>2013-01-01T10:00:00Z<\/td><\/tr>\n",
       "\t<tr><th scope=row>4<\/th><td>2013<\/td><td>1<\/td><td>1<\/td><td>544<\/td><td>545<\/td><td>-1<\/td><td>1004<\/td><td>1022<\/td><td>-18<\/td><td>B6<\/td><td> 725<\/td><td>N804JB<\/td><td>JFK<\/td><td>BQN<\/td><td>183<\/td><td>1576<\/td><td>5<\/td><td>45<\/td><td>2013-01-01T10:00:00Z<\/td><\/tr>\n",
       "\t<tr><th scope=row>5<\/th><td>2013<\/td><td>1<\/td><td>1<\/td><td>554<\/td><td>600<\/td><td>-6<\/td><td> 812<\/td><td> 837<\/td><td>-25<\/td><td>DL<\/td><td> 461<\/td><td>N668DN<\/td><td>LGA<\/td><td>ATL<\/td><td>116<\/td><td> 762<\/td><td>6<\/td><td> 0<\/td><td>2013-01-01T11:00:00Z<\/td><\/tr>\n",
       "\t<tr><th scope=row>6<\/th><td>2013<\/td><td>1<\/td><td>1<\/td><td>554<\/td><td>558<\/td><td>-4<\/td><td> 740<\/td><td> 728<\/td><td> 12<\/td><td>UA<\/td><td>1696<\/td><td>N39463<\/td><td>EWR<\/td><td>ORD<\/td><td>150<\/td><td> 719<\/td><td>5<\/td><td>58<\/td><td>2013-01-01T10:00:00Z<\/td><\/tr>\n",
       "<\/tbody>\n",
       "<\/table>\n"
      ]
     },
     "metadata":{
      
     },
     "output_type":"display_data"
    },
    {
     "data":{
      "text\/html":[
       "<table class=\"dataframe\">\n",
       "<caption>A data.frame: 6 × 2<\/caption>\n",
       "<thead>\n",
       "\t<tr><th><\/th><th scope=col>carrier<\/th><th scope=col>name<\/th><\/tr>\n",
       "\t<tr><th><\/th><th scope=col>&lt;chr&gt;<\/th><th scope=col>&lt;chr&gt;<\/th><\/tr>\n",
       "<\/thead>\n",
       "<tbody>\n",
       "\t<tr><th scope=row>1<\/th><td>9E<\/td><td>Endeavor Air Inc.       <\/td><\/tr>\n",
       "\t<tr><th scope=row>2<\/th><td>AA<\/td><td>American Airlines Inc.  <\/td><\/tr>\n",
       "\t<tr><th scope=row>3<\/th><td>AS<\/td><td>Alaska Airlines Inc.    <\/td><\/tr>\n",
       "\t<tr><th scope=row>4<\/th><td>B6<\/td><td>JetBlue Airways         <\/td><\/tr>\n",
       "\t<tr><th scope=row>5<\/th><td>DL<\/td><td>Delta Air Lines Inc.    <\/td><\/tr>\n",
       "\t<tr><th scope=row>6<\/th><td>EV<\/td><td>ExpressJet Airlines Inc.<\/td><\/tr>\n",
       "<\/tbody>\n",
       "<\/table>\n"
      ]
     },
     "metadata":{
      
     },
     "output_type":"display_data"
    },
    {
     "data":{
      "text\/html":[
       "<table class=\"dataframe\">\n",
       "<caption>A data.frame: 6 × 9<\/caption>\n",
       "<thead>\n",
       "\t<tr><th><\/th><th scope=col>tailnum<\/th><th scope=col>year<\/th><th scope=col>type<\/th><th scope=col>manufacturer<\/th><th scope=col>model<\/th><th scope=col>engines<\/th><th scope=col>seats<\/th><th scope=col>speed<\/th><th scope=col>engine<\/th><\/tr>\n",
       "\t<tr><th><\/th><th scope=col>&lt;chr&gt;<\/th><th scope=col>&lt;int&gt;<\/th><th scope=col>&lt;chr&gt;<\/th><th scope=col>&lt;chr&gt;<\/th><th scope=col>&lt;chr&gt;<\/th><th scope=col>&lt;int&gt;<\/th><th scope=col>&lt;int&gt;<\/th><th scope=col>&lt;int&gt;<\/th><th scope=col>&lt;chr&gt;<\/th><\/tr>\n",
       "<\/thead>\n",
       "<tbody>\n",
       "\t<tr><th scope=row>1<\/th><td>N10156<\/td><td>2004<\/td><td>Fixed wing multi engine<\/td><td>EMBRAER         <\/td><td>EMB-145XR<\/td><td>2<\/td><td> 55<\/td><td>NA<\/td><td>Turbo-fan<\/td><\/tr>\n",
       "\t<tr><th scope=row>2<\/th><td>N102UW<\/td><td>1998<\/td><td>Fixed wing multi engine<\/td><td>AIRBUS INDUSTRIE<\/td><td>A320-214 <\/td><td>2<\/td><td>182<\/td><td>NA<\/td><td>Turbo-fan<\/td><\/tr>\n",
       "\t<tr><th scope=row>3<\/th><td>N103US<\/td><td>1999<\/td><td>Fixed wing multi engine<\/td><td>AIRBUS INDUSTRIE<\/td><td>A320-214 <\/td><td>2<\/td><td>182<\/td><td>NA<\/td><td>Turbo-fan<\/td><\/tr>\n",
       "\t<tr><th scope=row>4<\/th><td>N104UW<\/td><td>1999<\/td><td>Fixed wing multi engine<\/td><td>AIRBUS INDUSTRIE<\/td><td>A320-214 <\/td><td>2<\/td><td>182<\/td><td>NA<\/td><td>Turbo-fan<\/td><\/tr>\n",
       "\t<tr><th scope=row>5<\/th><td>N10575<\/td><td>2002<\/td><td>Fixed wing multi engine<\/td><td>EMBRAER         <\/td><td>EMB-145LR<\/td><td>2<\/td><td> 55<\/td><td>NA<\/td><td>Turbo-fan<\/td><\/tr>\n",
       "\t<tr><th scope=row>6<\/th><td>N105UW<\/td><td>1999<\/td><td>Fixed wing multi engine<\/td><td>AIRBUS INDUSTRIE<\/td><td>A320-214 <\/td><td>2<\/td><td>182<\/td><td>NA<\/td><td>Turbo-fan<\/td><\/tr>\n",
       "<\/tbody>\n",
       "<\/table>\n"
      ]
     },
     "metadata":{
      
     },
     "output_type":"display_data"
    },
    {
     "data":{
      "text\/html":[
       "<table class=\"dataframe\">\n",
       "<caption>A data.frame: 6 × 15<\/caption>\n",
       "<thead>\n",
       "\t<tr><th><\/th><th scope=col>origin<\/th><th scope=col>year<\/th><th scope=col>month<\/th><th scope=col>day<\/th><th scope=col>hour<\/th><th scope=col>temp<\/th><th scope=col>dewp<\/th><th scope=col>humid<\/th><th scope=col>wind_dir<\/th><th scope=col>wind_speed<\/th><th scope=col>wind_gust<\/th><th scope=col>precip<\/th><th scope=col>pressure<\/th><th scope=col>visib<\/th><th scope=col>time_hour<\/th><\/tr>\n",
       "\t<tr><th><\/th><th scope=col>&lt;chr&gt;<\/th><th scope=col>&lt;int&gt;<\/th><th scope=col>&lt;int&gt;<\/th><th scope=col>&lt;int&gt;<\/th><th scope=col>&lt;int&gt;<\/th><th scope=col>&lt;dbl&gt;<\/th><th scope=col>&lt;dbl&gt;<\/th><th scope=col>&lt;dbl&gt;<\/th><th scope=col>&lt;int&gt;<\/th><th scope=col>&lt;dbl&gt;<\/th><th scope=col>&lt;dbl&gt;<\/th><th scope=col>&lt;dbl&gt;<\/th><th scope=col>&lt;dbl&gt;<\/th><th scope=col>&lt;dbl&gt;<\/th><th scope=col>&lt;chr&gt;<\/th><\/tr>\n",
       "<\/thead>\n",
       "<tbody>\n",
       "\t<tr><th scope=row>1<\/th><td>EWR<\/td><td>2013<\/td><td>1<\/td><td>1<\/td><td>1<\/td><td>39.02<\/td><td>26.06<\/td><td>59.37<\/td><td>270<\/td><td>10.35702<\/td><td>NA<\/td><td>0<\/td><td>1012.0<\/td><td>10<\/td><td>2013-01-01T06:00:00Z<\/td><\/tr>\n",
       "\t<tr><th scope=row>2<\/th><td>EWR<\/td><td>2013<\/td><td>1<\/td><td>1<\/td><td>2<\/td><td>39.02<\/td><td>26.96<\/td><td>61.63<\/td><td>250<\/td><td> 8.05546<\/td><td>NA<\/td><td>0<\/td><td>1012.3<\/td><td>10<\/td><td>2013-01-01T07:00:00Z<\/td><\/tr>\n",
       "\t<tr><th scope=row>3<\/th><td>EWR<\/td><td>2013<\/td><td>1<\/td><td>1<\/td><td>3<\/td><td>39.02<\/td><td>28.04<\/td><td>64.43<\/td><td>240<\/td><td>11.50780<\/td><td>NA<\/td><td>0<\/td><td>1012.5<\/td><td>10<\/td><td>2013-01-01T08:00:00Z<\/td><\/tr>\n",
       "\t<tr><th scope=row>4<\/th><td>EWR<\/td><td>2013<\/td><td>1<\/td><td>1<\/td><td>4<\/td><td>39.92<\/td><td>28.04<\/td><td>62.21<\/td><td>250<\/td><td>12.65858<\/td><td>NA<\/td><td>0<\/td><td>1012.2<\/td><td>10<\/td><td>2013-01-01T09:00:00Z<\/td><\/tr>\n",
       "\t<tr><th scope=row>5<\/th><td>EWR<\/td><td>2013<\/td><td>1<\/td><td>1<\/td><td>5<\/td><td>39.02<\/td><td>28.04<\/td><td>64.43<\/td><td>260<\/td><td>12.65858<\/td><td>NA<\/td><td>0<\/td><td>1011.9<\/td><td>10<\/td><td>2013-01-01T10:00:00Z<\/td><\/tr>\n",
       "\t<tr><th scope=row>6<\/th><td>EWR<\/td><td>2013<\/td><td>1<\/td><td>1<\/td><td>6<\/td><td>37.94<\/td><td>28.04<\/td><td>67.21<\/td><td>240<\/td><td>11.50780<\/td><td>NA<\/td><td>0<\/td><td>1012.4<\/td><td>10<\/td><td>2013-01-01T11:00:00Z<\/td><\/tr>\n",
       "<\/tbody>\n",
       "<\/table>\n"
      ]
     },
     "metadata":{
      
     },
     "output_type":"display_data"
    }
   ],
   "metadata":{
    "datalore":{
     "node_id":"VMlpXY12Vw09rigg4CI8zV",
     "type":"CODE",
     "hide_input_from_viewers":false,
     "hide_output_from_viewers":false,
     "report_properties":{
      "y":95
     }
    }
   }
  },
  {
   "cell_type":"code",
   "source":[
    
   ],
   "execution_count":null,
   "outputs":[
    
   ],
   "metadata":{
    "datalore":{
     "node_id":"zPmv33wQuaRnPVH2JMiBM2",
     "type":"CODE",
     "hide_input_from_viewers":true,
     "hide_output_from_viewers":true
    }
   }
  },
  {
   "cell_type":"markdown",
   "source":[
    "# Homework Create Business Question "
   ],
   "attachments":{
    
   },
   "metadata":{
    "datalore":{
     "node_id":"2AqjridPYQaq1HcfTrV8tB",
     "type":"MD",
     "hide_input_from_viewers":false,
     "hide_output_from_viewers":false,
     "report_properties":{
      "y":127
     }
    }
   }
  },
  {
   "cell_type":"markdown",
   "source":[
    "#  Which top 5 airline had total longest flight distance in March 2013?"
   ],
   "attachments":{
    
   },
   "metadata":{
    "datalore":{
     "node_id":"V7ma7YPJh4IKXRlYZRtLUJ",
     "type":"MD",
     "hide_input_from_viewers":false,
     "hide_output_from_viewers":false,
     "report_properties":{
      "y":131
     }
    }
   }
  },
  {
   "cell_type":"code",
   "source":[
    "flights %>%\n",
    "  filter(month == 3, year == 2013) %>%\n",
    "  count(carrier) %>%\n",
    "  arrange(desc(n)) %>%\n",
    "  left_join(airlines , \"carrier\") %>%\n",
    "  head(5)\n",
    "  tibble()"
   ],
   "execution_count":9,
   "outputs":[
    {
     "data":{
      "text\/html":[
       "<table class=\"dataframe\">\n",
       "<caption>A data.frame: 5 × 3<\/caption>\n",
       "<thead>\n",
       "\t<tr><th><\/th><th scope=col>carrier<\/th><th scope=col>n<\/th><th scope=col>name<\/th><\/tr>\n",
       "\t<tr><th><\/th><th scope=col>&lt;chr&gt;<\/th><th scope=col>&lt;int&gt;<\/th><th scope=col>&lt;chr&gt;<\/th><\/tr>\n",
       "<\/thead>\n",
       "<tbody>\n",
       "\t<tr><th scope=row>1<\/th><td>UA<\/td><td>4971<\/td><td>United Air Lines Inc.   <\/td><\/tr>\n",
       "\t<tr><th scope=row>2<\/th><td>B6<\/td><td>4772<\/td><td>JetBlue Airways         <\/td><\/tr>\n",
       "\t<tr><th scope=row>3<\/th><td>EV<\/td><td>4726<\/td><td>ExpressJet Airlines Inc.<\/td><\/tr>\n",
       "\t<tr><th scope=row>4<\/th><td>DL<\/td><td>4189<\/td><td>Delta Air Lines Inc.    <\/td><\/tr>\n",
       "\t<tr><th scope=row>5<\/th><td>AA<\/td><td>2787<\/td><td>American Airlines Inc.  <\/td><\/tr>\n",
       "<\/tbody>\n",
       "<\/table>\n"
      ]
     },
     "metadata":{
      
     },
     "output_type":"display_data"
    },
    {
     "data":{
      "text\/html":[
       "<pre>%lt;0 x 0 matrix%gt;<\/pre>"
      ]
     },
     "metadata":{
      
     },
     "output_type":"display_data"
    }
   ],
   "metadata":{
    "datalore":{
     "node_id":"0pE5lTQtNtfT4ajZsDiG2N",
     "type":"CODE",
     "hide_input_from_viewers":false,
     "hide_output_from_viewers":false,
     "report_properties":{
      "y":135
     }
    }
   }
  },
  {
   "cell_type":"markdown",
   "source":[
    "# What the fastest flights from NYC flights 2013 ?\n",
    "\n"
   ],
   "attachments":{
    
   },
   "metadata":{
    "datalore":{
     "node_id":"uwnJqSIN3ktzHqwTNFvfW4",
     "type":"MD",
     "hide_input_from_viewers":false,
     "hide_output_from_viewers":false,
     "report_properties":{
      "y":138
     }
    }
   }
  },
  {
   "cell_type":"code",
   "source":[
    "flights %>%\n",
    "    group_by(carrier) %>%\n",
    "    summarise( max_distance = max(distance), \n",
    "    min_distance = min(distance), \n",
    "    mean_distance = mean(distance),\n",
    "    sum_distance = sum(distance) ) %>%\n",
    "    left_join(airlines , \"carrier\") %>%\n",
    "    arrange(carrier)\n",
    "    tibble()"
   ],
   "execution_count":10,
   "outputs":[
    {
     "data":{
      "text\/html":[
       "<table class=\"dataframe\">\n",
       "<caption>A tibble: 16 × 6<\/caption>\n",
       "<thead>\n",
       "\t<tr><th scope=col>carrier<\/th><th scope=col>max_distance<\/th><th scope=col>min_distance<\/th><th scope=col>mean_distance<\/th><th scope=col>sum_distance<\/th><th scope=col>name<\/th><\/tr>\n",
       "\t<tr><th scope=col>&lt;chr&gt;<\/th><th scope=col>&lt;int&gt;<\/th><th scope=col>&lt;int&gt;<\/th><th scope=col>&lt;dbl&gt;<\/th><th scope=col>&lt;int&gt;<\/th><th scope=col>&lt;chr&gt;<\/th><\/tr>\n",
       "<\/thead>\n",
       "<tbody>\n",
       "\t<tr><td>9E<\/td><td>1587<\/td><td>  94<\/td><td> 530.2358<\/td><td> 9788152<\/td><td>Endeavor Air Inc.          <\/td><\/tr>\n",
       "\t<tr><td>AA<\/td><td>2586<\/td><td> 187<\/td><td>1340.2360<\/td><td>43864584<\/td><td>American Airlines Inc.     <\/td><\/tr>\n",
       "\t<tr><td>AS<\/td><td>2402<\/td><td>2402<\/td><td>2402.0000<\/td><td> 1715028<\/td><td>Alaska Airlines Inc.       <\/td><\/tr>\n",
       "\t<tr><td>B6<\/td><td>2586<\/td><td> 173<\/td><td>1068.6215<\/td><td>58384137<\/td><td>JetBlue Airways            <\/td><\/tr>\n",
       "\t<tr><td>DL<\/td><td>2586<\/td><td>  94<\/td><td>1236.9012<\/td><td>59507317<\/td><td>Delta Air Lines Inc.       <\/td><\/tr>\n",
       "\t<tr><td>EV<\/td><td>1389<\/td><td>  80<\/td><td> 562.9917<\/td><td>30498951<\/td><td>ExpressJet Airlines Inc.   <\/td><\/tr>\n",
       "\t<tr><td>F9<\/td><td>1620<\/td><td>1620<\/td><td>1620.0000<\/td><td> 1109700<\/td><td>Frontier Airlines Inc.     <\/td><\/tr>\n",
       "\t<tr><td>FL<\/td><td> 762<\/td><td> 397<\/td><td> 664.8294<\/td><td> 2167344<\/td><td>AirTran Airways Corporation<\/td><\/tr>\n",
       "\t<tr><td>HA<\/td><td>4983<\/td><td>4983<\/td><td>4983.0000<\/td><td> 1704186<\/td><td>Hawaiian Airlines Inc.     <\/td><\/tr>\n",
       "\t<tr><td>MQ<\/td><td>1147<\/td><td> 184<\/td><td> 569.5327<\/td><td>15033955<\/td><td>Envoy Air                  <\/td><\/tr>\n",
       "\t<tr><td>OO<\/td><td>1008<\/td><td> 229<\/td><td> 500.8125<\/td><td>   16026<\/td><td>SkyWest Airlines Inc.      <\/td><\/tr>\n",
       "\t<tr><td>UA<\/td><td>4963<\/td><td> 116<\/td><td>1529.1149<\/td><td>89705524<\/td><td>United Air Lines Inc.      <\/td><\/tr>\n",
       "\t<tr><td>US<\/td><td>2153<\/td><td>  17<\/td><td> 553.4563<\/td><td>11365778<\/td><td>US Airways Inc.            <\/td><\/tr>\n",
       "\t<tr><td>VX<\/td><td>2586<\/td><td>2248<\/td><td>2499.4822<\/td><td>12902327<\/td><td>Virgin America             <\/td><\/tr>\n",
       "\t<tr><td>WN<\/td><td>2133<\/td><td> 169<\/td><td> 996.2691<\/td><td>12229203<\/td><td>Southwest Airlines Co.     <\/td><\/tr>\n",
       "\t<tr><td>YV<\/td><td> 544<\/td><td>  96<\/td><td> 375.0333<\/td><td>  225395<\/td><td>Mesa Airlines Inc.         <\/td><\/tr>\n",
       "<\/tbody>\n",
       "<\/table>\n"
      ]
     },
     "metadata":{
      
     },
     "output_type":"display_data"
    },
    {
     "data":{
      "text\/html":[
       "<pre>%lt;0 x 0 matrix%gt;<\/pre>"
      ]
     },
     "metadata":{
      
     },
     "output_type":"display_data"
    }
   ],
   "metadata":{
    "datalore":{
     "node_id":"nBC6rCruoGIjhV7HAvpUBA",
     "type":"CODE",
     "hide_input_from_viewers":false,
     "hide_output_from_viewers":false,
     "report_properties":{
      "y":141
     }
    }
   }
  },
  {
   "cell_type":"markdown",
   "source":[
    "# Top 3 route busy on promotion in Newyear by Southwest Airlines \n",
    "\n"
   ],
   "attachments":{
    
   },
   "metadata":{
    "datalore":{
     "node_id":"lqnMJWp6rubulwSmlLs2d7",
     "type":"MD",
     "hide_input_from_viewers":false,
     "hide_output_from_viewers":false,
     "report_properties":{
      "y":144
     }
    }
   }
  },
  {
   "cell_type":"code",
   "source":[
    "flights %>%\n",
    "  select(month, day, carrier, origin, dest) %>%\n",
    "  filter(month == 1, day == 1, carrier == \"WN\") %>%\n",
    "  left_join(airlines , \"carrier\") %>%\n",
    "  head(3)\n",
    "  tibble()"
   ],
   "execution_count":11,
   "outputs":[
    {
     "data":{
      "text\/html":[
       "<table class=\"dataframe\">\n",
       "<caption>A data.frame: 3 × 6<\/caption>\n",
       "<thead>\n",
       "\t<tr><th><\/th><th scope=col>month<\/th><th scope=col>day<\/th><th scope=col>carrier<\/th><th scope=col>origin<\/th><th scope=col>dest<\/th><th scope=col>name<\/th><\/tr>\n",
       "\t<tr><th><\/th><th scope=col>&lt;int&gt;<\/th><th scope=col>&lt;int&gt;<\/th><th scope=col>&lt;chr&gt;<\/th><th scope=col>&lt;chr&gt;<\/th><th scope=col>&lt;chr&gt;<\/th><th scope=col>&lt;chr&gt;<\/th><\/tr>\n",
       "<\/thead>\n",
       "<tbody>\n",
       "\t<tr><th scope=row>1<\/th><td>1<\/td><td>1<\/td><td>WN<\/td><td>LGA<\/td><td>BWI<\/td><td>Southwest Airlines Co.<\/td><\/tr>\n",
       "\t<tr><th scope=row>2<\/th><td>1<\/td><td>1<\/td><td>WN<\/td><td>LGA<\/td><td>DEN<\/td><td>Southwest Airlines Co.<\/td><\/tr>\n",
       "\t<tr><th scope=row>3<\/th><td>1<\/td><td>1<\/td><td>WN<\/td><td>EWR<\/td><td>MDW<\/td><td>Southwest Airlines Co.<\/td><\/tr>\n",
       "<\/tbody>\n",
       "<\/table>\n"
      ]
     },
     "metadata":{
      
     },
     "output_type":"display_data"
    },
    {
     "data":{
      "text\/html":[
       "<pre>%lt;0 x 0 matrix%gt;<\/pre>"
      ]
     },
     "metadata":{
      
     },
     "output_type":"display_data"
    }
   ],
   "metadata":{
    "datalore":{
     "node_id":"dTF5COTtoipnb4o5nd1Evq",
     "type":"CODE",
     "hide_input_from_viewers":false,
     "hide_output_from_viewers":false,
     "report_properties":{
      "y":147
     }
    }
   }
  },
  {
   "cell_type":"markdown",
   "source":[
    " #  Find  Max, Min, Average and sum distance for each carrier ?"
   ],
   "attachments":{
    
   },
   "metadata":{
    "datalore":{
     "node_id":"yS0u63l9m9aDWGDRVAgxDQ",
     "type":"MD",
     "hide_input_from_viewers":false,
     "hide_output_from_viewers":false,
     "report_properties":{
      "y":150
     }
    }
   }
  },
  {
   "cell_type":"code",
   "source":[
    "flights %>%\n",
    "    group_by(carrier) %>%\n",
    "    summarise( max_distance = max(distance), \n",
    "    min_distance = min(distance), \n",
    "    mean_distance = mean(distance),\n",
    "    sum_distance = sum(distance) ) %>%\n",
    "    arrange(carrier)\n",
    "    tibble()"
   ],
   "execution_count":12,
   "outputs":[
    {
     "data":{
      "text\/html":[
       "<table class=\"dataframe\">\n",
       "<caption>A tibble: 16 × 5<\/caption>\n",
       "<thead>\n",
       "\t<tr><th scope=col>carrier<\/th><th scope=col>max_distance<\/th><th scope=col>min_distance<\/th><th scope=col>mean_distance<\/th><th scope=col>sum_distance<\/th><\/tr>\n",
       "\t<tr><th scope=col>&lt;chr&gt;<\/th><th scope=col>&lt;int&gt;<\/th><th scope=col>&lt;int&gt;<\/th><th scope=col>&lt;dbl&gt;<\/th><th scope=col>&lt;int&gt;<\/th><\/tr>\n",
       "<\/thead>\n",
       "<tbody>\n",
       "\t<tr><td>9E<\/td><td>1587<\/td><td>  94<\/td><td> 530.2358<\/td><td> 9788152<\/td><\/tr>\n",
       "\t<tr><td>AA<\/td><td>2586<\/td><td> 187<\/td><td>1340.2360<\/td><td>43864584<\/td><\/tr>\n",
       "\t<tr><td>AS<\/td><td>2402<\/td><td>2402<\/td><td>2402.0000<\/td><td> 1715028<\/td><\/tr>\n",
       "\t<tr><td>B6<\/td><td>2586<\/td><td> 173<\/td><td>1068.6215<\/td><td>58384137<\/td><\/tr>\n",
       "\t<tr><td>DL<\/td><td>2586<\/td><td>  94<\/td><td>1236.9012<\/td><td>59507317<\/td><\/tr>\n",
       "\t<tr><td>EV<\/td><td>1389<\/td><td>  80<\/td><td> 562.9917<\/td><td>30498951<\/td><\/tr>\n",
       "\t<tr><td>F9<\/td><td>1620<\/td><td>1620<\/td><td>1620.0000<\/td><td> 1109700<\/td><\/tr>\n",
       "\t<tr><td>FL<\/td><td> 762<\/td><td> 397<\/td><td> 664.8294<\/td><td> 2167344<\/td><\/tr>\n",
       "\t<tr><td>HA<\/td><td>4983<\/td><td>4983<\/td><td>4983.0000<\/td><td> 1704186<\/td><\/tr>\n",
       "\t<tr><td>MQ<\/td><td>1147<\/td><td> 184<\/td><td> 569.5327<\/td><td>15033955<\/td><\/tr>\n",
       "\t<tr><td>OO<\/td><td>1008<\/td><td> 229<\/td><td> 500.8125<\/td><td>   16026<\/td><\/tr>\n",
       "\t<tr><td>UA<\/td><td>4963<\/td><td> 116<\/td><td>1529.1149<\/td><td>89705524<\/td><\/tr>\n",
       "\t<tr><td>US<\/td><td>2153<\/td><td>  17<\/td><td> 553.4563<\/td><td>11365778<\/td><\/tr>\n",
       "\t<tr><td>VX<\/td><td>2586<\/td><td>2248<\/td><td>2499.4822<\/td><td>12902327<\/td><\/tr>\n",
       "\t<tr><td>WN<\/td><td>2133<\/td><td> 169<\/td><td> 996.2691<\/td><td>12229203<\/td><\/tr>\n",
       "\t<tr><td>YV<\/td><td> 544<\/td><td>  96<\/td><td> 375.0333<\/td><td>  225395<\/td><\/tr>\n",
       "<\/tbody>\n",
       "<\/table>\n"
      ]
     },
     "metadata":{
      
     },
     "output_type":"display_data"
    },
    {
     "data":{
      "text\/html":[
       "<pre>%lt;0 x 0 matrix%gt;<\/pre>"
      ]
     },
     "metadata":{
      
     },
     "output_type":"display_data"
    }
   ],
   "metadata":{
    "datalore":{
     "node_id":"7urjwzufyB0vcgE0LHCE0Q",
     "type":"CODE",
     "hide_input_from_viewers":false,
     "hide_output_from_viewers":false,
     "report_properties":{
      "y":153
     }
    }
   }
  },
  {
   "cell_type":"markdown",
   "source":[
    " # In 2013 Which carrier had most delayed flights from top 100  ? "
   ],
   "attachments":{
    
   },
   "metadata":{
    "datalore":{
     "node_id":"i68u5QqmHUsSXPqLpmCITX",
     "type":"MD",
     "hide_input_from_viewers":false,
     "hide_output_from_viewers":false,
     "report_properties":{
      "y":156
     }
    }
   }
  },
  {
   "cell_type":"code",
   "source":[
    "flights %>%\n",
    "    filter(year == 2013) %>%\n",
    "    arrange(desc(arr_delay)) %>%\n",
    "    head(100) %>%\n",
    "    count(carrier) %>%\n",
    "    inner_join(airlines, by = \"carrier\") %>%\n",
    "    arrange(desc(n))"
   ],
   "execution_count":13,
   "outputs":[
    {
     "data":{
      "text\/html":[
       "<table class=\"dataframe\">\n",
       "<caption>A data.frame: 13 × 3<\/caption>\n",
       "<thead>\n",
       "\t<tr><th scope=col>carrier<\/th><th scope=col>n<\/th><th scope=col>name<\/th><\/tr>\n",
       "\t<tr><th scope=col>&lt;chr&gt;<\/th><th scope=col>&lt;int&gt;<\/th><th scope=col>&lt;chr&gt;<\/th><\/tr>\n",
       "<\/thead>\n",
       "<tbody>\n",
       "\t<tr><td>DL<\/td><td>36<\/td><td>Delta Air Lines Inc.       <\/td><\/tr>\n",
       "\t<tr><td>AA<\/td><td>17<\/td><td>American Airlines Inc.     <\/td><\/tr>\n",
       "\t<tr><td>EV<\/td><td>14<\/td><td>ExpressJet Airlines Inc.   <\/td><\/tr>\n",
       "\t<tr><td>MQ<\/td><td> 9<\/td><td>Envoy Air                  <\/td><\/tr>\n",
       "\t<tr><td>FL<\/td><td> 6<\/td><td>AirTran Airways Corporation<\/td><\/tr>\n",
       "\t<tr><td>UA<\/td><td> 4<\/td><td>United Air Lines Inc.      <\/td><\/tr>\n",
       "\t<tr><td>B6<\/td><td> 3<\/td><td>JetBlue Airways            <\/td><\/tr>\n",
       "\t<tr><td>VX<\/td><td> 3<\/td><td>Virgin America             <\/td><\/tr>\n",
       "\t<tr><td>9E<\/td><td> 2<\/td><td>Endeavor Air Inc.          <\/td><\/tr>\n",
       "\t<tr><td>US<\/td><td> 2<\/td><td>US Airways Inc.            <\/td><\/tr>\n",
       "\t<tr><td>WN<\/td><td> 2<\/td><td>Southwest Airlines Co.     <\/td><\/tr>\n",
       "\t<tr><td>F9<\/td><td> 1<\/td><td>Frontier Airlines Inc.     <\/td><\/tr>\n",
       "\t<tr><td>HA<\/td><td> 1<\/td><td>Hawaiian Airlines Inc.     <\/td><\/tr>\n",
       "<\/tbody>\n",
       "<\/table>\n"
      ]
     },
     "metadata":{
      
     },
     "output_type":"display_data"
    }
   ],
   "metadata":{
    "datalore":{
     "node_id":"t0cmpLcQpgHZ2rYqu2Pxxm",
     "type":"CODE",
     "hide_input_from_viewers":false,
     "hide_output_from_viewers":false,
     "report_properties":{
      "y":159
     }
    }
   }
  },
  {
   "cell_type":"markdown",
   "source":[
    "#  How many flight each month in 2013 from High to Low ?"
   ],
   "attachments":{
    
   },
   "metadata":{
    "datalore":{
     "node_id":"nrWxtvZM6WxrcFX1o8kbLv",
     "type":"MD",
     "hide_input_from_viewers":false,
     "hide_output_from_viewers":false,
     "report_properties":{
      "y":162
     }
    }
   }
  },
  {
   "cell_type":"code",
   "source":[
    "    flights %>%\n",
    "    group_by(month) %>%\n",
    "    summarise(total_flight = n()) %>%\n",
    "    arrange(desc(total_flight)) %>%\n",
    "    head(12)\n",
    "    tibble()"
   ],
   "execution_count":36,
   "outputs":[
    {
     "data":{
      "text\/html":[
       "<table class=\"dataframe\">\n",
       "<caption>A tibble: 12 × 2<\/caption>\n",
       "<thead>\n",
       "\t<tr><th scope=col>month<\/th><th scope=col>total_flight<\/th><\/tr>\n",
       "\t<tr><th scope=col>&lt;int&gt;<\/th><th scope=col>&lt;int&gt;<\/th><\/tr>\n",
       "<\/thead>\n",
       "<tbody>\n",
       "\t<tr><td> 7<\/td><td>29425<\/td><\/tr>\n",
       "\t<tr><td> 8<\/td><td>29327<\/td><\/tr>\n",
       "\t<tr><td>10<\/td><td>28889<\/td><\/tr>\n",
       "\t<tr><td> 3<\/td><td>28834<\/td><\/tr>\n",
       "\t<tr><td> 5<\/td><td>28796<\/td><\/tr>\n",
       "\t<tr><td> 4<\/td><td>28330<\/td><\/tr>\n",
       "\t<tr><td> 6<\/td><td>28243<\/td><\/tr>\n",
       "\t<tr><td>12<\/td><td>28135<\/td><\/tr>\n",
       "\t<tr><td> 9<\/td><td>27574<\/td><\/tr>\n",
       "\t<tr><td>11<\/td><td>27268<\/td><\/tr>\n",
       "\t<tr><td> 1<\/td><td>27004<\/td><\/tr>\n",
       "\t<tr><td> 2<\/td><td>24951<\/td><\/tr>\n",
       "<\/tbody>\n",
       "<\/table>\n"
      ]
     },
     "metadata":{
      
     },
     "output_type":"display_data"
    },
    {
     "data":{
      "text\/html":[
       "<pre>%lt;0 x 0 matrix%gt;<\/pre>"
      ]
     },
     "metadata":{
      
     },
     "output_type":"display_data"
    }
   ],
   "metadata":{
    "datalore":{
     "node_id":"UM4bTxGroX85ulETywdfWP",
     "type":"CODE",
     "hide_input_from_viewers":false,
     "hide_output_from_viewers":false,
     "report_properties":{
      "y":165
     }
    }
   }
  },
  {
   "cell_type":"markdown",
   "source":[
    "# Creat gg plot Relationship between each month and their total air time ?"
   ],
   "attachments":{
    
   },
   "metadata":{
    "datalore":{
     "node_id":"rEjzJyogLbk52FcZxjdVTT",
     "type":"MD",
     "hide_input_from_viewers":false,
     "hide_output_from_viewers":false,
     "report_properties":{
      "y":168
     }
    }
   }
  },
  {
   "cell_type":"markdown",
   "source":[
    "https:\/\/datarockie.com\/blog\/your-first-ggplot2-visualization\/ "
   ],
   "attachments":{
    
   },
   "metadata":{
    "datalore":{
     "node_id":"NuM3YjVwQnk2Fvx3tqZnOf",
     "type":"MD",
     "hide_input_from_viewers":false,
     "hide_output_from_viewers":false,
     "report_properties":{
      "y":171
     }
    }
   }
  },
  {
   "cell_type":"code",
   "source":[
    "joi_plot <- flights %>% \n",
    "group_by(month) %>%\n",
    "select(month, air_time) %>%\n",
    "summarize(air_time = n()) %>%\n",
    " arrange(desc(air_time))\n",
    "\n",
    "\n",
    "joi_plot %>% head(12)\n",
    "\n"
   ],
   "execution_count":58,
   "outputs":[
    {
     "data":{
      "text\/html":[
       "<table class=\"dataframe\">\n",
       "<caption>A tibble: 12 × 2<\/caption>\n",
       "<thead>\n",
       "\t<tr><th scope=col>month<\/th><th scope=col>air_time<\/th><\/tr>\n",
       "\t<tr><th scope=col>&lt;int&gt;<\/th><th scope=col>&lt;int&gt;<\/th><\/tr>\n",
       "<\/thead>\n",
       "<tbody>\n",
       "\t<tr><td> 7<\/td><td>29425<\/td><\/tr>\n",
       "\t<tr><td> 8<\/td><td>29327<\/td><\/tr>\n",
       "\t<tr><td>10<\/td><td>28889<\/td><\/tr>\n",
       "\t<tr><td> 3<\/td><td>28834<\/td><\/tr>\n",
       "\t<tr><td> 5<\/td><td>28796<\/td><\/tr>\n",
       "\t<tr><td> 4<\/td><td>28330<\/td><\/tr>\n",
       "\t<tr><td> 6<\/td><td>28243<\/td><\/tr>\n",
       "\t<tr><td>12<\/td><td>28135<\/td><\/tr>\n",
       "\t<tr><td> 9<\/td><td>27574<\/td><\/tr>\n",
       "\t<tr><td>11<\/td><td>27268<\/td><\/tr>\n",
       "\t<tr><td> 1<\/td><td>27004<\/td><\/tr>\n",
       "\t<tr><td> 2<\/td><td>24951<\/td><\/tr>\n",
       "<\/tbody>\n",
       "<\/table>\n"
      ]
     },
     "metadata":{
      
     },
     "output_type":"display_data"
    }
   ],
   "metadata":{
    "datalore":{
     "node_id":"eQp6kyPncLxdBqbZTbpr9m",
     "type":"CODE",
     "hide_input_from_viewers":false,
     "hide_output_from_viewers":false,
     "report_properties":{
      "y":174
     }
    }
   }
  },
  {
   "cell_type":"code",
   "source":[
    "ggplot(joi_plot, aes(fill = month)) + \n",
    "    geom_col(aes(month,air_time)) +\n",
    "    theme_minimal()+\n",
    "  labs(title = \"Relationship between each month and their total air time\",\n",
    "       x =\"month\", y=\" Total Air Time\",\n",
    "       caption = \"Source: flights from ggplots2 package\")"
   ],
   "execution_count":59,
   "outputs":[
    {
     "data":{
      "image\/png":"[encoded data removed]"
     },
     "metadata":{
      "image\/png":{
       "width":420,
       "height":420
      }
     },
     "output_type":"display_data"
    }
   ],
   "metadata":{
    "datalore":{
     "node_id":"KeaGG1YXRTW9Lvw63pGQRV",
     "type":"CODE",
     "hide_input_from_viewers":false,
     "hide_output_from_viewers":false,
     "report_properties":{
      "y":177
     }
    }
   }
  },
  {
   "cell_type":"markdown",
   "source":[
    "# How many departure time status on time , delay , cancelled flights in 2013? "
   ],
   "attachments":{
    
   },
   "metadata":{
    "datalore":{
     "node_id":"GoNY2J3cK0gwpy5iqPgcRN",
     "type":"MD",
     "hide_input_from_viewers":false,
     "hide_output_from_viewers":false,
     "report_properties":{
      "y":180
     }
    }
   }
  },
  {
   "cell_type":"code",
   "source":[
    "flights %>% \n",
    "  select(flight, origin, dest, sched_dep_time, arr_delay) %>%\n",
    "  mutate(Status_dep = case_when( arr_delay  <= 0   ~  \" Flight on time \" ,  \n",
    "                                 arr_delay  >= 0   ~  \" Flight Delay   \" , \n",
    "                                TRUE ~ \"Flight cancelled\")) %>%\n",
    "  count ( Status_dep) %>%                              \n",
    "  rename( Flight_status = n)\n",
    "  tibble()"
   ],
   "execution_count":33,
   "outputs":[
    {
     "data":{
      "text\/html":[
       "<table class=\"dataframe\">\n",
       "<caption>A data.frame: 3 × 2<\/caption>\n",
       "<thead>\n",
       "\t<tr><th scope=col>Status_dep<\/th><th scope=col>Flight_status<\/th><\/tr>\n",
       "\t<tr><th scope=col>&lt;chr&gt;<\/th><th scope=col>&lt;int&gt;<\/th><\/tr>\n",
       "<\/thead>\n",
       "<tbody>\n",
       "\t<tr><td> Flight Delay   <\/td><td>133004<\/td><\/tr>\n",
       "\t<tr><td> Flight on time <\/td><td>194342<\/td><\/tr>\n",
       "\t<tr><td>Flight cancelled<\/td><td>  9430<\/td><\/tr>\n",
       "<\/tbody>\n",
       "<\/table>\n"
      ]
     },
     "metadata":{
      
     },
     "output_type":"display_data"
    },
    {
     "data":{
      "text\/html":[
       "<pre>%lt;0 x 0 matrix%gt;<\/pre>"
      ]
     },
     "metadata":{
      
     },
     "output_type":"display_data"
    }
   ],
   "metadata":{
    "datalore":{
     "node_id":"uf23G6QjcDazuNFooA2WNF",
     "type":"CODE",
     "hide_input_from_viewers":false,
     "hide_output_from_viewers":false,
     "report_properties":{
      "y":183
     }
    }
   }
  },
  {
   "cell_type":"markdown",
   "source":[
    "# Find carrier that velocity in top 3  ? \n",
    "  v = s \/ t \n",
    "\n",
    "  s = dest \n",
    "  t = air_time"
   ],
   "attachments":{
    
   },
   "metadata":{
    "datalore":{
     "node_id":"FEnjXLnpxUczG6PySnjRbT",
     "type":"MD",
     "hide_input_from_viewers":false,
     "hide_output_from_viewers":false,
     "report_properties":{
      "y":186
     }
    }
   }
  },
  {
   "cell_type":"code",
   "source":[
    "flights %>%\n",
    "    select( carrier ,flight, distance, air_time) %>%\n",
    "    inner_join(airlines, by = \"carrier\") %>%\n",
    "    mutate(velocity = distance\/air_time) %>%\n",
    "    arrange(desc(velocity)) %>%\n",
    "    head(5)\n",
    "    tibble()"
   ],
   "execution_count":16,
   "outputs":[
    {
     "data":{
      "text\/html":[
       "<table class=\"dataframe\">\n",
       "<caption>A data.frame: 5 × 6<\/caption>\n",
       "<thead>\n",
       "\t<tr><th><\/th><th scope=col>carrier<\/th><th scope=col>flight<\/th><th scope=col>distance<\/th><th scope=col>air_time<\/th><th scope=col>name<\/th><th scope=col>velocity<\/th><\/tr>\n",
       "\t<tr><th><\/th><th scope=col>&lt;chr&gt;<\/th><th scope=col>&lt;int&gt;<\/th><th scope=col>&lt;int&gt;<\/th><th scope=col>&lt;int&gt;<\/th><th scope=col>&lt;chr&gt;<\/th><th scope=col>&lt;dbl&gt;<\/th><\/tr>\n",
       "<\/thead>\n",
       "<tbody>\n",
       "\t<tr><th scope=row>1<\/th><td>DL<\/td><td>1499<\/td><td> 762<\/td><td> 65<\/td><td>Delta Air Lines Inc.    <\/td><td>11.723077<\/td><\/tr>\n",
       "\t<tr><th scope=row>2<\/th><td>EV<\/td><td>4667<\/td><td>1008<\/td><td> 93<\/td><td>ExpressJet Airlines Inc.<\/td><td>10.838710<\/td><\/tr>\n",
       "\t<tr><th scope=row>3<\/th><td>EV<\/td><td>4292<\/td><td> 594<\/td><td> 55<\/td><td>ExpressJet Airlines Inc.<\/td><td>10.800000<\/td><\/tr>\n",
       "\t<tr><th scope=row>4<\/th><td>EV<\/td><td>3805<\/td><td> 748<\/td><td> 70<\/td><td>ExpressJet Airlines Inc.<\/td><td>10.685714<\/td><\/tr>\n",
       "\t<tr><th scope=row>5<\/th><td>DL<\/td><td>1902<\/td><td>1035<\/td><td>105<\/td><td>Delta Air Lines Inc.    <\/td><td> 9.857143<\/td><\/tr>\n",
       "<\/tbody>\n",
       "<\/table>\n"
      ]
     },
     "metadata":{
      
     },
     "output_type":"display_data"
    },
    {
     "data":{
      "text\/html":[
       "<pre>%lt;0 x 0 matrix%gt;<\/pre>"
      ]
     },
     "metadata":{
      
     },
     "output_type":"display_data"
    }
   ],
   "metadata":{
    "datalore":{
     "node_id":"1QSKGkgFT5Gd2xrigaAnak",
     "type":"CODE",
     "hide_input_from_viewers":false,
     "hide_output_from_viewers":false,
     "report_properties":{
      "y":189
     }
    }
   }
  },
  {
   "cell_type":"code",
   "source":[
    "flights %>%\n",
    "    inner_join(planes, \"tailnum\") %>%\n",
    "    count(manufacturer)  %>%\n",
    "    arrange(desc(n))\n",
    "    tibble ()"
   ],
   "execution_count":17,
   "outputs":[
    {
     "data":{
      "text\/html":[
       "<table class=\"dataframe\">\n",
       "<caption>A data.frame: 35 × 2<\/caption>\n",
       "<thead>\n",
       "\t<tr><th scope=col>manufacturer<\/th><th scope=col>n<\/th><\/tr>\n",
       "\t<tr><th scope=col>&lt;chr&gt;<\/th><th scope=col>&lt;int&gt;<\/th><\/tr>\n",
       "<\/thead>\n",
       "<tbody>\n",
       "\t<tr><td>BOEING                       <\/td><td>82912<\/td><\/tr>\n",
       "\t<tr><td>EMBRAER                      <\/td><td>66068<\/td><\/tr>\n",
       "\t<tr><td>AIRBUS                       <\/td><td>47302<\/td><\/tr>\n",
       "\t<tr><td>AIRBUS INDUSTRIE             <\/td><td>40891<\/td><\/tr>\n",
       "\t<tr><td>BOMBARDIER INC               <\/td><td>28272<\/td><\/tr>\n",
       "\t<tr><td>MCDONNELL DOUGLAS AIRCRAFT CO<\/td><td> 8932<\/td><\/tr>\n",
       "\t<tr><td>MCDONNELL DOUGLAS            <\/td><td> 3998<\/td><\/tr>\n",
       "\t<tr><td>CANADAIR                     <\/td><td> 1594<\/td><\/tr>\n",
       "\t<tr><td>MCDONNELL DOUGLAS CORPORATION<\/td><td> 1259<\/td><\/tr>\n",
       "\t<tr><td>CESSNA                       <\/td><td>  658<\/td><\/tr>\n",
       "\t<tr><td>GULFSTREAM AEROSPACE         <\/td><td>  499<\/td><\/tr>\n",
       "\t<tr><td>CIRRUS DESIGN CORP           <\/td><td>  291<\/td><\/tr>\n",
       "\t<tr><td>ROBINSON HELICOPTER CO       <\/td><td>  286<\/td><\/tr>\n",
       "\t<tr><td>BARKER JACK L                <\/td><td>  252<\/td><\/tr>\n",
       "\t<tr><td>PIPER                        <\/td><td>  162<\/td><\/tr>\n",
       "\t<tr><td>CANADAIR LTD                 <\/td><td>  103<\/td><\/tr>\n",
       "\t<tr><td>BELL                         <\/td><td>   65<\/td><\/tr>\n",
       "\t<tr><td>DEHAVILLAND                  <\/td><td>   63<\/td><\/tr>\n",
       "\t<tr><td>FRIEDEMANN JON               <\/td><td>   63<\/td><\/tr>\n",
       "\t<tr><td>STEWART MACO                 <\/td><td>   55<\/td><\/tr>\n",
       "\t<tr><td>LAMBERT RICHARD              <\/td><td>   54<\/td><\/tr>\n",
       "\t<tr><td>KILDALL GARY                 <\/td><td>   51<\/td><\/tr>\n",
       "\t<tr><td>BEECH                        <\/td><td>   47<\/td><\/tr>\n",
       "\t<tr><td>MARZ BARRY                   <\/td><td>   44<\/td><\/tr>\n",
       "\t<tr><td>AMERICAN AIRCRAFT INC        <\/td><td>   42<\/td><\/tr>\n",
       "\t<tr><td>LEBLANC GLENN T              <\/td><td>   40<\/td><\/tr>\n",
       "\t<tr><td>AGUSTA SPA                   <\/td><td>   32<\/td><\/tr>\n",
       "\t<tr><td>SIKORSKY                     <\/td><td>   27<\/td><\/tr>\n",
       "\t<tr><td>PAIR MIKE E                  <\/td><td>   25<\/td><\/tr>\n",
       "\t<tr><td>DOUGLAS                      <\/td><td>   22<\/td><\/tr>\n",
       "\t<tr><td>LEARJET INC                  <\/td><td>   19<\/td><\/tr>\n",
       "\t<tr><td>AVIAT AIRCRAFT INC           <\/td><td>   18<\/td><\/tr>\n",
       "\t<tr><td>HURLEY JAMES LARRY           <\/td><td>   17<\/td><\/tr>\n",
       "\t<tr><td>AVIONS MARCEL DASSAULT       <\/td><td>    4<\/td><\/tr>\n",
       "\t<tr><td>JOHN G HESS                  <\/td><td>    3<\/td><\/tr>\n",
       "<\/tbody>\n",
       "<\/table>\n"
      ]
     },
     "metadata":{
      
     },
     "output_type":"display_data"
    },
    {
     "data":{
      "text\/html":[
       "<pre>%lt;0 x 0 matrix%gt;<\/pre>"
      ]
     },
     "metadata":{
      
     },
     "output_type":"display_data"
    }
   ],
   "metadata":{
    "datalore":{
     "node_id":"r0mTwHYdjEqQMca3tB4BHT",
     "type":"CODE",
     "hide_input_from_viewers":false,
     "hide_output_from_viewers":false,
     "report_properties":{
      "y":192
     }
    }
   }
  }
 ],
 "metadata":{
  "kernelspec":{
   "display_name":"R",
   "language":"r",
   "name":"ir"
  },
  "datalore":{
   "version":1,
   "computation_mode":"JUPYTER",
   "package_manager":"conda",
   "base_environment":"minimal",
   "packages":[
    
   ]
  }
 },
 "nbformat":4,
 "nbformat_minor":4
}